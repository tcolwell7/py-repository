{
 "cells": [
  {
   "cell_type": "markdown",
   "metadata": {},
   "source": [
    "## 03_functions notebook"
   ]
  },
  {
   "cell_type": "markdown",
   "metadata": {},
   "source": [
    "##### This notebook will cover the basics in creating simple and more complex functions. Conditional logic is intorduced in function creation and the importance of ensuring the code \"indention\" is correct. Not correctly indenting my code when writing functions and caused me alot of headaches. "
   ]
  },
  {
   "cell_type": "markdown",
   "metadata": {},
   "source": [
    "Topics covered:\n",
    "\n",
    "**1. Creating Functions**\n",
    "* defining a basic function\n",
    "* Multiple function arguments\n",
    "\n",
    "\n",
    "**2. Conditional logic** \n",
    "* combining conditional logic in functions\n",
    "* code indent issue examples\n"
   ]
  },
  {
   "cell_type": "markdown",
   "metadata": {},
   "source": [
    " "
   ]
  },
  {
   "cell_type": "code",
   "execution_count": 1,
   "metadata": {},
   "outputs": [
    {
     "name": "stdout",
     "output_type": "stream",
     "text": [
      "Looking in indexes: https://s3-eu-west-2.amazonaws.com/mirrors.notebook.uktrade.io/pypi/\n",
      "Collecting openpyxl\n",
      "  Downloading https://s3-eu-west-2.amazonaws.com/mirrors.notebook.uktrade.io/pypi/openpyxl/openpyxl-3.0.10-py2.py3-none-any.whl (242 kB)\n",
      "\u001b[2K     \u001b[90m━━━━━━━━━━━━━━━━━━━━━━━━━━━━━━━━━━━━━\u001b[0m \u001b[32m242.1/242.1 kB\u001b[0m \u001b[31m112.4 MB/s\u001b[0m eta \u001b[36m0:00:00\u001b[0m\n",
      "\u001b[?25hCollecting et-xmlfile\n",
      "  Downloading https://s3-eu-west-2.amazonaws.com/mirrors.notebook.uktrade.io/pypi/et-xmlfile/et_xmlfile-1.1.0-py3-none-any.whl (4.7 kB)\n",
      "Installing collected packages: et-xmlfile, openpyxl\n",
      "Successfully installed et-xmlfile-1.1.0 openpyxl-3.0.10\n",
      "\u001b[33mWARNING: There was an error checking the latest version of pip.\u001b[0m\u001b[33m\n",
      "\u001b[0m"
     ]
    }
   ],
   "source": [
    "# Set up\n",
    "\n",
    "# pandas and numpy are universally used in python, like tidyverse is in R. \n",
    "import pandas as pd\n",
    "import numpy as np\n",
    "\n",
    "!pip install openpyxl\n",
    "\n",
    "# chnage from scientific notation \n",
    "pd.set_option('display.float_format', lambda x: '%.5f' % x)\n",
    "\n",
    "trade = pd.read_excel(\"data/trade_data.xlsx\") # upload xlsxl\n",
    "tariff = pd.read_excel(\"data/tariff_data.xlsx\")\n",
    "uk_trqs = pd.read_csv(\"data/uk_trqs.csv\",dtype={'quota__order_number': str})\n",
    "\n",
    "trade.columns = trade.columns.str.lower().str.replace(\" \",\"_\")"
   ]
  },
  {
   "cell_type": "markdown",
   "metadata": {},
   "source": [
    " "
   ]
  },
  {
   "cell_type": "markdown",
   "metadata": {},
   "source": [
    "### 1. Creating functions"
   ]
  },
  {
   "cell_type": "code",
   "execution_count": 6,
   "metadata": {},
   "outputs": [],
   "source": [
    "# defining a simple function\n",
    "\n",
    "def simple_function():\n",
    "    print(\"Simple none argument function\")"
   ]
  },
  {
   "cell_type": "code",
   "execution_count": 7,
   "metadata": {},
   "outputs": [
    {
     "name": "stdout",
     "output_type": "stream",
     "text": [
      "Simple none argument function\n"
     ]
    }
   ],
   "source": [
    "simple_function()"
   ]
  },
  {
   "cell_type": "code",
   "execution_count": 8,
   "metadata": {},
   "outputs": [],
   "source": [
    "# simple function with one argument\n",
    "def simple_function(arg):\n",
    "    print(\"Simple function with one argument: \"+arg)"
   ]
  },
  {
   "cell_type": "code",
   "execution_count": 9,
   "metadata": {},
   "outputs": [
    {
     "name": "stdout",
     "output_type": "stream",
     "text": [
      "Simple function with one argument: My first argument\n"
     ]
    }
   ],
   "source": [
    "simple_function(\"My first argument\")"
   ]
  },
  {
   "cell_type": "code",
   "execution_count": 10,
   "metadata": {},
   "outputs": [],
   "source": [
    "# multiple arguments:\n",
    "def multi_arg_function(arg1, arg2, arg3):\n",
    "    print(arg1)\n",
    "    print(arg2)\n",
    "    print(arg3)"
   ]
  },
  {
   "cell_type": "code",
   "execution_count": 11,
   "metadata": {},
   "outputs": [
    {
     "name": "stdout",
     "output_type": "stream",
     "text": [
      "100\n",
      "Test argument\n",
      "Argument 3\n"
     ]
    }
   ],
   "source": [
    "multi_arg_function(100,\"Test argument\", \"Argument 3\")"
   ]
  },
  {
   "cell_type": "code",
   "execution_count": 12,
   "metadata": {},
   "outputs": [
    {
     "ename": "TypeError",
     "evalue": "multi_arg_function() missing 1 required positional argument: 'arg3'",
     "output_type": "error",
     "traceback": [
      "\u001b[0;31m---------------------------------------------------------------------------\u001b[0m",
      "\u001b[0;31mTypeError\u001b[0m                                 Traceback (most recent call last)",
      "\u001b[0;32m<ipython-input-12-9ad5a8331834>\u001b[0m in \u001b[0;36m<module>\u001b[0;34m\u001b[0m\n\u001b[0;32m----> 1\u001b[0;31m \u001b[0mmulti_arg_function\u001b[0m\u001b[0;34m(\u001b[0m\u001b[0;36m100\u001b[0m\u001b[0;34m,\u001b[0m\u001b[0;34m\"Test argument\"\u001b[0m\u001b[0;34m)\u001b[0m\u001b[0;34m\u001b[0m\u001b[0;34m\u001b[0m\u001b[0m\n\u001b[0m",
      "\u001b[0;31mTypeError\u001b[0m: multi_arg_function() missing 1 required positional argument: 'arg3'"
     ]
    }
   ],
   "source": [
    "multi_arg_function(100,\"Test argument\")"
   ]
  },
  {
   "cell_type": "markdown",
   "metadata": {},
   "source": [
    "Notice the error as the third argument hasn't been populated in the function. We can set arguments to null values so this doens't happen and own't break the code."
   ]
  },
  {
   "cell_type": "code",
   "execution_count": 13,
   "metadata": {},
   "outputs": [],
   "source": [
    "def multi_arg_function(arg1, arg2, arg3 = None):\n",
    "    print(arg1)\n",
    "    print(arg2)\n",
    "    print(arg3)"
   ]
  },
  {
   "cell_type": "code",
   "execution_count": 14,
   "metadata": {},
   "outputs": [
    {
     "name": "stdout",
     "output_type": "stream",
     "text": [
      "100\n",
      "Test argument\n",
      "None\n"
     ]
    }
   ],
   "source": [
    "multi_arg_function(100,\"Test argument\")"
   ]
  },
  {
   "cell_type": "markdown",
   "metadata": {},
   "source": [
    "#### Function for data manipulation"
   ]
  },
  {
   "cell_type": "markdown",
   "metadata": {},
   "source": [
    "It is nice and easy to define a simple function to print values. In reality we need to write functions to apply to real-world data. Using the trade data set I will dmeonstrate creating a function to manipulate this data set based on the user defined arguments and returning multiple outputs. "
   ]
  },
  {
   "cell_type": "code",
   "execution_count": 16,
   "metadata": {},
   "outputs": [
    {
     "name": "stdout",
     "output_type": "stream",
     "text": [
      "<class 'pandas.core.frame.DataFrame'>\n",
      "RangeIndex: 41142 entries, 0 to 41141\n",
      "Data columns (total 7 columns):\n",
      " #   Column             Non-Null Count  Dtype  \n",
      "---  ------             --------------  -----  \n",
      " 0   year               41142 non-null  int64  \n",
      " 1   flow               41142 non-null  object \n",
      " 2   commodity_code     41142 non-null  object \n",
      " 3   country_code       41142 non-null  object \n",
      " 4   country_name       41142 non-null  object \n",
      " 5   value_gbp          41142 non-null  int64  \n",
      " 6   suppression_notes  0 non-null      float64\n",
      "dtypes: float64(1), int64(2), object(4)\n",
      "memory usage: 2.2+ MB\n"
     ]
    }
   ],
   "source": [
    "trade.info()"
   ]
  },
  {
   "cell_type": "code",
   "execution_count": 17,
   "metadata": {},
   "outputs": [
    {
     "data": {
      "text/html": [
       "<div>\n",
       "<style scoped>\n",
       "    .dataframe tbody tr th:only-of-type {\n",
       "        vertical-align: middle;\n",
       "    }\n",
       "\n",
       "    .dataframe tbody tr th {\n",
       "        vertical-align: top;\n",
       "    }\n",
       "\n",
       "    .dataframe thead th {\n",
       "        text-align: right;\n",
       "    }\n",
       "</style>\n",
       "<table border=\"1\" class=\"dataframe\">\n",
       "  <thead>\n",
       "    <tr style=\"text-align: right;\">\n",
       "      <th></th>\n",
       "      <th>year</th>\n",
       "      <th>flow</th>\n",
       "      <th>commodity_code</th>\n",
       "      <th>country_code</th>\n",
       "      <th>country_name</th>\n",
       "      <th>value_gbp</th>\n",
       "      <th>suppression_notes</th>\n",
       "    </tr>\n",
       "  </thead>\n",
       "  <tbody>\n",
       "    <tr>\n",
       "      <th>0</th>\n",
       "      <td>2020</td>\n",
       "      <td>Exports</td>\n",
       "      <td>01012100</td>\n",
       "      <td>TW</td>\n",
       "      <td>Taiwan</td>\n",
       "      <td>892</td>\n",
       "      <td>NaN</td>\n",
       "    </tr>\n",
       "    <tr>\n",
       "      <th>1</th>\n",
       "      <td>2020</td>\n",
       "      <td>Exports</td>\n",
       "      <td>01062000</td>\n",
       "      <td>TW</td>\n",
       "      <td>Taiwan</td>\n",
       "      <td>14101</td>\n",
       "      <td>NaN</td>\n",
       "    </tr>\n",
       "    <tr>\n",
       "      <th>2</th>\n",
       "      <td>2020</td>\n",
       "      <td>Exports</td>\n",
       "      <td>01063100</td>\n",
       "      <td>TW</td>\n",
       "      <td>Taiwan</td>\n",
       "      <td>1750</td>\n",
       "      <td>NaN</td>\n",
       "    </tr>\n",
       "    <tr>\n",
       "      <th>3</th>\n",
       "      <td>2020</td>\n",
       "      <td>Exports</td>\n",
       "      <td>02031913</td>\n",
       "      <td>TW</td>\n",
       "      <td>Taiwan</td>\n",
       "      <td>290818</td>\n",
       "      <td>NaN</td>\n",
       "    </tr>\n",
       "    <tr>\n",
       "      <th>4</th>\n",
       "      <td>2020</td>\n",
       "      <td>Exports</td>\n",
       "      <td>02031990</td>\n",
       "      <td>TW</td>\n",
       "      <td>Taiwan</td>\n",
       "      <td>1140</td>\n",
       "      <td>NaN</td>\n",
       "    </tr>\n",
       "  </tbody>\n",
       "</table>\n",
       "</div>"
      ],
      "text/plain": [
       "   year     flow commodity_code country_code country_name  value_gbp  \\\n",
       "0  2020  Exports       01012100           TW       Taiwan        892   \n",
       "1  2020  Exports       01062000           TW       Taiwan      14101   \n",
       "2  2020  Exports       01063100           TW       Taiwan       1750   \n",
       "3  2020  Exports       02031913           TW       Taiwan     290818   \n",
       "4  2020  Exports       02031990           TW       Taiwan       1140   \n",
       "\n",
       "   suppression_notes  \n",
       "0                NaN  \n",
       "1                NaN  \n",
       "2                NaN  \n",
       "3                NaN  \n",
       "4                NaN  "
      ]
     },
     "execution_count": 17,
     "metadata": {},
     "output_type": "execute_result"
    }
   ],
   "source": [
    "trade.head()"
   ]
  },
  {
   "cell_type": "code",
   "execution_count": 18,
   "metadata": {},
   "outputs": [
    {
     "name": "stdout",
     "output_type": "stream",
     "text": [
      "['Taiwan' 'Tajikistan' 'Tanzania (United Republic of)' 'Thailand'\n",
      " 'Timor-Leste' 'Tonga' 'Trinidad and Tobago' 'Tunisia' 'Turkmenistan'\n",
      " 'Tuvalu' 'Uganda' 'Ukraine' 'United States'\n",
      " 'United States Minor outlying islands' 'United States Virgin Islands'\n",
      " 'Uruguay' 'Uzbekistan' 'Vanuatu' 'Vatican City State'\n",
      " 'Venezuela, Bolivarian Republic of' 'Vietnam' 'Wallis and Futuna' 'Yemen'\n",
      " 'Zambia']\n"
     ]
    }
   ],
   "source": [
    "print(pd.unique(trade[\"country_name\"]))"
   ]
  },
  {
   "cell_type": "markdown",
   "metadata": {},
   "source": [
    "#### Create a function that filters and aggregates this data based on user-selected country."
   ]
  },
  {
   "cell_type": "code",
   "execution_count": 25,
   "metadata": {},
   "outputs": [],
   "source": [
    "# simple filter data filter:\n",
    "def trade_data_function(country):\n",
    "    df = trade.copy()\n",
    "    df_filt = df.loc[df[\"country_name\"] == country]\n",
    "    "
   ]
  },
  {
   "cell_type": "code",
   "execution_count": 30,
   "metadata": {},
   "outputs": [],
   "source": [
    "trade_data_function(\"Thailand\")"
   ]
  },
  {
   "cell_type": "markdown",
   "metadata": {},
   "source": [
    "##### Nothing is returned. We haven't told the function to return the data object. "
   ]
  },
  {
   "cell_type": "code",
   "execution_count": 31,
   "metadata": {},
   "outputs": [],
   "source": [
    "def trade_data_function(country):\n",
    "    df = trade.copy()\n",
    "    df_filt = df.loc[df[\"country_name\"] == country]\n",
    "    return(df_filt)"
   ]
  },
  {
   "cell_type": "code",
   "execution_count": 34,
   "metadata": {},
   "outputs": [
    {
     "data": {
      "text/html": [
       "<div>\n",
       "<style scoped>\n",
       "    .dataframe tbody tr th:only-of-type {\n",
       "        vertical-align: middle;\n",
       "    }\n",
       "\n",
       "    .dataframe tbody tr th {\n",
       "        vertical-align: top;\n",
       "    }\n",
       "\n",
       "    .dataframe thead th {\n",
       "        text-align: right;\n",
       "    }\n",
       "</style>\n",
       "<table border=\"1\" class=\"dataframe\">\n",
       "  <thead>\n",
       "    <tr style=\"text-align: right;\">\n",
       "      <th></th>\n",
       "      <th>year</th>\n",
       "      <th>flow</th>\n",
       "      <th>commodity_code</th>\n",
       "      <th>country_code</th>\n",
       "      <th>country_name</th>\n",
       "      <th>value_gbp</th>\n",
       "      <th>suppression_notes</th>\n",
       "    </tr>\n",
       "  </thead>\n",
       "  <tbody>\n",
       "    <tr>\n",
       "      <th>7614</th>\n",
       "      <td>2020</td>\n",
       "      <td>Exports</td>\n",
       "      <td>01051119</td>\n",
       "      <td>TH</td>\n",
       "      <td>Thailand</td>\n",
       "      <td>3187660</td>\n",
       "      <td>NaN</td>\n",
       "    </tr>\n",
       "    <tr>\n",
       "      <th>7615</th>\n",
       "      <td>2020</td>\n",
       "      <td>Exports</td>\n",
       "      <td>01051199</td>\n",
       "      <td>TH</td>\n",
       "      <td>Thailand</td>\n",
       "      <td>54196</td>\n",
       "      <td>NaN</td>\n",
       "    </tr>\n",
       "    <tr>\n",
       "      <th>7616</th>\n",
       "      <td>2020</td>\n",
       "      <td>Exports</td>\n",
       "      <td>01051300</td>\n",
       "      <td>TH</td>\n",
       "      <td>Thailand</td>\n",
       "      <td>161070</td>\n",
       "      <td>NaN</td>\n",
       "    </tr>\n",
       "    <tr>\n",
       "      <th>7617</th>\n",
       "      <td>2020</td>\n",
       "      <td>Exports</td>\n",
       "      <td>01062000</td>\n",
       "      <td>TH</td>\n",
       "      <td>Thailand</td>\n",
       "      <td>18750</td>\n",
       "      <td>NaN</td>\n",
       "    </tr>\n",
       "    <tr>\n",
       "      <th>7618</th>\n",
       "      <td>2020</td>\n",
       "      <td>Exports</td>\n",
       "      <td>02031990</td>\n",
       "      <td>TH</td>\n",
       "      <td>Thailand</td>\n",
       "      <td>7929</td>\n",
       "      <td>NaN</td>\n",
       "    </tr>\n",
       "    <tr>\n",
       "      <th>...</th>\n",
       "      <td>...</td>\n",
       "      <td>...</td>\n",
       "      <td>...</td>\n",
       "      <td>...</td>\n",
       "      <td>...</td>\n",
       "      <td>...</td>\n",
       "      <td>...</td>\n",
       "    </tr>\n",
       "    <tr>\n",
       "      <th>13198</th>\n",
       "      <td>2020</td>\n",
       "      <td>Imports</td>\n",
       "      <td>97030000</td>\n",
       "      <td>TH</td>\n",
       "      <td>Thailand</td>\n",
       "      <td>254489</td>\n",
       "      <td>NaN</td>\n",
       "    </tr>\n",
       "    <tr>\n",
       "      <th>13199</th>\n",
       "      <td>2020</td>\n",
       "      <td>Imports</td>\n",
       "      <td>97040000</td>\n",
       "      <td>TH</td>\n",
       "      <td>Thailand</td>\n",
       "      <td>10338</td>\n",
       "      <td>NaN</td>\n",
       "    </tr>\n",
       "    <tr>\n",
       "      <th>13200</th>\n",
       "      <td>2020</td>\n",
       "      <td>Imports</td>\n",
       "      <td>97050000</td>\n",
       "      <td>TH</td>\n",
       "      <td>Thailand</td>\n",
       "      <td>269000</td>\n",
       "      <td>NaN</td>\n",
       "    </tr>\n",
       "    <tr>\n",
       "      <th>13201</th>\n",
       "      <td>2020</td>\n",
       "      <td>Imports</td>\n",
       "      <td>97060000</td>\n",
       "      <td>TH</td>\n",
       "      <td>Thailand</td>\n",
       "      <td>48600</td>\n",
       "      <td>NaN</td>\n",
       "    </tr>\n",
       "    <tr>\n",
       "      <th>13202</th>\n",
       "      <td>2020</td>\n",
       "      <td>Imports</td>\n",
       "      <td>99209900</td>\n",
       "      <td>TH</td>\n",
       "      <td>Thailand</td>\n",
       "      <td>9683435</td>\n",
       "      <td>NaN</td>\n",
       "    </tr>\n",
       "  </tbody>\n",
       "</table>\n",
       "<p>5589 rows × 7 columns</p>\n",
       "</div>"
      ],
      "text/plain": [
       "       year     flow commodity_code country_code country_name  value_gbp  \\\n",
       "7614   2020  Exports       01051119           TH     Thailand    3187660   \n",
       "7615   2020  Exports       01051199           TH     Thailand      54196   \n",
       "7616   2020  Exports       01051300           TH     Thailand     161070   \n",
       "7617   2020  Exports       01062000           TH     Thailand      18750   \n",
       "7618   2020  Exports       02031990           TH     Thailand       7929   \n",
       "...     ...      ...            ...          ...          ...        ...   \n",
       "13198  2020  Imports       97030000           TH     Thailand     254489   \n",
       "13199  2020  Imports       97040000           TH     Thailand      10338   \n",
       "13200  2020  Imports       97050000           TH     Thailand     269000   \n",
       "13201  2020  Imports       97060000           TH     Thailand      48600   \n",
       "13202  2020  Imports       99209900           TH     Thailand    9683435   \n",
       "\n",
       "       suppression_notes  \n",
       "7614                 NaN  \n",
       "7615                 NaN  \n",
       "7616                 NaN  \n",
       "7617                 NaN  \n",
       "7618                 NaN  \n",
       "...                  ...  \n",
       "13198                NaN  \n",
       "13199                NaN  \n",
       "13200                NaN  \n",
       "13201                NaN  \n",
       "13202                NaN  \n",
       "\n",
       "[5589 rows x 7 columns]"
      ]
     },
     "execution_count": 34,
     "metadata": {},
     "output_type": "execute_result"
    }
   ],
   "source": [
    "df = trade_data_function(\"Thailand\") # you can create an object from the function\n",
    "trade_data_function(\"Thailand\") # or simply return the output"
   ]
  },
  {
   "cell_type": "code",
   "execution_count": 35,
   "metadata": {},
   "outputs": [
    {
     "data": {
      "text/html": [
       "<div>\n",
       "<style scoped>\n",
       "    .dataframe tbody tr th:only-of-type {\n",
       "        vertical-align: middle;\n",
       "    }\n",
       "\n",
       "    .dataframe tbody tr th {\n",
       "        vertical-align: top;\n",
       "    }\n",
       "\n",
       "    .dataframe thead th {\n",
       "        text-align: right;\n",
       "    }\n",
       "</style>\n",
       "<table border=\"1\" class=\"dataframe\">\n",
       "  <thead>\n",
       "    <tr style=\"text-align: right;\">\n",
       "      <th></th>\n",
       "      <th>year</th>\n",
       "      <th>flow</th>\n",
       "      <th>commodity_code</th>\n",
       "      <th>country_code</th>\n",
       "      <th>country_name</th>\n",
       "      <th>value_gbp</th>\n",
       "      <th>suppression_notes</th>\n",
       "    </tr>\n",
       "  </thead>\n",
       "  <tbody>\n",
       "    <tr>\n",
       "      <th>7614</th>\n",
       "      <td>2020</td>\n",
       "      <td>Exports</td>\n",
       "      <td>01051119</td>\n",
       "      <td>TH</td>\n",
       "      <td>Thailand</td>\n",
       "      <td>3187660</td>\n",
       "      <td>NaN</td>\n",
       "    </tr>\n",
       "    <tr>\n",
       "      <th>7615</th>\n",
       "      <td>2020</td>\n",
       "      <td>Exports</td>\n",
       "      <td>01051199</td>\n",
       "      <td>TH</td>\n",
       "      <td>Thailand</td>\n",
       "      <td>54196</td>\n",
       "      <td>NaN</td>\n",
       "    </tr>\n",
       "    <tr>\n",
       "      <th>7616</th>\n",
       "      <td>2020</td>\n",
       "      <td>Exports</td>\n",
       "      <td>01051300</td>\n",
       "      <td>TH</td>\n",
       "      <td>Thailand</td>\n",
       "      <td>161070</td>\n",
       "      <td>NaN</td>\n",
       "    </tr>\n",
       "    <tr>\n",
       "      <th>7617</th>\n",
       "      <td>2020</td>\n",
       "      <td>Exports</td>\n",
       "      <td>01062000</td>\n",
       "      <td>TH</td>\n",
       "      <td>Thailand</td>\n",
       "      <td>18750</td>\n",
       "      <td>NaN</td>\n",
       "    </tr>\n",
       "    <tr>\n",
       "      <th>7618</th>\n",
       "      <td>2020</td>\n",
       "      <td>Exports</td>\n",
       "      <td>02031990</td>\n",
       "      <td>TH</td>\n",
       "      <td>Thailand</td>\n",
       "      <td>7929</td>\n",
       "      <td>NaN</td>\n",
       "    </tr>\n",
       "    <tr>\n",
       "      <th>...</th>\n",
       "      <td>...</td>\n",
       "      <td>...</td>\n",
       "      <td>...</td>\n",
       "      <td>...</td>\n",
       "      <td>...</td>\n",
       "      <td>...</td>\n",
       "      <td>...</td>\n",
       "    </tr>\n",
       "    <tr>\n",
       "      <th>13198</th>\n",
       "      <td>2020</td>\n",
       "      <td>Imports</td>\n",
       "      <td>97030000</td>\n",
       "      <td>TH</td>\n",
       "      <td>Thailand</td>\n",
       "      <td>254489</td>\n",
       "      <td>NaN</td>\n",
       "    </tr>\n",
       "    <tr>\n",
       "      <th>13199</th>\n",
       "      <td>2020</td>\n",
       "      <td>Imports</td>\n",
       "      <td>97040000</td>\n",
       "      <td>TH</td>\n",
       "      <td>Thailand</td>\n",
       "      <td>10338</td>\n",
       "      <td>NaN</td>\n",
       "    </tr>\n",
       "    <tr>\n",
       "      <th>13200</th>\n",
       "      <td>2020</td>\n",
       "      <td>Imports</td>\n",
       "      <td>97050000</td>\n",
       "      <td>TH</td>\n",
       "      <td>Thailand</td>\n",
       "      <td>269000</td>\n",
       "      <td>NaN</td>\n",
       "    </tr>\n",
       "    <tr>\n",
       "      <th>13201</th>\n",
       "      <td>2020</td>\n",
       "      <td>Imports</td>\n",
       "      <td>97060000</td>\n",
       "      <td>TH</td>\n",
       "      <td>Thailand</td>\n",
       "      <td>48600</td>\n",
       "      <td>NaN</td>\n",
       "    </tr>\n",
       "    <tr>\n",
       "      <th>13202</th>\n",
       "      <td>2020</td>\n",
       "      <td>Imports</td>\n",
       "      <td>99209900</td>\n",
       "      <td>TH</td>\n",
       "      <td>Thailand</td>\n",
       "      <td>9683435</td>\n",
       "      <td>NaN</td>\n",
       "    </tr>\n",
       "  </tbody>\n",
       "</table>\n",
       "<p>5589 rows × 7 columns</p>\n",
       "</div>"
      ],
      "text/plain": [
       "       year     flow commodity_code country_code country_name  value_gbp  \\\n",
       "7614   2020  Exports       01051119           TH     Thailand    3187660   \n",
       "7615   2020  Exports       01051199           TH     Thailand      54196   \n",
       "7616   2020  Exports       01051300           TH     Thailand     161070   \n",
       "7617   2020  Exports       01062000           TH     Thailand      18750   \n",
       "7618   2020  Exports       02031990           TH     Thailand       7929   \n",
       "...     ...      ...            ...          ...          ...        ...   \n",
       "13198  2020  Imports       97030000           TH     Thailand     254489   \n",
       "13199  2020  Imports       97040000           TH     Thailand      10338   \n",
       "13200  2020  Imports       97050000           TH     Thailand     269000   \n",
       "13201  2020  Imports       97060000           TH     Thailand      48600   \n",
       "13202  2020  Imports       99209900           TH     Thailand    9683435   \n",
       "\n",
       "       suppression_notes  \n",
       "7614                 NaN  \n",
       "7615                 NaN  \n",
       "7616                 NaN  \n",
       "7617                 NaN  \n",
       "7618                 NaN  \n",
       "...                  ...  \n",
       "13198                NaN  \n",
       "13199                NaN  \n",
       "13200                NaN  \n",
       "13201                NaN  \n",
       "13202                NaN  \n",
       "\n",
       "[5589 rows x 7 columns]"
      ]
     },
     "execution_count": 35,
     "metadata": {},
     "output_type": "execute_result"
    }
   ],
   "source": [
    "df"
   ]
  },
  {
   "cell_type": "code",
   "execution_count": 38,
   "metadata": {},
   "outputs": [],
   "source": [
    "# extending the function:\n",
    "\n",
    "def trade_data_function(country):\n",
    "    df = trade.copy()\n",
    "    df_filt = df.loc[df[\"country_name\"] == country]\n",
    "    df_agg = df_filt.groupby(\"country_name\").agg({\"value_gbp\":sum})\n",
    "    return(df_agg)"
   ]
  },
  {
   "cell_type": "code",
   "execution_count": 39,
   "metadata": {},
   "outputs": [
    {
     "data": {
      "text/html": [
       "<div>\n",
       "<style scoped>\n",
       "    .dataframe tbody tr th:only-of-type {\n",
       "        vertical-align: middle;\n",
       "    }\n",
       "\n",
       "    .dataframe tbody tr th {\n",
       "        vertical-align: top;\n",
       "    }\n",
       "\n",
       "    .dataframe thead th {\n",
       "        text-align: right;\n",
       "    }\n",
       "</style>\n",
       "<table border=\"1\" class=\"dataframe\">\n",
       "  <thead>\n",
       "    <tr style=\"text-align: right;\">\n",
       "      <th></th>\n",
       "      <th>value_gbp</th>\n",
       "    </tr>\n",
       "    <tr>\n",
       "      <th>country_name</th>\n",
       "      <th></th>\n",
       "    </tr>\n",
       "  </thead>\n",
       "  <tbody>\n",
       "    <tr>\n",
       "      <th>Thailand</th>\n",
       "      <td>3725874154</td>\n",
       "    </tr>\n",
       "  </tbody>\n",
       "</table>\n",
       "</div>"
      ],
      "text/plain": [
       "               value_gbp\n",
       "country_name            \n",
       "Thailand      3725874154"
      ]
     },
     "execution_count": 39,
     "metadata": {},
     "output_type": "execute_result"
    }
   ],
   "source": [
    "trade_data_function(\"Thailand\")"
   ]
  },
  {
   "cell_type": "markdown",
   "metadata": {},
   "source": [
    "### Passing an array into a function"
   ]
  },
  {
   "cell_type": "code",
   "execution_count": 61,
   "metadata": {},
   "outputs": [],
   "source": [
    "# we want to extend the filter option so the trade data can filter for multiple countries. \n",
    "# the code need to slightly be re-worked.\n",
    "# the argument needs chnaging so the fucntion can read the array\n",
    "\n",
    "def trade_data_function(country):\n",
    "    df = trade.copy()\n",
    "    filt = country\n",
    "    df_filt = df.loc[df[\"country_name\"].isin(filt)]\n",
    "    df_agg = df_filt.groupby(\"country_name\").agg({\"value_gbp\":sum})\n",
    "    return df_agg"
   ]
  },
  {
   "cell_type": "code",
   "execution_count": 62,
   "metadata": {},
   "outputs": [
    {
     "data": {
      "text/html": [
       "<div>\n",
       "<style scoped>\n",
       "    .dataframe tbody tr th:only-of-type {\n",
       "        vertical-align: middle;\n",
       "    }\n",
       "\n",
       "    .dataframe tbody tr th {\n",
       "        vertical-align: top;\n",
       "    }\n",
       "\n",
       "    .dataframe thead th {\n",
       "        text-align: right;\n",
       "    }\n",
       "</style>\n",
       "<table border=\"1\" class=\"dataframe\">\n",
       "  <thead>\n",
       "    <tr style=\"text-align: right;\">\n",
       "      <th></th>\n",
       "      <th>value_gbp</th>\n",
       "    </tr>\n",
       "    <tr>\n",
       "      <th>country_name</th>\n",
       "      <th></th>\n",
       "    </tr>\n",
       "  </thead>\n",
       "  <tbody>\n",
       "    <tr>\n",
       "      <th>Taiwan</th>\n",
       "      <td>4470180597</td>\n",
       "    </tr>\n",
       "    <tr>\n",
       "      <th>Thailand</th>\n",
       "      <td>3725874154</td>\n",
       "    </tr>\n",
       "    <tr>\n",
       "      <th>United States</th>\n",
       "      <td>89903558073</td>\n",
       "    </tr>\n",
       "  </tbody>\n",
       "</table>\n",
       "</div>"
      ],
      "text/plain": [
       "                 value_gbp\n",
       "country_name              \n",
       "Taiwan          4470180597\n",
       "Thailand        3725874154\n",
       "United States  89903558073"
      ]
     },
     "execution_count": 62,
     "metadata": {},
     "output_type": "execute_result"
    }
   ],
   "source": [
    "trade_data_function([\"Thailand\",\"Taiwan\",\"United States\"])"
   ]
  },
  {
   "cell_type": "code",
   "execution_count": 69,
   "metadata": {},
   "outputs": [],
   "source": [
    "## pre-define function arguments. \n",
    "\n",
    "def pre_set_arg_function(country = [] , converter = 1.2, trade_flow = None):\n",
    "    df = trade.copy()\n",
    "    filt = country\n",
    "    df_filt = df.loc[df[\"country_name\"].isin(filt)]\n",
    "    \n",
    "    # space to include for trade_flow argument input #\n",
    "    \n",
    "    df_agg = df_filt.groupby(\"country_name\").agg({\"value_gbp\":sum})\n",
    "    df_agg[\"value_gbp2\"] = df_agg[\"value_gbp\"]/converter\n",
    "    return(df_agg)\n"
   ]
  },
  {
   "cell_type": "code",
   "execution_count": 70,
   "metadata": {},
   "outputs": [
    {
     "data": {
      "text/html": [
       "<div>\n",
       "<style scoped>\n",
       "    .dataframe tbody tr th:only-of-type {\n",
       "        vertical-align: middle;\n",
       "    }\n",
       "\n",
       "    .dataframe tbody tr th {\n",
       "        vertical-align: top;\n",
       "    }\n",
       "\n",
       "    .dataframe thead th {\n",
       "        text-align: right;\n",
       "    }\n",
       "</style>\n",
       "<table border=\"1\" class=\"dataframe\">\n",
       "  <thead>\n",
       "    <tr style=\"text-align: right;\">\n",
       "      <th></th>\n",
       "      <th>value_gbp</th>\n",
       "      <th>value_gbp2</th>\n",
       "    </tr>\n",
       "    <tr>\n",
       "      <th>country_name</th>\n",
       "      <th></th>\n",
       "      <th></th>\n",
       "    </tr>\n",
       "  </thead>\n",
       "  <tbody>\n",
       "    <tr>\n",
       "      <th>United States</th>\n",
       "      <td>89903558073</td>\n",
       "      <td>74919631727.50000</td>\n",
       "    </tr>\n",
       "    <tr>\n",
       "      <th>Vietnam</th>\n",
       "      <td>4391174212</td>\n",
       "      <td>3659311843.33333</td>\n",
       "    </tr>\n",
       "  </tbody>\n",
       "</table>\n",
       "</div>"
      ],
      "text/plain": [
       "                 value_gbp        value_gbp2\n",
       "country_name                                \n",
       "United States  89903558073 74919631727.50000\n",
       "Vietnam         4391174212  3659311843.33333"
      ]
     },
     "execution_count": 70,
     "metadata": {},
     "output_type": "execute_result"
    }
   ],
   "source": [
    "pre_set_arg_function([\"United States\",\"Vietnam\"])"
   ]
  },
  {
   "cell_type": "markdown",
   "metadata": {},
   "source": [
    "The trade_flow argument is set to None and therefore doens't interact with the underlying code and won't break it. None is a helpful technique when writing mroe complex functions which requires additional logic. This will be demonstrated further in the next seciton. "
   ]
  },
  {
   "cell_type": "markdown",
   "metadata": {},
   "source": [
    "#### Return multiple outputs from function"
   ]
  },
  {
   "cell_type": "code",
   "execution_count": 77,
   "metadata": {},
   "outputs": [],
   "source": [
    "# utilising return you cna output multiple values:\n",
    "\n",
    "def multi_output():\n",
    "    print(\"Test function\")\n",
    "    return trade.dtypes, trade.info(), trade.shape # seperate out your outputs with a , "
   ]
  },
  {
   "cell_type": "code",
   "execution_count": 78,
   "metadata": {},
   "outputs": [
    {
     "name": "stdout",
     "output_type": "stream",
     "text": [
      "Test function\n",
      "<class 'pandas.core.frame.DataFrame'>\n",
      "RangeIndex: 41142 entries, 0 to 41141\n",
      "Data columns (total 7 columns):\n",
      " #   Column             Non-Null Count  Dtype  \n",
      "---  ------             --------------  -----  \n",
      " 0   year               41142 non-null  int64  \n",
      " 1   flow               41142 non-null  object \n",
      " 2   commodity_code     41142 non-null  object \n",
      " 3   country_code       41142 non-null  object \n",
      " 4   country_name       41142 non-null  object \n",
      " 5   value_gbp          41142 non-null  int64  \n",
      " 6   suppression_notes  0 non-null      float64\n",
      "dtypes: float64(1), int64(2), object(4)\n",
      "memory usage: 2.2+ MB\n"
     ]
    },
    {
     "data": {
      "text/plain": [
       "(year                   int64\n",
       " flow                  object\n",
       " commodity_code        object\n",
       " country_code          object\n",
       " country_name          object\n",
       " value_gbp              int64\n",
       " suppression_notes    float64\n",
       " dtype: object,\n",
       " None,\n",
       " (41142, 7))"
      ]
     },
     "execution_count": 78,
     "metadata": {},
     "output_type": "execute_result"
    }
   ],
   "source": [
    "multi_output()"
   ]
  },
  {
   "cell_type": "code",
   "execution_count": 79,
   "metadata": {},
   "outputs": [],
   "source": [
    "def trade_data_function(country):\n",
    "    df = trade.copy()\n",
    "    filt = country\n",
    "    df_filt = df.loc[df[\"country_name\"].isin(filt)]\n",
    "    df_agg = df_filt.groupby(\"country_name\").agg({\"value_gbp\":sum})\n",
    "    return df_agg, df_filt.head()"
   ]
  },
  {
   "cell_type": "code",
   "execution_count": 80,
   "metadata": {},
   "outputs": [
    {
     "data": {
      "text/plain": [
       "(                 value_gbp\n",
       " country_name              \n",
       " Thailand        3725874154\n",
       " United States  89903558073,\n",
       "       year     flow commodity_code country_code country_name  value_gbp  \\\n",
       " 7614  2020  Exports       01051119           TH     Thailand    3187660   \n",
       " 7615  2020  Exports       01051199           TH     Thailand      54196   \n",
       " 7616  2020  Exports       01051300           TH     Thailand     161070   \n",
       " 7617  2020  Exports       01062000           TH     Thailand      18750   \n",
       " 7618  2020  Exports       02031990           TH     Thailand       7929   \n",
       " \n",
       "       suppression_notes  \n",
       " 7614                NaN  \n",
       " 7615                NaN  \n",
       " 7616                NaN  \n",
       " 7617                NaN  \n",
       " 7618                NaN  )"
      ]
     },
     "execution_count": 80,
     "metadata": {},
     "output_type": "execute_result"
    }
   ],
   "source": [
    "trade_data_function([\"Thailand\",\"United States\"])"
   ]
  },
  {
   "cell_type": "markdown",
   "metadata": {},
   "source": [
    "This method usiing return isn't the most helpful if from your function you want ot return multiple dataframes. You can input the data into a list and return the list from the function to call multiple objects."
   ]
  },
  {
   "cell_type": "code",
   "execution_count": 85,
   "metadata": {},
   "outputs": [],
   "source": [
    "def trade_data_function(country):\n",
    "    df = trade.copy()\n",
    "    filt = country\n",
    "    list = []\n",
    "    df_filt = df.loc[df[\"country_name\"].isin(filt)]\n",
    "    df_agg = df_filt.groupby(\"country_name\").agg({\"value_gbp\":sum})\n",
    "    # insert dfs into a list\n",
    "    list.append(df_filt)\n",
    "    list.append(df_agg)\n",
    "    return list # return list for function output"
   ]
  },
  {
   "cell_type": "code",
   "execution_count": 90,
   "metadata": {},
   "outputs": [],
   "source": [
    "list_output = trade_data_function([\"Thailand\",\"Vietnam\"]) "
   ]
  },
  {
   "cell_type": "code",
   "execution_count": 91,
   "metadata": {},
   "outputs": [
    {
     "data": {
      "text/html": [
       "<div>\n",
       "<style scoped>\n",
       "    .dataframe tbody tr th:only-of-type {\n",
       "        vertical-align: middle;\n",
       "    }\n",
       "\n",
       "    .dataframe tbody tr th {\n",
       "        vertical-align: top;\n",
       "    }\n",
       "\n",
       "    .dataframe thead th {\n",
       "        text-align: right;\n",
       "    }\n",
       "</style>\n",
       "<table border=\"1\" class=\"dataframe\">\n",
       "  <thead>\n",
       "    <tr style=\"text-align: right;\">\n",
       "      <th></th>\n",
       "      <th>year</th>\n",
       "      <th>flow</th>\n",
       "      <th>commodity_code</th>\n",
       "      <th>country_code</th>\n",
       "      <th>country_name</th>\n",
       "      <th>value_gbp</th>\n",
       "      <th>suppression_notes</th>\n",
       "    </tr>\n",
       "  </thead>\n",
       "  <tbody>\n",
       "    <tr>\n",
       "      <th>7614</th>\n",
       "      <td>2020</td>\n",
       "      <td>Exports</td>\n",
       "      <td>01051119</td>\n",
       "      <td>TH</td>\n",
       "      <td>Thailand</td>\n",
       "      <td>3187660</td>\n",
       "      <td>NaN</td>\n",
       "    </tr>\n",
       "    <tr>\n",
       "      <th>7615</th>\n",
       "      <td>2020</td>\n",
       "      <td>Exports</td>\n",
       "      <td>01051199</td>\n",
       "      <td>TH</td>\n",
       "      <td>Thailand</td>\n",
       "      <td>54196</td>\n",
       "      <td>NaN</td>\n",
       "    </tr>\n",
       "    <tr>\n",
       "      <th>7616</th>\n",
       "      <td>2020</td>\n",
       "      <td>Exports</td>\n",
       "      <td>01051300</td>\n",
       "      <td>TH</td>\n",
       "      <td>Thailand</td>\n",
       "      <td>161070</td>\n",
       "      <td>NaN</td>\n",
       "    </tr>\n",
       "    <tr>\n",
       "      <th>7617</th>\n",
       "      <td>2020</td>\n",
       "      <td>Exports</td>\n",
       "      <td>01062000</td>\n",
       "      <td>TH</td>\n",
       "      <td>Thailand</td>\n",
       "      <td>18750</td>\n",
       "      <td>NaN</td>\n",
       "    </tr>\n",
       "    <tr>\n",
       "      <th>7618</th>\n",
       "      <td>2020</td>\n",
       "      <td>Exports</td>\n",
       "      <td>02031990</td>\n",
       "      <td>TH</td>\n",
       "      <td>Thailand</td>\n",
       "      <td>7929</td>\n",
       "      <td>NaN</td>\n",
       "    </tr>\n",
       "    <tr>\n",
       "      <th>...</th>\n",
       "      <td>...</td>\n",
       "      <td>...</td>\n",
       "      <td>...</td>\n",
       "      <td>...</td>\n",
       "      <td>...</td>\n",
       "      <td>...</td>\n",
       "      <td>...</td>\n",
       "    </tr>\n",
       "    <tr>\n",
       "      <th>39932</th>\n",
       "      <td>2020</td>\n",
       "      <td>Imports</td>\n",
       "      <td>96200010</td>\n",
       "      <td>VN</td>\n",
       "      <td>Vietnam</td>\n",
       "      <td>2046</td>\n",
       "      <td>NaN</td>\n",
       "    </tr>\n",
       "    <tr>\n",
       "      <th>39933</th>\n",
       "      <td>2020</td>\n",
       "      <td>Imports</td>\n",
       "      <td>97011000</td>\n",
       "      <td>VN</td>\n",
       "      <td>Vietnam</td>\n",
       "      <td>3931</td>\n",
       "      <td>NaN</td>\n",
       "    </tr>\n",
       "    <tr>\n",
       "      <th>39934</th>\n",
       "      <td>2020</td>\n",
       "      <td>Imports</td>\n",
       "      <td>97019000</td>\n",
       "      <td>VN</td>\n",
       "      <td>Vietnam</td>\n",
       "      <td>9644</td>\n",
       "      <td>NaN</td>\n",
       "    </tr>\n",
       "    <tr>\n",
       "      <th>39935</th>\n",
       "      <td>2020</td>\n",
       "      <td>Imports</td>\n",
       "      <td>97050000</td>\n",
       "      <td>VN</td>\n",
       "      <td>Vietnam</td>\n",
       "      <td>3100</td>\n",
       "      <td>NaN</td>\n",
       "    </tr>\n",
       "    <tr>\n",
       "      <th>39936</th>\n",
       "      <td>2020</td>\n",
       "      <td>Imports</td>\n",
       "      <td>99209900</td>\n",
       "      <td>VN</td>\n",
       "      <td>Vietnam</td>\n",
       "      <td>3351057</td>\n",
       "      <td>NaN</td>\n",
       "    </tr>\n",
       "  </tbody>\n",
       "</table>\n",
       "<p>9777 rows × 7 columns</p>\n",
       "</div>"
      ],
      "text/plain": [
       "       year     flow commodity_code country_code country_name  value_gbp  \\\n",
       "7614   2020  Exports       01051119           TH     Thailand    3187660   \n",
       "7615   2020  Exports       01051199           TH     Thailand      54196   \n",
       "7616   2020  Exports       01051300           TH     Thailand     161070   \n",
       "7617   2020  Exports       01062000           TH     Thailand      18750   \n",
       "7618   2020  Exports       02031990           TH     Thailand       7929   \n",
       "...     ...      ...            ...          ...          ...        ...   \n",
       "39932  2020  Imports       96200010           VN      Vietnam       2046   \n",
       "39933  2020  Imports       97011000           VN      Vietnam       3931   \n",
       "39934  2020  Imports       97019000           VN      Vietnam       9644   \n",
       "39935  2020  Imports       97050000           VN      Vietnam       3100   \n",
       "39936  2020  Imports       99209900           VN      Vietnam    3351057   \n",
       "\n",
       "       suppression_notes  \n",
       "7614                 NaN  \n",
       "7615                 NaN  \n",
       "7616                 NaN  \n",
       "7617                 NaN  \n",
       "7618                 NaN  \n",
       "...                  ...  \n",
       "39932                NaN  \n",
       "39933                NaN  \n",
       "39934                NaN  \n",
       "39935                NaN  \n",
       "39936                NaN  \n",
       "\n",
       "[9777 rows x 7 columns]"
      ]
     },
     "execution_count": 91,
     "metadata": {},
     "output_type": "execute_result"
    }
   ],
   "source": [
    "list_output[0]"
   ]
  },
  {
   "cell_type": "code",
   "execution_count": 100,
   "metadata": {},
   "outputs": [
    {
     "data": {
      "text/html": [
       "<div>\n",
       "<style scoped>\n",
       "    .dataframe tbody tr th:only-of-type {\n",
       "        vertical-align: middle;\n",
       "    }\n",
       "\n",
       "    .dataframe tbody tr th {\n",
       "        vertical-align: top;\n",
       "    }\n",
       "\n",
       "    .dataframe thead th {\n",
       "        text-align: right;\n",
       "    }\n",
       "</style>\n",
       "<table border=\"1\" class=\"dataframe\">\n",
       "  <thead>\n",
       "    <tr style=\"text-align: right;\">\n",
       "      <th></th>\n",
       "      <th>value_gbp</th>\n",
       "    </tr>\n",
       "    <tr>\n",
       "      <th>country_name</th>\n",
       "      <th></th>\n",
       "    </tr>\n",
       "  </thead>\n",
       "  <tbody>\n",
       "    <tr>\n",
       "      <th>Thailand</th>\n",
       "      <td>3725874154</td>\n",
       "    </tr>\n",
       "    <tr>\n",
       "      <th>Vietnam</th>\n",
       "      <td>4391174212</td>\n",
       "    </tr>\n",
       "  </tbody>\n",
       "</table>\n",
       "</div>"
      ],
      "text/plain": [
       "               value_gbp\n",
       "country_name            \n",
       "Thailand      3725874154\n",
       "Vietnam       4391174212"
      ]
     },
     "execution_count": 100,
     "metadata": {},
     "output_type": "execute_result"
    }
   ],
   "source": [
    "list_output[1]"
   ]
  },
  {
   "cell_type": "markdown",
   "metadata": {},
   "source": [
    "#### Text arguments"
   ]
  },
  {
   "cell_type": "markdown",
   "metadata": {},
   "source": [
    "You can easily in python insert a text argument and have this interact and transform data through functions. "
   ]
  },
  {
   "cell_type": "code",
   "execution_count": 60,
   "metadata": {},
   "outputs": [],
   "source": [
    "# Example: function to filter dataframe based on column input\n",
    "\n",
    "def filter_col_function(col, arg1):\n",
    "    df = trade.copy()\n",
    "    df_filt = df.loc[df[col] == arg1]\n",
    "    return(df_filt.head(3))"
   ]
  },
  {
   "cell_type": "code",
   "execution_count": 57,
   "metadata": {},
   "outputs": [
    {
     "data": {
      "text/plain": [
       "year                   int64\n",
       "flow                  object\n",
       "commodity_code        object\n",
       "country_code          object\n",
       "country_name          object\n",
       "value_gbp              int64\n",
       "suppression_notes    float64\n",
       "dtype: object"
      ]
     },
     "execution_count": 57,
     "metadata": {},
     "output_type": "execute_result"
    }
   ],
   "source": [
    "trade.dtypes"
   ]
  },
  {
   "cell_type": "code",
   "execution_count": 58,
   "metadata": {},
   "outputs": [
    {
     "data": {
      "text/html": [
       "<div>\n",
       "<style scoped>\n",
       "    .dataframe tbody tr th:only-of-type {\n",
       "        vertical-align: middle;\n",
       "    }\n",
       "\n",
       "    .dataframe tbody tr th {\n",
       "        vertical-align: top;\n",
       "    }\n",
       "\n",
       "    .dataframe thead th {\n",
       "        text-align: right;\n",
       "    }\n",
       "</style>\n",
       "<table border=\"1\" class=\"dataframe\">\n",
       "  <thead>\n",
       "    <tr style=\"text-align: right;\">\n",
       "      <th></th>\n",
       "      <th>year</th>\n",
       "      <th>flow</th>\n",
       "      <th>commodity_code</th>\n",
       "      <th>country_code</th>\n",
       "      <th>country_name</th>\n",
       "      <th>value_gbp</th>\n",
       "      <th>suppression_notes</th>\n",
       "    </tr>\n",
       "  </thead>\n",
       "  <tbody>\n",
       "    <tr>\n",
       "      <th>0</th>\n",
       "      <td>2020</td>\n",
       "      <td>Exports</td>\n",
       "      <td>01012100</td>\n",
       "      <td>TW</td>\n",
       "      <td>Taiwan</td>\n",
       "      <td>892</td>\n",
       "      <td>NaN</td>\n",
       "    </tr>\n",
       "    <tr>\n",
       "      <th>1</th>\n",
       "      <td>2020</td>\n",
       "      <td>Exports</td>\n",
       "      <td>01062000</td>\n",
       "      <td>TW</td>\n",
       "      <td>Taiwan</td>\n",
       "      <td>14101</td>\n",
       "      <td>NaN</td>\n",
       "    </tr>\n",
       "    <tr>\n",
       "      <th>2</th>\n",
       "      <td>2020</td>\n",
       "      <td>Exports</td>\n",
       "      <td>01063100</td>\n",
       "      <td>TW</td>\n",
       "      <td>Taiwan</td>\n",
       "      <td>1750</td>\n",
       "      <td>NaN</td>\n",
       "    </tr>\n",
       "  </tbody>\n",
       "</table>\n",
       "</div>"
      ],
      "text/plain": [
       "   year     flow commodity_code country_code country_name  value_gbp  \\\n",
       "0  2020  Exports       01012100           TW       Taiwan        892   \n",
       "1  2020  Exports       01062000           TW       Taiwan      14101   \n",
       "2  2020  Exports       01063100           TW       Taiwan       1750   \n",
       "\n",
       "   suppression_notes  \n",
       "0                NaN  \n",
       "1                NaN  \n",
       "2                NaN  "
      ]
     },
     "execution_count": 58,
     "metadata": {},
     "output_type": "execute_result"
    }
   ],
   "source": [
    "trade.head(3)"
   ]
  },
  {
   "cell_type": "code",
   "execution_count": 61,
   "metadata": {},
   "outputs": [
    {
     "data": {
      "text/html": [
       "<div>\n",
       "<style scoped>\n",
       "    .dataframe tbody tr th:only-of-type {\n",
       "        vertical-align: middle;\n",
       "    }\n",
       "\n",
       "    .dataframe tbody tr th {\n",
       "        vertical-align: top;\n",
       "    }\n",
       "\n",
       "    .dataframe thead th {\n",
       "        text-align: right;\n",
       "    }\n",
       "</style>\n",
       "<table border=\"1\" class=\"dataframe\">\n",
       "  <thead>\n",
       "    <tr style=\"text-align: right;\">\n",
       "      <th></th>\n",
       "      <th>year</th>\n",
       "      <th>flow</th>\n",
       "      <th>commodity_code</th>\n",
       "      <th>country_code</th>\n",
       "      <th>country_name</th>\n",
       "      <th>value_gbp</th>\n",
       "      <th>suppression_notes</th>\n",
       "    </tr>\n",
       "  </thead>\n",
       "  <tbody>\n",
       "    <tr>\n",
       "      <th>11</th>\n",
       "      <td>2019</td>\n",
       "      <td>Exports</td>\n",
       "      <td>02064900</td>\n",
       "      <td>TW</td>\n",
       "      <td>Taiwan</td>\n",
       "      <td>966185</td>\n",
       "      <td>NaN</td>\n",
       "    </tr>\n",
       "    <tr>\n",
       "      <th>12</th>\n",
       "      <td>2019</td>\n",
       "      <td>Exports</td>\n",
       "      <td>03021110</td>\n",
       "      <td>TW</td>\n",
       "      <td>Taiwan</td>\n",
       "      <td>270452</td>\n",
       "      <td>NaN</td>\n",
       "    </tr>\n",
       "    <tr>\n",
       "      <th>13</th>\n",
       "      <td>2019</td>\n",
       "      <td>Exports</td>\n",
       "      <td>03021400</td>\n",
       "      <td>TW</td>\n",
       "      <td>Taiwan</td>\n",
       "      <td>15220129</td>\n",
       "      <td>NaN</td>\n",
       "    </tr>\n",
       "  </tbody>\n",
       "</table>\n",
       "</div>"
      ],
      "text/plain": [
       "    year     flow commodity_code country_code country_name  value_gbp  \\\n",
       "11  2019  Exports       02064900           TW       Taiwan     966185   \n",
       "12  2019  Exports       03021110           TW       Taiwan     270452   \n",
       "13  2019  Exports       03021400           TW       Taiwan   15220129   \n",
       "\n",
       "    suppression_notes  \n",
       "11                NaN  \n",
       "12                NaN  \n",
       "13                NaN  "
      ]
     },
     "execution_count": 61,
     "metadata": {},
     "output_type": "execute_result"
    }
   ],
   "source": [
    "filter_col_function(\"year\",2019)"
   ]
  },
  {
   "cell_type": "code",
   "execution_count": 62,
   "metadata": {},
   "outputs": [
    {
     "data": {
      "text/html": [
       "<div>\n",
       "<style scoped>\n",
       "    .dataframe tbody tr th:only-of-type {\n",
       "        vertical-align: middle;\n",
       "    }\n",
       "\n",
       "    .dataframe tbody tr th {\n",
       "        vertical-align: top;\n",
       "    }\n",
       "\n",
       "    .dataframe thead th {\n",
       "        text-align: right;\n",
       "    }\n",
       "</style>\n",
       "<table border=\"1\" class=\"dataframe\">\n",
       "  <thead>\n",
       "    <tr style=\"text-align: right;\">\n",
       "      <th></th>\n",
       "      <th>year</th>\n",
       "      <th>flow</th>\n",
       "      <th>commodity_code</th>\n",
       "      <th>country_code</th>\n",
       "      <th>country_name</th>\n",
       "      <th>value_gbp</th>\n",
       "      <th>suppression_notes</th>\n",
       "    </tr>\n",
       "  </thead>\n",
       "  <tbody>\n",
       "    <tr>\n",
       "      <th>20956</th>\n",
       "      <td>2020</td>\n",
       "      <td>Exports</td>\n",
       "      <td>01012100</td>\n",
       "      <td>US</td>\n",
       "      <td>United States</td>\n",
       "      <td>16637203</td>\n",
       "      <td>NaN</td>\n",
       "    </tr>\n",
       "    <tr>\n",
       "      <th>20957</th>\n",
       "      <td>2020</td>\n",
       "      <td>Exports</td>\n",
       "      <td>01012990</td>\n",
       "      <td>US</td>\n",
       "      <td>United States</td>\n",
       "      <td>1752234</td>\n",
       "      <td>NaN</td>\n",
       "    </tr>\n",
       "    <tr>\n",
       "      <th>20958</th>\n",
       "      <td>2020</td>\n",
       "      <td>Exports</td>\n",
       "      <td>01019000</td>\n",
       "      <td>US</td>\n",
       "      <td>United States</td>\n",
       "      <td>54000</td>\n",
       "      <td>NaN</td>\n",
       "    </tr>\n",
       "  </tbody>\n",
       "</table>\n",
       "</div>"
      ],
      "text/plain": [
       "       year     flow commodity_code country_code   country_name  value_gbp  \\\n",
       "20956  2020  Exports       01012100           US  United States   16637203   \n",
       "20957  2020  Exports       01012990           US  United States    1752234   \n",
       "20958  2020  Exports       01019000           US  United States      54000   \n",
       "\n",
       "       suppression_notes  \n",
       "20956                NaN  \n",
       "20957                NaN  \n",
       "20958                NaN  "
      ]
     },
     "execution_count": 62,
     "metadata": {},
     "output_type": "execute_result"
    }
   ],
   "source": [
    "filter_col_function(\"country_code\",\"US\")"
   ]
  },
  {
   "cell_type": "markdown",
   "metadata": {},
   "source": [
    "****"
   ]
  },
  {
   "cell_type": "markdown",
   "metadata": {},
   "source": [
    "### 2. Conditional Logic"
   ]
  },
  {
   "cell_type": "markdown",
   "metadata": {},
   "source": [
    "Utilising conditonal logic within your functions is a powerful technique to create more complicated and adaptable chunks of code. In this section I will demonstrate how to create basic logic, insert into a function and executing functions using conditional logic. "
   ]
  },
  {
   "cell_type": "code",
   "execution_count": 18,
   "metadata": {},
   "outputs": [
    {
     "name": "stdout",
     "output_type": "stream",
     "text": [
      "equals 10\n"
     ]
    }
   ],
   "source": [
    "# simple conditional logic:\n",
    "\n",
    "x = 10\n",
    "\n",
    "if(x > 10):\n",
    "    print(\"greater than 10\")\n",
    "    \n",
    "elif(x < 10):\n",
    "        print(\"less than 10\")\n",
    "        \n",
    "elif(x == 10):\n",
    "        print(\"equals 10\")\n",
    "        \n",
    "else:\n",
    "    print(\"other condition\")\n",
    "\n",
    "        "
   ]
  },
  {
   "cell_type": "code",
   "execution_count": 22,
   "metadata": {},
   "outputs": [],
   "source": [
    "# combine with function\n",
    "\n",
    "def logic_func(x):\n",
    "    if(x > 10):\n",
    "        print(\"greater than 10\")\n",
    "    \n",
    "    elif(x < 10):\n",
    "        print(\"less than 10\")\n",
    "        \n",
    "    elif(x == 10):\n",
    "        print(\"equals 10\")\n",
    "        \n",
    "    else:\n",
    "        print(\"other condition\")"
   ]
  },
  {
   "cell_type": "code",
   "execution_count": 23,
   "metadata": {},
   "outputs": [
    {
     "name": "stdout",
     "output_type": "stream",
     "text": [
      "greater than 10\n"
     ]
    }
   ],
   "source": [
    "logic_func(30)"
   ]
  },
  {
   "cell_type": "code",
   "execution_count": 25,
   "metadata": {},
   "outputs": [
    {
     "ename": "IndentationError",
     "evalue": "unindent does not match any outer indentation level (<tokenize>, line 5)",
     "output_type": "error",
     "traceback": [
      "\u001b[0;36m  File \u001b[0;32m\"<tokenize>\"\u001b[0;36m, line \u001b[0;32m5\u001b[0m\n\u001b[0;31m    elif(x < 10):\u001b[0m\n\u001b[0m    ^\u001b[0m\n\u001b[0;31mIndentationError\u001b[0m\u001b[0;31m:\u001b[0m unindent does not match any outer indentation level\n"
     ]
    }
   ],
   "source": [
    "# code \"indention\" where each condition is placed within each code block can cause issues if nto set up correctly:\n",
    "if(x > 10):\n",
    "        print(\"greater than 10\")\n",
    "    \n",
    "    elif(x < 10):\n",
    "        print(\"less than 10\")\n",
    "        \n",
    "    elif(x == 10):\n",
    "        print(\"equals 10\")\n"
   ]
  },
  {
   "cell_type": "markdown",
   "metadata": {},
   "source": [
    "The if / else statements must be inline with each other. Within each code block you can place additional logic:"
   ]
  },
  {
   "cell_type": "code",
   "execution_count": 55,
   "metadata": {},
   "outputs": [
    {
     "name": "stdout",
     "output_type": "stream",
     "text": [
      "10\n"
     ]
    }
   ],
   "source": [
    "\n",
    "if(x > 10):\n",
    "         \n",
    "    if(x > 10*10):\n",
    "            print(\"Greater than 100\")\n",
    "    elif(x < 10/10):\n",
    "            print(\"Less than 1\")\n",
    "    elif(x >1000):\n",
    "            print(\"Greater than 1000\")\n",
    "\n",
    "else:\n",
    "    print(x)"
   ]
  },
  {
   "cell_type": "code",
   "execution_count": null,
   "metadata": {},
   "outputs": [],
   "source": [
    "# Function with conditional logic example:\n",
    "# Filter data and apply condition of US only. \n",
    "# If flow flag is selected aggregate data by trade flow"
   ]
  },
  {
   "cell_type": "code",
   "execution_count": 81,
   "metadata": {},
   "outputs": [],
   "source": [
    "def example_function(country_filt, flow_flag = None):\n",
    "    df = trade.copy()\n",
    "    if(country_filt == \"United States\"):\n",
    "        df[\"value_usd\"] = df[\"value_gbp\"] / 0.8\n",
    "    else:\n",
    "        df[\"value2\"] = df[\"value_gbp\"] / 1000\n",
    "       \n",
    "    # end indent block\n",
    "    df_filt = df.loc[df[\"country_name\"]==country_filt]\n",
    "    \n",
    "    \n",
    "    if(flow_flag == None):\n",
    "        df_return = df_filt.groupby(\"country_name\").sum()\n",
    "    else:\n",
    "        df_return = df_filt.groupby([\"country_name\",\"flow\"]).sum()\n",
    "    \n",
    "    return df_return"
   ]
  },
  {
   "cell_type": "code",
   "execution_count": 75,
   "metadata": {},
   "outputs": [
    {
     "data": {
      "text/html": [
       "<div>\n",
       "<style scoped>\n",
       "    .dataframe tbody tr th:only-of-type {\n",
       "        vertical-align: middle;\n",
       "    }\n",
       "\n",
       "    .dataframe tbody tr th {\n",
       "        vertical-align: top;\n",
       "    }\n",
       "\n",
       "    .dataframe thead th {\n",
       "        text-align: right;\n",
       "    }\n",
       "</style>\n",
       "<table border=\"1\" class=\"dataframe\">\n",
       "  <thead>\n",
       "    <tr style=\"text-align: right;\">\n",
       "      <th></th>\n",
       "      <th>year</th>\n",
       "      <th>value_gbp</th>\n",
       "      <th>suppression_notes</th>\n",
       "      <th>value_usd</th>\n",
       "    </tr>\n",
       "    <tr>\n",
       "      <th>country_name</th>\n",
       "      <th></th>\n",
       "      <th></th>\n",
       "      <th></th>\n",
       "      <th></th>\n",
       "    </tr>\n",
       "  </thead>\n",
       "  <tbody>\n",
       "    <tr>\n",
       "      <th>United States</th>\n",
       "      <td>26039140</td>\n",
       "      <td>89903558073</td>\n",
       "      <td>0.00000</td>\n",
       "      <td>112379447591.25000</td>\n",
       "    </tr>\n",
       "  </tbody>\n",
       "</table>\n",
       "</div>"
      ],
      "text/plain": [
       "                   year    value_gbp  suppression_notes          value_usd\n",
       "country_name                                                              \n",
       "United States  26039140  89903558073            0.00000 112379447591.25000"
      ]
     },
     "execution_count": 75,
     "metadata": {},
     "output_type": "execute_result"
    }
   ],
   "source": [
    "example_function(\"United States\")"
   ]
  },
  {
   "cell_type": "markdown",
   "metadata": {},
   "source": [
    "The output shows the function logic worked. The united states has had the GBP converted to GBP. The flow is set ot its defauly and thus not included in the aggregation"
   ]
  },
  {
   "cell_type": "code",
   "execution_count": 79,
   "metadata": {},
   "outputs": [
    {
     "data": {
      "text/html": [
       "<div>\n",
       "<style scoped>\n",
       "    .dataframe tbody tr th:only-of-type {\n",
       "        vertical-align: middle;\n",
       "    }\n",
       "\n",
       "    .dataframe tbody tr th {\n",
       "        vertical-align: top;\n",
       "    }\n",
       "\n",
       "    .dataframe thead th {\n",
       "        text-align: right;\n",
       "    }\n",
       "</style>\n",
       "<table border=\"1\" class=\"dataframe\">\n",
       "  <thead>\n",
       "    <tr style=\"text-align: right;\">\n",
       "      <th></th>\n",
       "      <th></th>\n",
       "      <th>year</th>\n",
       "      <th>value_gbp</th>\n",
       "      <th>suppression_notes</th>\n",
       "      <th>value2</th>\n",
       "    </tr>\n",
       "    <tr>\n",
       "      <th>country_name</th>\n",
       "      <th>flow</th>\n",
       "      <th></th>\n",
       "      <th></th>\n",
       "      <th></th>\n",
       "      <th></th>\n",
       "    </tr>\n",
       "  </thead>\n",
       "  <tbody>\n",
       "    <tr>\n",
       "      <th rowspan=\"2\" valign=\"top\">Thailand</th>\n",
       "      <th>Exports</th>\n",
       "      <td>6569040</td>\n",
       "      <td>1161053338</td>\n",
       "      <td>0.00000</td>\n",
       "      <td>1161053.33800</td>\n",
       "    </tr>\n",
       "    <tr>\n",
       "      <th>Imports</th>\n",
       "      <td>4720740</td>\n",
       "      <td>2564820816</td>\n",
       "      <td>0.00000</td>\n",
       "      <td>2564820.81600</td>\n",
       "    </tr>\n",
       "  </tbody>\n",
       "</table>\n",
       "</div>"
      ],
      "text/plain": [
       "                         year   value_gbp  suppression_notes        value2\n",
       "country_name flow                                                         \n",
       "Thailand     Exports  6569040  1161053338            0.00000 1161053.33800\n",
       "             Imports  4720740  2564820816            0.00000 2564820.81600"
      ]
     },
     "execution_count": 79,
     "metadata": {},
     "output_type": "execute_result"
    }
   ],
   "source": [
    "example_function(\"Thailand\",flow_flag = \"Y\")"
   ]
  },
  {
   "cell_type": "markdown",
   "metadata": {},
   "source": [
    " ```python\n",
    "# Example logical function steps:\n",
    "\n",
    "def function(x,y):\n",
    "    print(\"step 1\")\n",
    "    print(\"step 2\")\n",
    "    if(x == \"something\"):\n",
    "        print(\"logic_1 step 1\")\n",
    "    elif(x == \"something_else\"):\n",
    "        print(\"logic_2 step 1\")\n",
    "        print(\"logic_2 step 2\")\n",
    "    else:\n",
    "        if(y == \"something\"):\n",
    "            print(y)\n",
    "        else:\n",
    "            print(y*10)\n",
    "        #end of indent block\n",
    "        # next steps are inline with previous. \n",
    "    # All logic statements are in-line for the same indent block\n",
    "    print(\"step 3 after logic\")\n",
    "    print(\"step 4 after logic\")\n",
    "    return(end_result)\n",
    "       \n",
    "```"
   ]
  },
  {
   "cell_type": "markdown",
   "metadata": {},
   "source": [
    "End. "
   ]
  }
 ],
 "metadata": {
  "kernelspec": {
   "display_name": "Python 3",
   "language": "python",
   "name": "python3"
  },
  "language_info": {
   "codemirror_mode": {
    "name": "ipython",
    "version": 3
   },
   "file_extension": ".py",
   "mimetype": "text/x-python",
   "name": "python",
   "nbconvert_exporter": "python",
   "pygments_lexer": "ipython3",
   "version": "3.9.7"
  }
 },
 "nbformat": 4,
 "nbformat_minor": 4
}
