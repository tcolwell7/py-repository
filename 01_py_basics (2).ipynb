{
 "cells": [
  {
   "cell_type": "markdown",
   "metadata": {},
   "source": [
    "## 01_py_basics"
   ]
  },
  {
   "cell_type": "markdown",
   "metadata": {},
   "source": [
    "#### Python repository for general data manipulation techniques and working with pandas. "
   ]
  },
  {
   "cell_type": "markdown",
   "metadata": {},
   "source": [
    "## This notebook will cover:\n",
    "\n",
    "**1. Selecting columns**\n",
    "* basic selection and drop columns\n",
    "* select using pattern recognition\n",
    "* relocate columns\n",
    "\n",
    "**2. Creating new columns and values**\n",
    "* basics of creating new columns\n",
    "* basic sums and numerical column manipulation\n",
    "* row sums and combine columns together\n",
    "* conditionally create columns (ifelse / case_when equivlient)\n",
    "\n",
    "**3. Filtering data**\n",
    "\n",
    "**4. Aggregations using groupby**\n",
    "\n",
    "**5. Joins (merge)**"
   ]
  },
  {
   "cell_type": "markdown",
   "metadata": {},
   "source": [
    "### 0. Set up ---"
   ]
  },
  {
   "cell_type": "markdown",
   "metadata": {},
   "source": [
    "Basic set up to load and inspect data before any data exploration and analysis:"
   ]
  },
  {
   "cell_type": "markdown",
   "metadata": {},
   "source": [
    "First step is to load in basic Python libraris and the data.."
   ]
  },
  {
   "cell_type": "code",
   "execution_count": 1,
   "metadata": {},
   "outputs": [
    {
     "name": "stdout",
     "output_type": "stream",
     "text": [
      "Looking in indexes: https://s3-eu-west-2.amazonaws.com/mirrors.notebook.uktrade.io/pypi/\n",
      "Requirement already satisfied: openpyxl in /opt/conda/lib/python3.9/site-packages (3.0.10)\n",
      "Requirement already satisfied: et-xmlfile in /opt/conda/lib/python3.9/site-packages (from openpyxl) (1.1.0)\n",
      "\u001b[33mWARNING: You are using pip version 22.0.4; however, version 22.1.1 is available.\n",
      "You should consider upgrading via the '/opt/conda/bin/python3 -m pip install --upgrade pip' command.\u001b[0m\u001b[33m\n",
      "\u001b[0m"
     ]
    }
   ],
   "source": [
    "# pandas and numpy are universally used in python, like tidyverse is in R. \n",
    "import pandas as pd\n",
    "import numpy as np\n",
    "\n",
    "!pip install openpyxl\n",
    "\n",
    "# chnage from scientific notation \n",
    "pd.set_option('display.float_format', lambda x: '%.5f' % x)\n",
    "\n",
    "trade = pd.read_excel(\"data/trade_data.xlsx\") # upload xlsxl\n",
    "tariff = pd.read_excel(\"data/tariff_data.xlsx\")\n",
    "# upload csv"
   ]
  },
  {
   "cell_type": "code",
   "execution_count": 2,
   "metadata": {},
   "outputs": [
    {
     "data": {
      "text/html": [
       "<div>\n",
       "<style scoped>\n",
       "    .dataframe tbody tr th:only-of-type {\n",
       "        vertical-align: middle;\n",
       "    }\n",
       "\n",
       "    .dataframe tbody tr th {\n",
       "        vertical-align: top;\n",
       "    }\n",
       "\n",
       "    .dataframe thead th {\n",
       "        text-align: right;\n",
       "    }\n",
       "</style>\n",
       "<table border=\"1\" class=\"dataframe\">\n",
       "  <thead>\n",
       "    <tr style=\"text-align: right;\">\n",
       "      <th></th>\n",
       "      <th>Year</th>\n",
       "      <th>Flow</th>\n",
       "      <th>Commodity Code</th>\n",
       "      <th>Country Code</th>\n",
       "      <th>Country Name</th>\n",
       "      <th>Value GBP</th>\n",
       "      <th>Suppression notes</th>\n",
       "    </tr>\n",
       "  </thead>\n",
       "  <tbody>\n",
       "    <tr>\n",
       "      <th>0</th>\n",
       "      <td>2020</td>\n",
       "      <td>Exports</td>\n",
       "      <td>01012100</td>\n",
       "      <td>TW</td>\n",
       "      <td>Taiwan</td>\n",
       "      <td>892</td>\n",
       "      <td>NaN</td>\n",
       "    </tr>\n",
       "    <tr>\n",
       "      <th>1</th>\n",
       "      <td>2020</td>\n",
       "      <td>Exports</td>\n",
       "      <td>01062000</td>\n",
       "      <td>TW</td>\n",
       "      <td>Taiwan</td>\n",
       "      <td>14101</td>\n",
       "      <td>NaN</td>\n",
       "    </tr>\n",
       "    <tr>\n",
       "      <th>2</th>\n",
       "      <td>2020</td>\n",
       "      <td>Exports</td>\n",
       "      <td>01063100</td>\n",
       "      <td>TW</td>\n",
       "      <td>Taiwan</td>\n",
       "      <td>1750</td>\n",
       "      <td>NaN</td>\n",
       "    </tr>\n",
       "    <tr>\n",
       "      <th>3</th>\n",
       "      <td>2020</td>\n",
       "      <td>Exports</td>\n",
       "      <td>02031913</td>\n",
       "      <td>TW</td>\n",
       "      <td>Taiwan</td>\n",
       "      <td>290818</td>\n",
       "      <td>NaN</td>\n",
       "    </tr>\n",
       "    <tr>\n",
       "      <th>4</th>\n",
       "      <td>2020</td>\n",
       "      <td>Exports</td>\n",
       "      <td>02031990</td>\n",
       "      <td>TW</td>\n",
       "      <td>Taiwan</td>\n",
       "      <td>1140</td>\n",
       "      <td>NaN</td>\n",
       "    </tr>\n",
       "  </tbody>\n",
       "</table>\n",
       "</div>"
      ],
      "text/plain": [
       "   Year     Flow Commodity Code Country Code Country Name  Value GBP  \\\n",
       "0  2020  Exports       01012100           TW       Taiwan        892   \n",
       "1  2020  Exports       01062000           TW       Taiwan      14101   \n",
       "2  2020  Exports       01063100           TW       Taiwan       1750   \n",
       "3  2020  Exports       02031913           TW       Taiwan     290818   \n",
       "4  2020  Exports       02031990           TW       Taiwan       1140   \n",
       "\n",
       "   Suppression notes  \n",
       "0                NaN  \n",
       "1                NaN  \n",
       "2                NaN  \n",
       "3                NaN  \n",
       "4                NaN  "
      ]
     },
     "execution_count": 2,
     "metadata": {},
     "output_type": "execute_result"
    }
   ],
   "source": [
    "trade.head()"
   ]
  },
  {
   "cell_type": "markdown",
   "metadata": {},
   "source": [
    "basic df exploration:"
   ]
  },
  {
   "cell_type": "code",
   "execution_count": 3,
   "metadata": {},
   "outputs": [
    {
     "data": {
      "text/plain": [
       "Year                   int64\n",
       "Flow                  object\n",
       "Commodity Code        object\n",
       "Country Code          object\n",
       "Country Name          object\n",
       "Value GBP              int64\n",
       "Suppression notes    float64\n",
       "dtype: object"
      ]
     },
     "execution_count": 3,
     "metadata": {},
     "output_type": "execute_result"
    }
   ],
   "source": [
    "# column names and types:\n",
    "trade.dtypes"
   ]
  },
  {
   "cell_type": "code",
   "execution_count": 4,
   "metadata": {},
   "outputs": [
    {
     "name": "stdout",
     "output_type": "stream",
     "text": [
      "<class 'pandas.core.frame.DataFrame'>\n",
      "RangeIndex: 41142 entries, 0 to 41141\n",
      "Data columns (total 7 columns):\n",
      " #   Column             Non-Null Count  Dtype  \n",
      "---  ------             --------------  -----  \n",
      " 0   Year               41142 non-null  int64  \n",
      " 1   Flow               41142 non-null  object \n",
      " 2   Commodity Code     41142 non-null  object \n",
      " 3   Country Code       41142 non-null  object \n",
      " 4   Country Name       41142 non-null  object \n",
      " 5   Value GBP          41142 non-null  int64  \n",
      " 6   Suppression notes  0 non-null      float64\n",
      "dtypes: float64(1), int64(2), object(4)\n",
      "memory usage: 2.2+ MB\n"
     ]
    }
   ],
   "source": [
    "# df summary:\n",
    "trade.info()"
   ]
  },
  {
   "cell_type": "markdown",
   "metadata": {},
   "source": [
    "using .info is very useful as in additional to Dtypes being printed you are provided with the \"non-null\" values or in other words NAs. For example the supression notes column is only NA values."
   ]
  },
  {
   "cell_type": "code",
   "execution_count": 5,
   "metadata": {},
   "outputs": [
    {
     "data": {
      "text/html": [
       "<div>\n",
       "<style scoped>\n",
       "    .dataframe tbody tr th:only-of-type {\n",
       "        vertical-align: middle;\n",
       "    }\n",
       "\n",
       "    .dataframe tbody tr th {\n",
       "        vertical-align: top;\n",
       "    }\n",
       "\n",
       "    .dataframe thead th {\n",
       "        text-align: right;\n",
       "    }\n",
       "</style>\n",
       "<table border=\"1\" class=\"dataframe\">\n",
       "  <thead>\n",
       "    <tr style=\"text-align: right;\">\n",
       "      <th></th>\n",
       "      <th>Year</th>\n",
       "      <th>Value GBP</th>\n",
       "      <th>Suppression notes</th>\n",
       "    </tr>\n",
       "  </thead>\n",
       "  <tbody>\n",
       "    <tr>\n",
       "      <th>count</th>\n",
       "      <td>41142.00000</td>\n",
       "      <td>41142.00000</td>\n",
       "      <td>0.00000</td>\n",
       "    </tr>\n",
       "    <tr>\n",
       "      <th>mean</th>\n",
       "      <td>2019.92774</td>\n",
       "      <td>2658886.45810</td>\n",
       "      <td>NaN</td>\n",
       "    </tr>\n",
       "    <tr>\n",
       "      <th>std</th>\n",
       "      <td>0.25892</td>\n",
       "      <td>61225646.84820</td>\n",
       "      <td>NaN</td>\n",
       "    </tr>\n",
       "    <tr>\n",
       "      <th>min</th>\n",
       "      <td>2019.00000</td>\n",
       "      <td>4.00000</td>\n",
       "      <td>NaN</td>\n",
       "    </tr>\n",
       "    <tr>\n",
       "      <th>25%</th>\n",
       "      <td>2020.00000</td>\n",
       "      <td>5892.25000</td>\n",
       "      <td>NaN</td>\n",
       "    </tr>\n",
       "    <tr>\n",
       "      <th>50%</th>\n",
       "      <td>2020.00000</td>\n",
       "      <td>34204.50000</td>\n",
       "      <td>NaN</td>\n",
       "    </tr>\n",
       "    <tr>\n",
       "      <th>75%</th>\n",
       "      <td>2020.00000</td>\n",
       "      <td>260768.75000</td>\n",
       "      <td>NaN</td>\n",
       "    </tr>\n",
       "    <tr>\n",
       "      <th>max</th>\n",
       "      <td>2020.00000</td>\n",
       "      <td>8963450144.00000</td>\n",
       "      <td>NaN</td>\n",
       "    </tr>\n",
       "  </tbody>\n",
       "</table>\n",
       "</div>"
      ],
      "text/plain": [
       "             Year        Value GBP  Suppression notes\n",
       "count 41142.00000      41142.00000            0.00000\n",
       "mean   2019.92774    2658886.45810                NaN\n",
       "std       0.25892   61225646.84820                NaN\n",
       "min    2019.00000          4.00000                NaN\n",
       "25%    2020.00000       5892.25000                NaN\n",
       "50%    2020.00000      34204.50000                NaN\n",
       "75%    2020.00000     260768.75000                NaN\n",
       "max    2020.00000 8963450144.00000                NaN"
      ]
     },
     "execution_count": 5,
     "metadata": {},
     "output_type": "execute_result"
    }
   ],
   "source": [
    "# summarise numerical values\n",
    "trade.describe()"
   ]
  },
  {
   "cell_type": "code",
   "execution_count": 6,
   "metadata": {},
   "outputs": [
    {
     "data": {
      "text/plain": [
       "(41142, 7)"
      ]
     },
     "execution_count": 6,
     "metadata": {},
     "output_type": "execute_result"
    }
   ],
   "source": [
    "# simple df dimensions use shape:\n",
    "trade.shape"
   ]
  },
  {
   "cell_type": "markdown",
   "metadata": {},
   "source": [
    "**Note:** that the year column is uploaded as a value. It may be preferable to work with a character type rather than value for this column. When uploading data the data type can be specified"
   ]
  },
  {
   "cell_type": "code",
   "execution_count": 7,
   "metadata": {},
   "outputs": [
    {
     "name": "stdout",
     "output_type": "stream",
     "text": [
      "Year                  object\n",
      "Flow                  object\n",
      "Commodity Code        object\n",
      "Country Code          object\n",
      "Country Name          object\n",
      "Value GBP              int64\n",
      "Suppression notes    float64\n",
      "dtype: object Year                 object\n",
      "Flow                 object\n",
      "Commodity Code       object\n",
      "Country Code         object\n",
      "Country Name         object\n",
      "Value GBP            object\n",
      "Suppression notes    object\n",
      "dtype: object Year                   int64\n",
      "Flow                  object\n",
      "Commodity Code        object\n",
      "Country Code          object\n",
      "Country Name          object\n",
      "Value GBP            float64\n",
      "Suppression notes    float64\n",
      "dtype: object\n"
     ]
    }
   ],
   "source": [
    "trade2 = pd.read_excel(\"data/trade_data.xlsx\",dtype={'Year': str}) # convert year to string when uploading data\n",
    "trade3 = pd.read_excel(\"data/trade_data.xlsx\",dtype=str) # all columns as string\n",
    "trade4 = pd.read_excel(\"data/trade_data.xlsx\",dtype={'Value GBP': np.float64}) # convert value to float opposed to integer. Floats allows for decimal points\n",
    "print(trade2.dtypes,trade3.dtypes,trade4.dtypes)"
   ]
  },
  {
   "cell_type": "code",
   "execution_count": 8,
   "metadata": {},
   "outputs": [
    {
     "name": "stdout",
     "output_type": "stream",
     "text": [
      "<class 'pandas.core.frame.DataFrame'>\n",
      "RangeIndex: 41142 entries, 0 to 41141\n",
      "Data columns (total 7 columns):\n",
      " #   Column             Non-Null Count  Dtype  \n",
      "---  ------             --------------  -----  \n",
      " 0   Year               41142 non-null  int64  \n",
      " 1   Flow               41142 non-null  object \n",
      " 2   Commodity Code     41142 non-null  object \n",
      " 3   Country Code       41142 non-null  object \n",
      " 4   Country Name       41142 non-null  object \n",
      " 5   Value GBP          41142 non-null  float64\n",
      " 6   Suppression notes  0 non-null      float64\n",
      "dtypes: float64(2), int64(1), object(4)\n",
      "memory usage: 2.2+ MB\n"
     ]
    }
   ],
   "source": [
    "# want float for value so re-upload trade data:\n",
    "trade = pd.read_excel(\"data/trade_data.xlsx\",dtype={'Value GBP': np.float64})\n",
    "trade.info()"
   ]
  },
  {
   "cell_type": "markdown",
   "metadata": {},
   "source": [
    "## janitor - clean_names() equivalent. "
   ]
  },
  {
   "cell_type": "markdown",
   "metadata": {},
   "source": [
    "Working with cleaner string/column names is highlgihy recommended. "
   ]
  },
  {
   "cell_type": "code",
   "execution_count": 9,
   "metadata": {},
   "outputs": [
    {
     "data": {
      "text/plain": [
       "year                   int64\n",
       "flow                  object\n",
       "commodity_code        object\n",
       "country_code          object\n",
       "country_name          object\n",
       "value_gbp            float64\n",
       "suppression_notes    float64\n",
       "dtype: object"
      ]
     },
     "execution_count": 9,
     "metadata": {},
     "output_type": "execute_result"
    }
   ],
   "source": [
    "trade.columns = trade.columns.str.lower().str.replace(\" \",\"_\")\n",
    "trade.dtypes"
   ]
  },
  {
   "cell_type": "code",
   "execution_count": 10,
   "metadata": {},
   "outputs": [],
   "source": [
    "# using function - helpful if multiple dataframes to convert.\n",
    "def  cleanCols(df): \n",
    "    df.columns = df.columns.str.lower().str.replace(\" \",\"_\")\n",
    "    return(df)\n",
    "\n",
    "trade = cleanCols(trade)\n",
    "trade2 = cleanCols(trade2)\n",
    "trade3 = cleanCols(trade3)\n",
    "tariff = cleanCols(tariff)"
   ]
  },
  {
   "cell_type": "markdown",
   "metadata": {},
   "source": [
    "## 1. Select columns ----"
   ]
  },
  {
   "cell_type": "markdown",
   "metadata": {},
   "source": [
    "basic selection:"
   ]
  },
  {
   "cell_type": "code",
   "execution_count": 11,
   "metadata": {},
   "outputs": [
    {
     "data": {
      "text/plain": [
       "year                int64\n",
       "flow               object\n",
       "commodity_code     object\n",
       "country_name       object\n",
       "value_gbp         float64\n",
       "dtype: object"
      ]
     },
     "execution_count": 11,
     "metadata": {},
     "output_type": "execute_result"
    }
   ],
   "source": [
    "trade2 = trade[[\"year\",\"flow\",\"commodity_code\",\"country_name\",\"value_gbp\"]]\n",
    "trade2.dtypes"
   ]
  },
  {
   "cell_type": "code",
   "execution_count": 12,
   "metadata": {},
   "outputs": [],
   "source": [
    "# use an array:\n",
    "cols = [\"year\",\"flow\",\"commodity_code\",\"country_name\",\"value_gbp\"]\n",
    "trade2 = trade[cols]"
   ]
  },
  {
   "cell_type": "code",
   "execution_count": 13,
   "metadata": {},
   "outputs": [
    {
     "data": {
      "text/plain": [
       "year                int64\n",
       "flow               object\n",
       "commodity_code     object\n",
       "country_name       object\n",
       "value_gbp         float64\n",
       "dtype: object"
      ]
     },
     "execution_count": 13,
     "metadata": {},
     "output_type": "execute_result"
    }
   ],
   "source": [
    "trade2.dtypes"
   ]
  },
  {
   "cell_type": "markdown",
   "metadata": {},
   "source": [
    "drop columns:"
   ]
  },
  {
   "cell_type": "code",
   "execution_count": 14,
   "metadata": {},
   "outputs": [
    {
     "data": {
      "text/plain": [
       "country_code          object\n",
       "country_name          object\n",
       "value_gbp            float64\n",
       "suppression_notes    float64\n",
       "dtype: object"
      ]
     },
     "execution_count": 14,
     "metadata": {},
     "output_type": "execute_result"
    }
   ],
   "source": [
    "# remove columns\n",
    "trade2 = trade.drop([\"year\",\"flow\",\"commodity_code\"], 1) # index 1 reference columns to remove from df\n",
    "trade2.dtypes"
   ]
  },
  {
   "cell_type": "code",
   "execution_count": 15,
   "metadata": {},
   "outputs": [
    {
     "data": {
      "text/plain": [
       "country_code          object\n",
       "suppression_notes    float64\n",
       "dtype: object"
      ]
     },
     "execution_count": 15,
     "metadata": {},
     "output_type": "execute_result"
    }
   ],
   "source": [
    "trade2 = trade.drop(cols,1)\n",
    "trade2.dtypes"
   ]
  },
  {
   "cell_type": "markdown",
   "metadata": {},
   "source": [
    "select columns using column indexes (numbers): tbc:"
   ]
  },
  {
   "cell_type": "markdown",
   "metadata": {},
   "source": [
    "### 1.a select columns using string patterns"
   ]
  },
  {
   "cell_type": "markdown",
   "metadata": {},
   "source": [
    "The tariff data uploaded is a good df for this example as it has alot of strings with patterns which can be used for tidy selecitons"
   ]
  },
  {
   "cell_type": "code",
   "execution_count": 16,
   "metadata": {},
   "outputs": [
    {
     "data": {
      "text/plain": [
       "commodity_heading                           object\n",
       "commodity_code                               int64\n",
       "x8_digit_or_10_digit                         int64\n",
       "commodity_code_description                  object\n",
       "mfn_applied_duty_rate                       object\n",
       "preferential_applied_duty_rate_2021         object\n",
       "preferential_applied_duty_rate_2022         object\n",
       "preferential_applied_duty_rate_2023         object\n",
       "preferential_applied_duty_rate_2024         object\n",
       "quota_number                                object\n",
       "in_quota_tariff_line_code                  float64\n",
       "preferential_applied_duty_rate_excluded     object\n",
       "notes                                       object\n",
       "cn8                                          int64\n",
       "hs2                                          int64\n",
       "hs_section                                  object\n",
       "hs2_description                             object\n",
       "mfn_applied_rate_ukgt                       object\n",
       "value_usd                                  float64\n",
       "cn8_count                                    int64\n",
       "tariff_status_2021                          object\n",
       "tariff_status_final_2021                    object\n",
       "tariff_status_2022                          object\n",
       "tariff_status_final_2022                    object\n",
       "tariff_status_2023                          object\n",
       "tariff_status_final_2023                    object\n",
       "tariff_status_2024                          object\n",
       "tariff_status_final_2024                    object\n",
       "dtype: object"
      ]
     },
     "execution_count": 16,
     "metadata": {},
     "output_type": "execute_result"
    }
   ],
   "source": [
    "tariff.dtypes"
   ]
  },
  {
   "cell_type": "code",
   "execution_count": 17,
   "metadata": {},
   "outputs": [],
   "source": [
    "prefCol = tariff.columns[tariff.columns.str.contains(pat = 'pref')]\n",
    "prefCol2 = [col for col in tariff.columns if 'pref' in col]"
   ]
  },
  {
   "cell_type": "code",
   "execution_count": 18,
   "metadata": {},
   "outputs": [
    {
     "name": "stdout",
     "output_type": "stream",
     "text": [
      "Index(['preferential_applied_duty_rate_2021',\n",
      "       'preferential_applied_duty_rate_2022',\n",
      "       'preferential_applied_duty_rate_2023',\n",
      "       'preferential_applied_duty_rate_2024',\n",
      "       'preferential_applied_duty_rate_excluded'],\n",
      "      dtype='object') ['preferential_applied_duty_rate_2021', 'preferential_applied_duty_rate_2022', 'preferential_applied_duty_rate_2023', 'preferential_applied_duty_rate_2024', 'preferential_applied_duty_rate_excluded']\n"
     ]
    }
   ],
   "source": [
    "print(prefCol,prefCol2)"
   ]
  },
  {
   "cell_type": "markdown",
   "metadata": {},
   "source": [
    "Note difference between output types: one is an indexed array. "
   ]
  },
  {
   "cell_type": "code",
   "execution_count": 19,
   "metadata": {},
   "outputs": [],
   "source": [
    "mfnCol = [col for col in tariff.columns if 'mfn' in col]"
   ]
  },
  {
   "cell_type": "code",
   "execution_count": 20,
   "metadata": {},
   "outputs": [],
   "source": [
    "codeCol = [col for col in tariff.columns if 'commodity' in col]"
   ]
  },
  {
   "cell_type": "code",
   "execution_count": 21,
   "metadata": {},
   "outputs": [
    {
     "name": "stdout",
     "output_type": "stream",
     "text": [
      "[['commodity_heading', 'commodity_code', 'commodity_code_description'], ['mfn_applied_duty_rate', 'mfn_applied_rate_ukgt'], ['preferential_applied_duty_rate_2021', 'preferential_applied_duty_rate_2022', 'preferential_applied_duty_rate_2023', 'preferential_applied_duty_rate_2024', 'preferential_applied_duty_rate_excluded']]\n"
     ]
    }
   ],
   "source": [
    "colNames = [codeCol,mfnCol,prefCol2]\n",
    "print(colNames)"
   ]
  },
  {
   "cell_type": "code",
   "execution_count": 22,
   "metadata": {},
   "outputs": [],
   "source": [
    "#tariff2 = tariff[colNames]\n",
    "#tariff2.dtypes\n",
    "# for error fix use:\n",
    "#colNames = np.concatenate((codeCol,prefCol, mfnCol))"
   ]
  },
  {
   "cell_type": "markdown",
   "metadata": {},
   "source": [
    "**NOTE the error.** Three list arrays have been combined together which then can't be used in this way to filter a pandas df. \n",
    "\n",
    "You can use numpy arrays for the column filters to select the data by using np.concatonate"
   ]
  },
  {
   "cell_type": "code",
   "execution_count": 23,
   "metadata": {},
   "outputs": [
    {
     "data": {
      "text/html": [
       "<div>\n",
       "<style scoped>\n",
       "    .dataframe tbody tr th:only-of-type {\n",
       "        vertical-align: middle;\n",
       "    }\n",
       "\n",
       "    .dataframe tbody tr th {\n",
       "        vertical-align: top;\n",
       "    }\n",
       "\n",
       "    .dataframe thead th {\n",
       "        text-align: right;\n",
       "    }\n",
       "</style>\n",
       "<table border=\"1\" class=\"dataframe\">\n",
       "  <thead>\n",
       "    <tr style=\"text-align: right;\">\n",
       "      <th></th>\n",
       "      <th>commodity_heading</th>\n",
       "      <th>commodity_code</th>\n",
       "      <th>commodity_code_description</th>\n",
       "      <th>preferential_applied_duty_rate_2021</th>\n",
       "      <th>preferential_applied_duty_rate_2022</th>\n",
       "      <th>preferential_applied_duty_rate_2023</th>\n",
       "      <th>preferential_applied_duty_rate_2024</th>\n",
       "      <th>preferential_applied_duty_rate_excluded</th>\n",
       "      <th>mfn_applied_duty_rate</th>\n",
       "      <th>mfn_applied_rate_ukgt</th>\n",
       "    </tr>\n",
       "  </thead>\n",
       "  <tbody>\n",
       "    <tr>\n",
       "      <th>0</th>\n",
       "      <td>01 - Live Animals</td>\n",
       "      <td>1012100</td>\n",
       "      <td>Pure-bred breeding horses</td>\n",
       "      <td>0%</td>\n",
       "      <td>0%</td>\n",
       "      <td>0%</td>\n",
       "      <td>0%</td>\n",
       "      <td>N</td>\n",
       "      <td>0%</td>\n",
       "      <td>0</td>\n",
       "    </tr>\n",
       "    <tr>\n",
       "      <th>1</th>\n",
       "      <td>01 - Live Animals</td>\n",
       "      <td>1012910</td>\n",
       "      <td>Horses for slaughter</td>\n",
       "      <td>0%</td>\n",
       "      <td>0%</td>\n",
       "      <td>0%</td>\n",
       "      <td>0%</td>\n",
       "      <td>N</td>\n",
       "      <td>0%</td>\n",
       "      <td>0</td>\n",
       "    </tr>\n",
       "    <tr>\n",
       "      <th>2</th>\n",
       "      <td>01 - Live Animals</td>\n",
       "      <td>1012990</td>\n",
       "      <td>Live horses (excl. for slaughter, pure-bred fo...</td>\n",
       "      <td>0%</td>\n",
       "      <td>0%</td>\n",
       "      <td>0%</td>\n",
       "      <td>0%</td>\n",
       "      <td>N</td>\n",
       "      <td>10%</td>\n",
       "      <td>0.1</td>\n",
       "    </tr>\n",
       "    <tr>\n",
       "      <th>3</th>\n",
       "      <td>01 - Live Animals</td>\n",
       "      <td>1013000</td>\n",
       "      <td>Live asses</td>\n",
       "      <td>0%</td>\n",
       "      <td>0%</td>\n",
       "      <td>0%</td>\n",
       "      <td>0%</td>\n",
       "      <td>N</td>\n",
       "      <td>6%</td>\n",
       "      <td>0.06</td>\n",
       "    </tr>\n",
       "    <tr>\n",
       "      <th>4</th>\n",
       "      <td>01 - Live Animals</td>\n",
       "      <td>1019000</td>\n",
       "      <td>Live mules and hinnies</td>\n",
       "      <td>0%</td>\n",
       "      <td>0%</td>\n",
       "      <td>0%</td>\n",
       "      <td>0%</td>\n",
       "      <td>N</td>\n",
       "      <td>10%</td>\n",
       "      <td>0.1</td>\n",
       "    </tr>\n",
       "  </tbody>\n",
       "</table>\n",
       "</div>"
      ],
      "text/plain": [
       "   commodity_heading  commodity_code  \\\n",
       "0  01 - Live Animals         1012100   \n",
       "1  01 - Live Animals         1012910   \n",
       "2  01 - Live Animals         1012990   \n",
       "3  01 - Live Animals         1013000   \n",
       "4  01 - Live Animals         1019000   \n",
       "\n",
       "                          commodity_code_description  \\\n",
       "0                          Pure-bred breeding horses   \n",
       "1                               Horses for slaughter   \n",
       "2  Live horses (excl. for slaughter, pure-bred fo...   \n",
       "3                                         Live asses   \n",
       "4                             Live mules and hinnies   \n",
       "\n",
       "  preferential_applied_duty_rate_2021 preferential_applied_duty_rate_2022  \\\n",
       "0                                  0%                                  0%   \n",
       "1                                  0%                                  0%   \n",
       "2                                  0%                                  0%   \n",
       "3                                  0%                                  0%   \n",
       "4                                  0%                                  0%   \n",
       "\n",
       "  preferential_applied_duty_rate_2023 preferential_applied_duty_rate_2024  \\\n",
       "0                                  0%                                  0%   \n",
       "1                                  0%                                  0%   \n",
       "2                                  0%                                  0%   \n",
       "3                                  0%                                  0%   \n",
       "4                                  0%                                  0%   \n",
       "\n",
       "  preferential_applied_duty_rate_excluded mfn_applied_duty_rate  \\\n",
       "0                                       N                    0%   \n",
       "1                                       N                    0%   \n",
       "2                                       N                   10%   \n",
       "3                                       N                    6%   \n",
       "4                                       N                   10%   \n",
       "\n",
       "  mfn_applied_rate_ukgt  \n",
       "0                     0  \n",
       "1                     0  \n",
       "2                   0.1  \n",
       "3                  0.06  \n",
       "4                   0.1  "
      ]
     },
     "execution_count": 23,
     "metadata": {},
     "output_type": "execute_result"
    }
   ],
   "source": [
    "prefCol = [col for col in tariff.columns if 'pref' in col]\n",
    "mfnCol = [col for col in tariff.columns if 'mfn' in col]\n",
    "codeCol = [col for col in tariff.columns if 'commodity' in col]\n",
    "colNames2 =  np.concatenate((codeCol,prefCol, mfnCol))\n",
    "tariff2 = tariff[colNames2]\n",
    "tariff2.head()"
   ]
  },
  {
   "cell_type": "markdown",
   "metadata": {},
   "source": [
    "### 1b. select columns with numerical values and combination of string patterns"
   ]
  },
  {
   "cell_type": "markdown",
   "metadata": {},
   "source": [
    "Select columns which contain numerical values and where numerical values end the column string\n",
    "\n",
    "i.e. preferntial. + 2021, 2022 etc..."
   ]
  },
  {
   "cell_type": "markdown",
   "metadata": {},
   "source": [
    "```python\n",
    "tariff2=tariff[[\"commodity_code\",\"preferential_applied_duty_rate_2021,\n",
    "                \"preferential_applied_duty_rate_2022\",\n",
    "                \"preferential_applied_duty_rate_2023\",\"\n",
    "                \"preferential_applied_duty_rate_2024\"]]\n",
    "```"
   ]
  },
  {
   "cell_type": "markdown",
   "metadata": {},
   "source": [
    "If there were even more columns to manually type everything out is tedious and time consuming when it can easily be done using string recognition"
   ]
  },
  {
   "cell_type": "code",
   "execution_count": 24,
   "metadata": {},
   "outputs": [
    {
     "data": {
      "text/plain": [
       "array(['x8_digit_or_10_digit', 'preferential_applied_duty_rate_2021',\n",
       "       'preferential_applied_duty_rate_2022',\n",
       "       'preferential_applied_duty_rate_2023',\n",
       "       'preferential_applied_duty_rate_2024', 'cn8', 'hs2',\n",
       "       'hs2_description', 'cn8_count', 'tariff_status_2021',\n",
       "       'tariff_status_final_2021', 'tariff_status_2022',\n",
       "       'tariff_status_final_2022', 'tariff_status_2023',\n",
       "       'tariff_status_final_2023', 'tariff_status_2024',\n",
       "       'tariff_status_final_2024'], dtype=object)"
      ]
     },
     "execution_count": 24,
     "metadata": {},
     "output_type": "execute_result"
    }
   ],
   "source": [
    "col = np.array(tariff.columns[tariff.columns.str.contains('.*[0-9].*', regex=True)]) # select columns with any muerical value\n",
    "col"
   ]
  },
  {
   "cell_type": "markdown",
   "metadata": {},
   "source": [
    "doesnt create what is required - can combine str.contains multiple times:"
   ]
  },
  {
   "cell_type": "code",
   "execution_count": 25,
   "metadata": {},
   "outputs": [
    {
     "data": {
      "text/plain": [
       "[]"
      ]
     },
     "execution_count": 25,
     "metadata": {},
     "output_type": "execute_result"
    }
   ],
   "source": [
    "# doens't work when trying to extract numerical vlaues at end of string: (anyone know fix?)\n",
    "col_list = [col for col in tariff.columns if col.endswith('.*[0-9].*')]\n",
    "col_list"
   ]
  },
  {
   "cell_type": "code",
   "execution_count": 26,
   "metadata": {},
   "outputs": [
    {
     "data": {
      "text/plain": [
       "Index(['preferential_applied_duty_rate_2021',\n",
       "       'preferential_applied_duty_rate_2022',\n",
       "       'preferential_applied_duty_rate_2023',\n",
       "       'preferential_applied_duty_rate_2024', 'tariff_status_2021',\n",
       "       'tariff_status_final_2021', 'tariff_status_2022',\n",
       "       'tariff_status_final_2022', 'tariff_status_2023',\n",
       "       'tariff_status_final_2023', 'tariff_status_2024',\n",
       "       'tariff_status_final_2024'],\n",
       "      dtype='object')"
      ]
     },
     "execution_count": 26,
     "metadata": {},
     "output_type": "execute_result"
    }
   ],
   "source": [
    "#alternsative quick way can be a simple pattern within the numerical strings, however, extract unwanted tariff columns:\n",
    "cl = tariff.columns[tariff.columns.str.contains(pat = '20')]\n",
    "cl"
   ]
  },
  {
   "cell_type": "code",
   "execution_count": 27,
   "metadata": {},
   "outputs": [
    {
     "data": {
      "text/plain": [
       "array(['preferential_applied_duty_rate_2021',\n",
       "       'preferential_applied_duty_rate_2022',\n",
       "       'preferential_applied_duty_rate_2023',\n",
       "       'preferential_applied_duty_rate_2024', 'tariff_status_2021',\n",
       "       'tariff_status_final_2021', 'tariff_status_2022',\n",
       "       'tariff_status_final_2022', 'tariff_status_2023',\n",
       "       'tariff_status_final_2023', 'tariff_status_2024',\n",
       "       'tariff_status_final_2024'], dtype=object)"
      ]
     },
     "execution_count": 27,
     "metadata": {},
     "output_type": "execute_result"
    }
   ],
   "source": [
    "col = np.array(tariff.columns[tariff.columns.str.contains('20',regex=True)]) # select columns with any muerical value\n",
    "col"
   ]
  },
  {
   "cell_type": "code",
   "execution_count": 28,
   "metadata": {},
   "outputs": [
    {
     "data": {
      "text/plain": [
       "['preferential_applied_duty_rate_2022']"
      ]
     },
     "execution_count": 28,
     "metadata": {},
     "output_type": "execute_result"
    }
   ],
   "source": [
    "#example using startswith and endswith:\n",
    "col_list = [col for col in tariff.columns if (col.startswith('pref') & col.endswith(\"2\"))]\n",
    "col_list"
   ]
  },
  {
   "cell_type": "code",
   "execution_count": 29,
   "metadata": {},
   "outputs": [
    {
     "data": {
      "text/plain": [
       "array(['preferential_applied_duty_rate_2021',\n",
       "       'preferential_applied_duty_rate_2022',\n",
       "       'preferential_applied_duty_rate_2023',\n",
       "       'preferential_applied_duty_rate_2024'], dtype=object)"
      ]
     },
     "execution_count": 29,
     "metadata": {},
     "output_type": "execute_result"
    }
   ],
   "source": [
    "c = np.array(tariff.columns[tariff.columns.str.contains(pat = \"pref\") & tariff.columns.str.contains('20',regex=True)])\n",
    "c"
   ]
  },
  {
   "cell_type": "code",
   "execution_count": 30,
   "metadata": {},
   "outputs": [
    {
     "data": {
      "text/html": [
       "<div>\n",
       "<style scoped>\n",
       "    .dataframe tbody tr th:only-of-type {\n",
       "        vertical-align: middle;\n",
       "    }\n",
       "\n",
       "    .dataframe tbody tr th {\n",
       "        vertical-align: top;\n",
       "    }\n",
       "\n",
       "    .dataframe thead th {\n",
       "        text-align: right;\n",
       "    }\n",
       "</style>\n",
       "<table border=\"1\" class=\"dataframe\">\n",
       "  <thead>\n",
       "    <tr style=\"text-align: right;\">\n",
       "      <th></th>\n",
       "      <th>commodity_code</th>\n",
       "      <th>preferential_applied_duty_rate_2021</th>\n",
       "      <th>preferential_applied_duty_rate_2022</th>\n",
       "      <th>preferential_applied_duty_rate_2023</th>\n",
       "      <th>preferential_applied_duty_rate_2024</th>\n",
       "    </tr>\n",
       "  </thead>\n",
       "  <tbody>\n",
       "    <tr>\n",
       "      <th>0</th>\n",
       "      <td>1012100</td>\n",
       "      <td>0%</td>\n",
       "      <td>0%</td>\n",
       "      <td>0%</td>\n",
       "      <td>0%</td>\n",
       "    </tr>\n",
       "    <tr>\n",
       "      <th>1</th>\n",
       "      <td>1012910</td>\n",
       "      <td>0%</td>\n",
       "      <td>0%</td>\n",
       "      <td>0%</td>\n",
       "      <td>0%</td>\n",
       "    </tr>\n",
       "    <tr>\n",
       "      <th>2</th>\n",
       "      <td>1012990</td>\n",
       "      <td>0%</td>\n",
       "      <td>0%</td>\n",
       "      <td>0%</td>\n",
       "      <td>0%</td>\n",
       "    </tr>\n",
       "    <tr>\n",
       "      <th>3</th>\n",
       "      <td>1013000</td>\n",
       "      <td>0%</td>\n",
       "      <td>0%</td>\n",
       "      <td>0%</td>\n",
       "      <td>0%</td>\n",
       "    </tr>\n",
       "    <tr>\n",
       "      <th>4</th>\n",
       "      <td>1019000</td>\n",
       "      <td>0%</td>\n",
       "      <td>0%</td>\n",
       "      <td>0%</td>\n",
       "      <td>0%</td>\n",
       "    </tr>\n",
       "  </tbody>\n",
       "</table>\n",
       "</div>"
      ],
      "text/plain": [
       "   commodity_code preferential_applied_duty_rate_2021  \\\n",
       "0         1012100                                  0%   \n",
       "1         1012910                                  0%   \n",
       "2         1012990                                  0%   \n",
       "3         1013000                                  0%   \n",
       "4         1019000                                  0%   \n",
       "\n",
       "  preferential_applied_duty_rate_2022 preferential_applied_duty_rate_2023  \\\n",
       "0                                  0%                                  0%   \n",
       "1                                  0%                                  0%   \n",
       "2                                  0%                                  0%   \n",
       "3                                  0%                                  0%   \n",
       "4                                  0%                                  0%   \n",
       "\n",
       "  preferential_applied_duty_rate_2024  \n",
       "0                                  0%  \n",
       "1                                  0%  \n",
       "2                                  0%  \n",
       "3                                  0%  \n",
       "4                                  0%  "
      ]
     },
     "execution_count": 30,
     "metadata": {},
     "output_type": "execute_result"
    }
   ],
   "source": [
    "# need to combine commoidty code with c in np.array\n",
    "cd = [\"commodity_code\"]\n",
    "c2 = np.concatenate((cd,c))\n",
    "tariff[c2].head()"
   ]
  },
  {
   "cell_type": "code",
   "execution_count": 31,
   "metadata": {},
   "outputs": [
    {
     "data": {
      "text/html": [
       "<div>\n",
       "<style scoped>\n",
       "    .dataframe tbody tr th:only-of-type {\n",
       "        vertical-align: middle;\n",
       "    }\n",
       "\n",
       "    .dataframe tbody tr th {\n",
       "        vertical-align: top;\n",
       "    }\n",
       "\n",
       "    .dataframe thead th {\n",
       "        text-align: right;\n",
       "    }\n",
       "</style>\n",
       "<table border=\"1\" class=\"dataframe\">\n",
       "  <thead>\n",
       "    <tr style=\"text-align: right;\">\n",
       "      <th></th>\n",
       "      <th>commodity_code</th>\n",
       "      <th>preferential_applied_duty_rate_2021</th>\n",
       "      <th>preferential_applied_duty_rate_2022</th>\n",
       "      <th>preferential_applied_duty_rate_2023</th>\n",
       "      <th>preferential_applied_duty_rate_2024</th>\n",
       "    </tr>\n",
       "  </thead>\n",
       "  <tbody>\n",
       "    <tr>\n",
       "      <th>0</th>\n",
       "      <td>1012100</td>\n",
       "      <td>0%</td>\n",
       "      <td>0%</td>\n",
       "      <td>0%</td>\n",
       "      <td>0%</td>\n",
       "    </tr>\n",
       "    <tr>\n",
       "      <th>1</th>\n",
       "      <td>1012910</td>\n",
       "      <td>0%</td>\n",
       "      <td>0%</td>\n",
       "      <td>0%</td>\n",
       "      <td>0%</td>\n",
       "    </tr>\n",
       "    <tr>\n",
       "      <th>2</th>\n",
       "      <td>1012990</td>\n",
       "      <td>0%</td>\n",
       "      <td>0%</td>\n",
       "      <td>0%</td>\n",
       "      <td>0%</td>\n",
       "    </tr>\n",
       "    <tr>\n",
       "      <th>3</th>\n",
       "      <td>1013000</td>\n",
       "      <td>0%</td>\n",
       "      <td>0%</td>\n",
       "      <td>0%</td>\n",
       "      <td>0%</td>\n",
       "    </tr>\n",
       "    <tr>\n",
       "      <th>4</th>\n",
       "      <td>1019000</td>\n",
       "      <td>0%</td>\n",
       "      <td>0%</td>\n",
       "      <td>0%</td>\n",
       "      <td>0%</td>\n",
       "    </tr>\n",
       "  </tbody>\n",
       "</table>\n",
       "</div>"
      ],
      "text/plain": [
       "   commodity_code preferential_applied_duty_rate_2021  \\\n",
       "0         1012100                                  0%   \n",
       "1         1012910                                  0%   \n",
       "2         1012990                                  0%   \n",
       "3         1013000                                  0%   \n",
       "4         1019000                                  0%   \n",
       "\n",
       "  preferential_applied_duty_rate_2022 preferential_applied_duty_rate_2023  \\\n",
       "0                                  0%                                  0%   \n",
       "1                                  0%                                  0%   \n",
       "2                                  0%                                  0%   \n",
       "3                                  0%                                  0%   \n",
       "4                                  0%                                  0%   \n",
       "\n",
       "  preferential_applied_duty_rate_2024  \n",
       "0                                  0%  \n",
       "1                                  0%  \n",
       "2                                  0%  \n",
       "3                                  0%  \n",
       "4                                  0%  "
      ]
     },
     "execution_count": 31,
     "metadata": {},
     "output_type": "execute_result"
    }
   ],
   "source": [
    "# full solution:\n",
    "c = np.array(tariff.columns[tariff.columns.str.contains(pat = \"pref\") & tariff.columns.str.contains('20',regex=True)])\n",
    "cd = [\"commodity_code\"]\n",
    "c2 = np.concatenate((cd,c))\n",
    "tariff2 = tariff[c2]\n",
    "tariff2.head()"
   ]
  },
  {
   "cell_type": "markdown",
   "metadata": {},
   "source": [
    "****"
   ]
  },
  {
   "cell_type": "markdown",
   "metadata": {},
   "source": [
    "### 1c. Relocate columns:"
   ]
  },
  {
   "cell_type": "markdown",
   "metadata": {},
   "source": [
    "I am currnelty unaware of a single line function which acheives this like relocate in tidyverse. However it takes a few lines having specified the columns wanting to be relocated within the df."
   ]
  },
  {
   "cell_type": "markdown",
   "metadata": {},
   "source": [
    "Example: trade data set - move flow column next to trade value"
   ]
  },
  {
   "cell_type": "code",
   "execution_count": 32,
   "metadata": {},
   "outputs": [],
   "source": [
    "trade2 = trade.copy()"
   ]
  },
  {
   "cell_type": "code",
   "execution_count": 33,
   "metadata": {},
   "outputs": [
    {
     "data": {
      "text/html": [
       "<div>\n",
       "<style scoped>\n",
       "    .dataframe tbody tr th:only-of-type {\n",
       "        vertical-align: middle;\n",
       "    }\n",
       "\n",
       "    .dataframe tbody tr th {\n",
       "        vertical-align: top;\n",
       "    }\n",
       "\n",
       "    .dataframe thead th {\n",
       "        text-align: right;\n",
       "    }\n",
       "</style>\n",
       "<table border=\"1\" class=\"dataframe\">\n",
       "  <thead>\n",
       "    <tr style=\"text-align: right;\">\n",
       "      <th></th>\n",
       "      <th>year</th>\n",
       "      <th>commodity_code</th>\n",
       "      <th>country_code</th>\n",
       "      <th>country_name</th>\n",
       "      <th>flow</th>\n",
       "      <th>value_gbp</th>\n",
       "      <th>suppression_notes</th>\n",
       "    </tr>\n",
       "  </thead>\n",
       "  <tbody>\n",
       "    <tr>\n",
       "      <th>0</th>\n",
       "      <td>2020</td>\n",
       "      <td>01012100</td>\n",
       "      <td>TW</td>\n",
       "      <td>Taiwan</td>\n",
       "      <td>Exports</td>\n",
       "      <td>892.00000</td>\n",
       "      <td>NaN</td>\n",
       "    </tr>\n",
       "    <tr>\n",
       "      <th>1</th>\n",
       "      <td>2020</td>\n",
       "      <td>01062000</td>\n",
       "      <td>TW</td>\n",
       "      <td>Taiwan</td>\n",
       "      <td>Exports</td>\n",
       "      <td>14101.00000</td>\n",
       "      <td>NaN</td>\n",
       "    </tr>\n",
       "    <tr>\n",
       "      <th>2</th>\n",
       "      <td>2020</td>\n",
       "      <td>01063100</td>\n",
       "      <td>TW</td>\n",
       "      <td>Taiwan</td>\n",
       "      <td>Exports</td>\n",
       "      <td>1750.00000</td>\n",
       "      <td>NaN</td>\n",
       "    </tr>\n",
       "    <tr>\n",
       "      <th>3</th>\n",
       "      <td>2020</td>\n",
       "      <td>02031913</td>\n",
       "      <td>TW</td>\n",
       "      <td>Taiwan</td>\n",
       "      <td>Exports</td>\n",
       "      <td>290818.00000</td>\n",
       "      <td>NaN</td>\n",
       "    </tr>\n",
       "    <tr>\n",
       "      <th>4</th>\n",
       "      <td>2020</td>\n",
       "      <td>02031990</td>\n",
       "      <td>TW</td>\n",
       "      <td>Taiwan</td>\n",
       "      <td>Exports</td>\n",
       "      <td>1140.00000</td>\n",
       "      <td>NaN</td>\n",
       "    </tr>\n",
       "  </tbody>\n",
       "</table>\n",
       "</div>"
      ],
      "text/plain": [
       "   year commodity_code country_code country_name     flow    value_gbp  \\\n",
       "0  2020       01012100           TW       Taiwan  Exports    892.00000   \n",
       "1  2020       01062000           TW       Taiwan  Exports  14101.00000   \n",
       "2  2020       01063100           TW       Taiwan  Exports   1750.00000   \n",
       "3  2020       02031913           TW       Taiwan  Exports 290818.00000   \n",
       "4  2020       02031990           TW       Taiwan  Exports   1140.00000   \n",
       "\n",
       "   suppression_notes  \n",
       "0                NaN  \n",
       "1                NaN  \n",
       "2                NaN  \n",
       "3                NaN  \n",
       "4                NaN  "
      ]
     },
     "execution_count": 33,
     "metadata": {},
     "output_type": "execute_result"
    }
   ],
   "source": [
    "# name column(s) to be moved:\n",
    "col = trade2[\"flow\"]\n",
    "# drop column in df\n",
    "trade2.drop(labels=[\"flow\"], axis = 1, inplace = True)\n",
    "# insert column back in and select position. Value gbp is column 5(4 when index starts at 0). \n",
    "trade2.insert(4,\"flow\",col)\n",
    "trade2.head()"
   ]
  },
  {
   "cell_type": "code",
   "execution_count": 34,
   "metadata": {},
   "outputs": [
    {
     "data": {
      "text/html": [
       "<div>\n",
       "<style scoped>\n",
       "    .dataframe tbody tr th:only-of-type {\n",
       "        vertical-align: middle;\n",
       "    }\n",
       "\n",
       "    .dataframe tbody tr th {\n",
       "        vertical-align: top;\n",
       "    }\n",
       "\n",
       "    .dataframe thead th {\n",
       "        text-align: right;\n",
       "    }\n",
       "</style>\n",
       "<table border=\"1\" class=\"dataframe\">\n",
       "  <thead>\n",
       "    <tr style=\"text-align: right;\">\n",
       "      <th></th>\n",
       "      <th>year</th>\n",
       "      <th>country_code</th>\n",
       "      <th>country_name</th>\n",
       "      <th>commodity_code</th>\n",
       "      <th>flow</th>\n",
       "      <th>value_gbp</th>\n",
       "      <th>suppression_notes</th>\n",
       "    </tr>\n",
       "  </thead>\n",
       "  <tbody>\n",
       "    <tr>\n",
       "      <th>0</th>\n",
       "      <td>2020</td>\n",
       "      <td>TW</td>\n",
       "      <td>Taiwan</td>\n",
       "      <td>01012100</td>\n",
       "      <td>Exports</td>\n",
       "      <td>892.00000</td>\n",
       "      <td>NaN</td>\n",
       "    </tr>\n",
       "    <tr>\n",
       "      <th>1</th>\n",
       "      <td>2020</td>\n",
       "      <td>TW</td>\n",
       "      <td>Taiwan</td>\n",
       "      <td>01062000</td>\n",
       "      <td>Exports</td>\n",
       "      <td>14101.00000</td>\n",
       "      <td>NaN</td>\n",
       "    </tr>\n",
       "    <tr>\n",
       "      <th>2</th>\n",
       "      <td>2020</td>\n",
       "      <td>TW</td>\n",
       "      <td>Taiwan</td>\n",
       "      <td>01063100</td>\n",
       "      <td>Exports</td>\n",
       "      <td>1750.00000</td>\n",
       "      <td>NaN</td>\n",
       "    </tr>\n",
       "    <tr>\n",
       "      <th>3</th>\n",
       "      <td>2020</td>\n",
       "      <td>TW</td>\n",
       "      <td>Taiwan</td>\n",
       "      <td>02031913</td>\n",
       "      <td>Exports</td>\n",
       "      <td>290818.00000</td>\n",
       "      <td>NaN</td>\n",
       "    </tr>\n",
       "    <tr>\n",
       "      <th>4</th>\n",
       "      <td>2020</td>\n",
       "      <td>TW</td>\n",
       "      <td>Taiwan</td>\n",
       "      <td>02031990</td>\n",
       "      <td>Exports</td>\n",
       "      <td>1140.00000</td>\n",
       "      <td>NaN</td>\n",
       "    </tr>\n",
       "  </tbody>\n",
       "</table>\n",
       "</div>"
      ],
      "text/plain": [
       "   year country_code country_name commodity_code     flow    value_gbp  \\\n",
       "0  2020           TW       Taiwan       01012100  Exports    892.00000   \n",
       "1  2020           TW       Taiwan       01062000  Exports  14101.00000   \n",
       "2  2020           TW       Taiwan       01063100  Exports   1750.00000   \n",
       "3  2020           TW       Taiwan       02031913  Exports 290818.00000   \n",
       "4  2020           TW       Taiwan       02031990  Exports   1140.00000   \n",
       "\n",
       "   suppression_notes  \n",
       "0                NaN  \n",
       "1                NaN  \n",
       "2                NaN  \n",
       "3                NaN  \n",
       "4                NaN  "
      ]
     },
     "execution_count": 34,
     "metadata": {},
     "output_type": "execute_result"
    }
   ],
   "source": [
    "# Can easily move multiple columns using same method:\n",
    "cols = trade2[[\"country_name\",\"country_code\"]]\n",
    "col1 = trade2[\"country_name\"]\n",
    "col2 = trade2[\"country_code\"]\n",
    "trade2.drop(cols, axis = 1, inplace = True)\n",
    "# insert column back in and select position. Value gbp is column 5(4 when index starts at 0). \n",
    "trade2.insert(1,\"country_name\",col1)\n",
    "trade2.insert(1,\"country_code\",col2)\n",
    "trade2.head()"
   ]
  },
  {
   "cell_type": "markdown",
   "metadata": {},
   "source": [
    "If you want to move a larger selection of columns the above method isn't the most helpful. You can more easily specific the seleciton naming the order of columns (similar to select in tidyverse):"
   ]
  },
  {
   "cell_type": "code",
   "execution_count": 35,
   "metadata": {},
   "outputs": [
    {
     "data": {
      "text/html": [
       "<div>\n",
       "<style scoped>\n",
       "    .dataframe tbody tr th:only-of-type {\n",
       "        vertical-align: middle;\n",
       "    }\n",
       "\n",
       "    .dataframe tbody tr th {\n",
       "        vertical-align: top;\n",
       "    }\n",
       "\n",
       "    .dataframe thead th {\n",
       "        text-align: right;\n",
       "    }\n",
       "</style>\n",
       "<table border=\"1\" class=\"dataframe\">\n",
       "  <thead>\n",
       "    <tr style=\"text-align: right;\">\n",
       "      <th></th>\n",
       "      <th>year</th>\n",
       "      <th>country_code</th>\n",
       "      <th>country_name</th>\n",
       "      <th>flow</th>\n",
       "      <th>commodity_code</th>\n",
       "      <th>value_gbp</th>\n",
       "      <th>suppression_notes</th>\n",
       "    </tr>\n",
       "  </thead>\n",
       "  <tbody>\n",
       "    <tr>\n",
       "      <th>0</th>\n",
       "      <td>2020</td>\n",
       "      <td>TW</td>\n",
       "      <td>Taiwan</td>\n",
       "      <td>Exports</td>\n",
       "      <td>01012100</td>\n",
       "      <td>892.00000</td>\n",
       "      <td>NaN</td>\n",
       "    </tr>\n",
       "    <tr>\n",
       "      <th>1</th>\n",
       "      <td>2020</td>\n",
       "      <td>TW</td>\n",
       "      <td>Taiwan</td>\n",
       "      <td>Exports</td>\n",
       "      <td>01062000</td>\n",
       "      <td>14101.00000</td>\n",
       "      <td>NaN</td>\n",
       "    </tr>\n",
       "    <tr>\n",
       "      <th>2</th>\n",
       "      <td>2020</td>\n",
       "      <td>TW</td>\n",
       "      <td>Taiwan</td>\n",
       "      <td>Exports</td>\n",
       "      <td>01063100</td>\n",
       "      <td>1750.00000</td>\n",
       "      <td>NaN</td>\n",
       "    </tr>\n",
       "    <tr>\n",
       "      <th>3</th>\n",
       "      <td>2020</td>\n",
       "      <td>TW</td>\n",
       "      <td>Taiwan</td>\n",
       "      <td>Exports</td>\n",
       "      <td>02031913</td>\n",
       "      <td>290818.00000</td>\n",
       "      <td>NaN</td>\n",
       "    </tr>\n",
       "    <tr>\n",
       "      <th>4</th>\n",
       "      <td>2020</td>\n",
       "      <td>TW</td>\n",
       "      <td>Taiwan</td>\n",
       "      <td>Exports</td>\n",
       "      <td>02031990</td>\n",
       "      <td>1140.00000</td>\n",
       "      <td>NaN</td>\n",
       "    </tr>\n",
       "  </tbody>\n",
       "</table>\n",
       "</div>"
      ],
      "text/plain": [
       "   year country_code country_name     flow commodity_code    value_gbp  \\\n",
       "0  2020           TW       Taiwan  Exports       01012100    892.00000   \n",
       "1  2020           TW       Taiwan  Exports       01062000  14101.00000   \n",
       "2  2020           TW       Taiwan  Exports       01063100   1750.00000   \n",
       "3  2020           TW       Taiwan  Exports       02031913 290818.00000   \n",
       "4  2020           TW       Taiwan  Exports       02031990   1140.00000   \n",
       "\n",
       "   suppression_notes  \n",
       "0                NaN  \n",
       "1                NaN  \n",
       "2                NaN  \n",
       "3                NaN  \n",
       "4                NaN  "
      ]
     },
     "execution_count": 35,
     "metadata": {},
     "output_type": "execute_result"
    }
   ],
   "source": [
    "trade2 = trade[[\"year\",\"country_code\",\"country_name\",\"flow\",\"commodity_code\",\"value_gbp\",\"suppression_notes\"]]\n",
    "trade2.head()"
   ]
  },
  {
   "cell_type": "markdown",
   "metadata": {},
   "source": [
    "However if you have alot more columns this is also not particularly helpful if you want to decrease time writing out column names.."
   ]
  },
  {
   "cell_type": "code",
   "execution_count": 36,
   "metadata": {},
   "outputs": [
    {
     "data": {
      "text/plain": [
       "commodity_heading                           object\n",
       "commodity_code                               int64\n",
       "commodity_code_description                  object\n",
       "preferential_applied_duty_rate_2021         object\n",
       "preferential_applied_duty_rate_2022         object\n",
       "preferential_applied_duty_rate_2023         object\n",
       "preferential_applied_duty_rate_2024         object\n",
       "preferential_applied_duty_rate_excluded     object\n",
       "mfn_applied_duty_rate                       object\n",
       "mfn_applied_rate_ukgt                       object\n",
       "in_quota_tariff_line_code                  float64\n",
       "tariff_status_2021                          object\n",
       "tariff_status_final_2021                    object\n",
       "tariff_status_2022                          object\n",
       "tariff_status_final_2022                    object\n",
       "tariff_status_2023                          object\n",
       "tariff_status_final_2023                    object\n",
       "tariff_status_2024                          object\n",
       "tariff_status_final_2024                    object\n",
       "dtype: object"
      ]
     },
     "execution_count": 36,
     "metadata": {},
     "output_type": "execute_result"
    }
   ],
   "source": [
    "#example df:\n",
    "    \n",
    "prefCol = [col for col in tariff.columns if 'pref' in col]\n",
    "mfnCol = [col for col in tariff.columns if 'mfn' in col]\n",
    "codeCol = [col for col in tariff.columns if 'commodity' in col]\n",
    "tariffCol = [col for col in tariff.columns if 'tariff' in col]\n",
    "colNames2 =  np.concatenate((codeCol,prefCol, mfnCol,tariffCol))\n",
    "tariff2 = tariff[colNames2]\n",
    "tariff2.dtypes"
   ]
  },
  {
   "cell_type": "markdown",
   "metadata": {},
   "source": [
    " "
   ]
  },
  {
   "cell_type": "markdown",
   "metadata": {},
   "source": [
    "There are alot of pattenr recogmition strings within this dataframe. However i am approaching this as if there weren't and we wanted to relocate multiple columns ot select positions within a df."
   ]
  },
  {
   "cell_type": "code",
   "execution_count": 37,
   "metadata": {},
   "outputs": [],
   "source": [
    "tariff2 = tariff.copy()"
   ]
  },
  {
   "cell_type": "code",
   "execution_count": 55,
   "metadata": {},
   "outputs": [
    {
     "data": {
      "text/html": [
       "<div>\n",
       "<style scoped>\n",
       "    .dataframe tbody tr th:only-of-type {\n",
       "        vertical-align: middle;\n",
       "    }\n",
       "\n",
       "    .dataframe tbody tr th {\n",
       "        vertical-align: top;\n",
       "    }\n",
       "\n",
       "    .dataframe thead th {\n",
       "        text-align: right;\n",
       "    }\n",
       "</style>\n",
       "<table border=\"1\" class=\"dataframe\">\n",
       "  <thead>\n",
       "    <tr style=\"text-align: right;\">\n",
       "      <th></th>\n",
       "      <th>mfn_applied_duty_rate</th>\n",
       "      <th>mfn_applied_rate_ukgt</th>\n",
       "      <th>commodity_heading</th>\n",
       "      <th>commodity_code</th>\n",
       "      <th>x8_digit_or_10_digit</th>\n",
       "      <th>commodity_code_description</th>\n",
       "      <th>preferential_applied_duty_rate_2021</th>\n",
       "      <th>preferential_applied_duty_rate_2022</th>\n",
       "      <th>preferential_applied_duty_rate_2023</th>\n",
       "      <th>preferential_applied_duty_rate_2024</th>\n",
       "      <th>...</th>\n",
       "      <th>value_usd</th>\n",
       "      <th>cn8_count</th>\n",
       "      <th>tariff_status_2021</th>\n",
       "      <th>tariff_status_final_2021</th>\n",
       "      <th>tariff_status_2022</th>\n",
       "      <th>tariff_status_final_2022</th>\n",
       "      <th>tariff_status_2023</th>\n",
       "      <th>tariff_status_final_2023</th>\n",
       "      <th>tariff_status_2024</th>\n",
       "      <th>tariff_status_final_2024</th>\n",
       "    </tr>\n",
       "  </thead>\n",
       "  <tbody>\n",
       "    <tr>\n",
       "      <th>0</th>\n",
       "      <td>0%</td>\n",
       "      <td>0</td>\n",
       "      <td>01 - Live Animals</td>\n",
       "      <td>1012100</td>\n",
       "      <td>8</td>\n",
       "      <td>Pure-bred breeding horses</td>\n",
       "      <td>0%</td>\n",
       "      <td>0%</td>\n",
       "      <td>0%</td>\n",
       "      <td>0%</td>\n",
       "      <td>...</td>\n",
       "      <td>15123.15643</td>\n",
       "      <td>1</td>\n",
       "      <td>mfn_zero</td>\n",
       "      <td>mfn_zero</td>\n",
       "      <td>mfn_zero</td>\n",
       "      <td>mfn_zero</td>\n",
       "      <td>mfn_zero</td>\n",
       "      <td>mfn_zero</td>\n",
       "      <td>mfn_zero</td>\n",
       "      <td>mfn_zero</td>\n",
       "    </tr>\n",
       "    <tr>\n",
       "      <th>1</th>\n",
       "      <td>0%</td>\n",
       "      <td>0</td>\n",
       "      <td>01 - Live Animals</td>\n",
       "      <td>1012910</td>\n",
       "      <td>8</td>\n",
       "      <td>Horses for slaughter</td>\n",
       "      <td>0%</td>\n",
       "      <td>0%</td>\n",
       "      <td>0%</td>\n",
       "      <td>0%</td>\n",
       "      <td>...</td>\n",
       "      <td>NaN</td>\n",
       "      <td>1</td>\n",
       "      <td>mfn_zero</td>\n",
       "      <td>mfn_zero</td>\n",
       "      <td>mfn_zero</td>\n",
       "      <td>mfn_zero</td>\n",
       "      <td>mfn_zero</td>\n",
       "      <td>mfn_zero</td>\n",
       "      <td>mfn_zero</td>\n",
       "      <td>mfn_zero</td>\n",
       "    </tr>\n",
       "    <tr>\n",
       "      <th>2</th>\n",
       "      <td>10%</td>\n",
       "      <td>0.1</td>\n",
       "      <td>01 - Live Animals</td>\n",
       "      <td>1012990</td>\n",
       "      <td>8</td>\n",
       "      <td>Live horses (excl. for slaughter, pure-bred fo...</td>\n",
       "      <td>0%</td>\n",
       "      <td>0%</td>\n",
       "      <td>0%</td>\n",
       "      <td>0%</td>\n",
       "      <td>...</td>\n",
       "      <td>25331.97586</td>\n",
       "      <td>1</td>\n",
       "      <td>pref_zero</td>\n",
       "      <td>pref_zero</td>\n",
       "      <td>pref_zero</td>\n",
       "      <td>pref_zero</td>\n",
       "      <td>pref_zero</td>\n",
       "      <td>pref_zero</td>\n",
       "      <td>pref_zero</td>\n",
       "      <td>pref_zero</td>\n",
       "    </tr>\n",
       "  </tbody>\n",
       "</table>\n",
       "<p>3 rows × 28 columns</p>\n",
       "</div>"
      ],
      "text/plain": [
       "  mfn_applied_duty_rate mfn_applied_rate_ukgt  commodity_heading  \\\n",
       "0                    0%                     0  01 - Live Animals   \n",
       "1                    0%                     0  01 - Live Animals   \n",
       "2                   10%                   0.1  01 - Live Animals   \n",
       "\n",
       "   commodity_code  x8_digit_or_10_digit  \\\n",
       "0         1012100                     8   \n",
       "1         1012910                     8   \n",
       "2         1012990                     8   \n",
       "\n",
       "                          commodity_code_description  \\\n",
       "0                          Pure-bred breeding horses   \n",
       "1                               Horses for slaughter   \n",
       "2  Live horses (excl. for slaughter, pure-bred fo...   \n",
       "\n",
       "  preferential_applied_duty_rate_2021 preferential_applied_duty_rate_2022  \\\n",
       "0                                  0%                                  0%   \n",
       "1                                  0%                                  0%   \n",
       "2                                  0%                                  0%   \n",
       "\n",
       "  preferential_applied_duty_rate_2023 preferential_applied_duty_rate_2024  \\\n",
       "0                                  0%                                  0%   \n",
       "1                                  0%                                  0%   \n",
       "2                                  0%                                  0%   \n",
       "\n",
       "   ...   value_usd  cn8_count tariff_status_2021 tariff_status_final_2021  \\\n",
       "0  ... 15123.15643          1           mfn_zero                 mfn_zero   \n",
       "1  ...         NaN          1           mfn_zero                 mfn_zero   \n",
       "2  ... 25331.97586          1          pref_zero                pref_zero   \n",
       "\n",
       "   tariff_status_2022  tariff_status_final_2022 tariff_status_2023  \\\n",
       "0            mfn_zero                  mfn_zero           mfn_zero   \n",
       "1            mfn_zero                  mfn_zero           mfn_zero   \n",
       "2           pref_zero                 pref_zero          pref_zero   \n",
       "\n",
       "  tariff_status_final_2023  tariff_status_2024  tariff_status_final_2024  \n",
       "0                 mfn_zero            mfn_zero                  mfn_zero  \n",
       "1                 mfn_zero            mfn_zero                  mfn_zero  \n",
       "2                pref_zero           pref_zero                 pref_zero  \n",
       "\n",
       "[3 rows x 28 columns]"
      ]
     },
     "execution_count": 55,
     "metadata": {},
     "output_type": "execute_result"
    }
   ],
   "source": [
    "# relocate MFN columns to front of data frame (method is useful when moving numerous columns to new position)\n",
    "cols_to_move = [\"mfn_applied_duty_rate\",\"mfn_applied_rate_ukgt\"]\n",
    "#col_index = [\"commo\n",
    "tariff3 = tariff2[cols_to_move + [ col for col in tariff2.columns if col not in cols_to_move ]]\n",
    "tariff3.head(3)"
   ]
  },
  {
   "cell_type": "code",
   "execution_count": 39,
   "metadata": {},
   "outputs": [
    {
     "data": {
      "text/plain": [
       "commodity_heading                           object\n",
       "commodity_code                               int64\n",
       "x8_digit_or_10_digit                         int64\n",
       "commodity_code_description                  object\n",
       "mfn_applied_duty_rate                       object\n",
       "preferential_applied_duty_rate_2021         object\n",
       "preferential_applied_duty_rate_2022         object\n",
       "preferential_applied_duty_rate_2023         object\n",
       "preferential_applied_duty_rate_2024         object\n",
       "quota_number                                object\n",
       "in_quota_tariff_line_code                  float64\n",
       "preferential_applied_duty_rate_excluded     object\n",
       "notes                                       object\n",
       "cn8                                          int64\n",
       "hs2                                          int64\n",
       "hs_section                                  object\n",
       "hs2_description                             object\n",
       "mfn_applied_rate_ukgt                       object\n",
       "value_usd                                  float64\n",
       "cn8_count                                    int64\n",
       "tariff_status_2021                          object\n",
       "tariff_status_final_2021                    object\n",
       "tariff_status_2022                          object\n",
       "tariff_status_final_2022                    object\n",
       "tariff_status_2023                          object\n",
       "tariff_status_final_2023                    object\n",
       "tariff_status_2024                          object\n",
       "tariff_status_final_2024                    object\n",
       "dtype: object"
      ]
     },
     "execution_count": 39,
     "metadata": {},
     "output_type": "execute_result"
    }
   ],
   "source": [
    "tariff2.dtypes"
   ]
  },
  {
   "cell_type": "code",
   "execution_count": 40,
   "metadata": {},
   "outputs": [
    {
     "data": {
      "text/plain": [
       "commodity_heading                           object\n",
       "commodity_code                               int64\n",
       "x8_digit_or_10_digit                         int64\n",
       "commodity_code_description                  object\n",
       "mfn_applied_duty_rate                       object\n",
       "quota_number                                object\n",
       "in_quota_tariff_line_code                  float64\n",
       "notes                                       object\n",
       "cn8                                          int64\n",
       "hs2                                          int64\n",
       "hs_section                                  object\n",
       "hs2_description                             object\n",
       "mfn_applied_rate_ukgt                       object\n",
       "value_usd                                  float64\n",
       "cn8_count                                    int64\n",
       "tariff_status_2021                          object\n",
       "tariff_status_final_2021                    object\n",
       "tariff_status_2022                          object\n",
       "tariff_status_final_2022                    object\n",
       "tariff_status_2023                          object\n",
       "tariff_status_final_2023                    object\n",
       "tariff_status_2024                          object\n",
       "tariff_status_final_2024                    object\n",
       "preferential_applied_duty_rate_2021         object\n",
       "preferential_applied_duty_rate_2022         object\n",
       "preferential_applied_duty_rate_2023         object\n",
       "preferential_applied_duty_rate_2024         object\n",
       "preferential_applied_duty_rate_excluded     object\n",
       "dtype: object"
      ]
     },
     "execution_count": 40,
     "metadata": {},
     "output_type": "execute_result"
    }
   ],
   "source": [
    "# move pref columns to end of df\n",
    "cols_to_move = [col for col in tariff.columns if 'pref' in col]\n",
    "tariff3 = tariff2[[ col for col in tariff2.columns if col not in cols_to_move ]+cols_to_move]\n",
    "tariff3.dtypes"
   ]
  },
  {
   "cell_type": "markdown",
   "metadata": {},
   "source": [
    "### **Still looking for solution to move selected columns to arbitary postion in df, i,e, relocate pref columns after \"in_quota_tariff_line_code\" for example**"
   ]
  },
  {
   "cell_type": "markdown",
   "metadata": {},
   "source": [
    " "
   ]
  },
  {
   "cell_type": "markdown",
   "metadata": {},
   "source": [
    "****"
   ]
  },
  {
   "cell_type": "markdown",
   "metadata": {},
   "source": [
    "## 2. Create new columns"
   ]
  },
  {
   "cell_type": "markdown",
   "metadata": {},
   "source": [
    "creating columns is simple in Python. "
   ]
  },
  {
   "cell_type": "markdown",
   "metadata": {},
   "source": [
    "#### Basics"
   ]
  },
  {
   "cell_type": "code",
   "execution_count": 41,
   "metadata": {},
   "outputs": [],
   "source": [
    "trade2 = trade.copy()"
   ]
  },
  {
   "cell_type": "code",
   "execution_count": 42,
   "metadata": {},
   "outputs": [
    {
     "data": {
      "text/html": [
       "<div>\n",
       "<style scoped>\n",
       "    .dataframe tbody tr th:only-of-type {\n",
       "        vertical-align: middle;\n",
       "    }\n",
       "\n",
       "    .dataframe tbody tr th {\n",
       "        vertical-align: top;\n",
       "    }\n",
       "\n",
       "    .dataframe thead th {\n",
       "        text-align: right;\n",
       "    }\n",
       "</style>\n",
       "<table border=\"1\" class=\"dataframe\">\n",
       "  <thead>\n",
       "    <tr style=\"text-align: right;\">\n",
       "      <th></th>\n",
       "      <th>year</th>\n",
       "      <th>flow</th>\n",
       "      <th>commodity_code</th>\n",
       "      <th>country_code</th>\n",
       "      <th>country_name</th>\n",
       "      <th>value_gbp</th>\n",
       "      <th>suppression_notes</th>\n",
       "      <th>new_col</th>\n",
       "    </tr>\n",
       "  </thead>\n",
       "  <tbody>\n",
       "    <tr>\n",
       "      <th>0</th>\n",
       "      <td>2020</td>\n",
       "      <td>Exports</td>\n",
       "      <td>01012100</td>\n",
       "      <td>TW</td>\n",
       "      <td>Taiwan</td>\n",
       "      <td>892.00000</td>\n",
       "      <td>NaN</td>\n",
       "      <td>10</td>\n",
       "    </tr>\n",
       "    <tr>\n",
       "      <th>1</th>\n",
       "      <td>2020</td>\n",
       "      <td>Exports</td>\n",
       "      <td>01062000</td>\n",
       "      <td>TW</td>\n",
       "      <td>Taiwan</td>\n",
       "      <td>14101.00000</td>\n",
       "      <td>NaN</td>\n",
       "      <td>10</td>\n",
       "    </tr>\n",
       "    <tr>\n",
       "      <th>2</th>\n",
       "      <td>2020</td>\n",
       "      <td>Exports</td>\n",
       "      <td>01063100</td>\n",
       "      <td>TW</td>\n",
       "      <td>Taiwan</td>\n",
       "      <td>1750.00000</td>\n",
       "      <td>NaN</td>\n",
       "      <td>10</td>\n",
       "    </tr>\n",
       "  </tbody>\n",
       "</table>\n",
       "</div>"
      ],
      "text/plain": [
       "   year     flow commodity_code country_code country_name   value_gbp  \\\n",
       "0  2020  Exports       01012100           TW       Taiwan   892.00000   \n",
       "1  2020  Exports       01062000           TW       Taiwan 14101.00000   \n",
       "2  2020  Exports       01063100           TW       Taiwan  1750.00000   \n",
       "\n",
       "   suppression_notes  new_col  \n",
       "0                NaN       10  \n",
       "1                NaN       10  \n",
       "2                NaN       10  "
      ]
     },
     "execution_count": 42,
     "metadata": {},
     "output_type": "execute_result"
    }
   ],
   "source": [
    "trade2[\"new_col\"] = 10\n",
    "trade2.head(3)"
   ]
  },
  {
   "cell_type": "code",
   "execution_count": 43,
   "metadata": {},
   "outputs": [
    {
     "data": {
      "text/html": [
       "<div>\n",
       "<style scoped>\n",
       "    .dataframe tbody tr th:only-of-type {\n",
       "        vertical-align: middle;\n",
       "    }\n",
       "\n",
       "    .dataframe tbody tr th {\n",
       "        vertical-align: top;\n",
       "    }\n",
       "\n",
       "    .dataframe thead th {\n",
       "        text-align: right;\n",
       "    }\n",
       "</style>\n",
       "<table border=\"1\" class=\"dataframe\">\n",
       "  <thead>\n",
       "    <tr style=\"text-align: right;\">\n",
       "      <th></th>\n",
       "      <th>year</th>\n",
       "      <th>flow</th>\n",
       "      <th>commodity_code</th>\n",
       "      <th>country_code</th>\n",
       "      <th>country_name</th>\n",
       "      <th>value_gbp</th>\n",
       "      <th>suppression_notes</th>\n",
       "      <th>new_col</th>\n",
       "      <th>value_usd</th>\n",
       "      <th>value_eur</th>\n",
       "    </tr>\n",
       "  </thead>\n",
       "  <tbody>\n",
       "    <tr>\n",
       "      <th>0</th>\n",
       "      <td>2020</td>\n",
       "      <td>Exports</td>\n",
       "      <td>01012100</td>\n",
       "      <td>TW</td>\n",
       "      <td>Taiwan</td>\n",
       "      <td>892.00000</td>\n",
       "      <td>NaN</td>\n",
       "      <td>10</td>\n",
       "      <td>713.60000</td>\n",
       "      <td>802.80000</td>\n",
       "    </tr>\n",
       "    <tr>\n",
       "      <th>1</th>\n",
       "      <td>2020</td>\n",
       "      <td>Exports</td>\n",
       "      <td>01062000</td>\n",
       "      <td>TW</td>\n",
       "      <td>Taiwan</td>\n",
       "      <td>14101.00000</td>\n",
       "      <td>NaN</td>\n",
       "      <td>10</td>\n",
       "      <td>11280.80000</td>\n",
       "      <td>12690.90000</td>\n",
       "    </tr>\n",
       "    <tr>\n",
       "      <th>2</th>\n",
       "      <td>2020</td>\n",
       "      <td>Exports</td>\n",
       "      <td>01063100</td>\n",
       "      <td>TW</td>\n",
       "      <td>Taiwan</td>\n",
       "      <td>1750.00000</td>\n",
       "      <td>NaN</td>\n",
       "      <td>10</td>\n",
       "      <td>1400.00000</td>\n",
       "      <td>1575.00000</td>\n",
       "    </tr>\n",
       "  </tbody>\n",
       "</table>\n",
       "</div>"
      ],
      "text/plain": [
       "   year     flow commodity_code country_code country_name   value_gbp  \\\n",
       "0  2020  Exports       01012100           TW       Taiwan   892.00000   \n",
       "1  2020  Exports       01062000           TW       Taiwan 14101.00000   \n",
       "2  2020  Exports       01063100           TW       Taiwan  1750.00000   \n",
       "\n",
       "   suppression_notes  new_col   value_usd   value_eur  \n",
       "0                NaN       10   713.60000   802.80000  \n",
       "1                NaN       10 11280.80000 12690.90000  \n",
       "2                NaN       10  1400.00000  1575.00000  "
      ]
     },
     "execution_count": 43,
     "metadata": {},
     "output_type": "execute_result"
    }
   ],
   "source": [
    "#convert gbp values:\n",
    "usd = 0.8\n",
    "eur = 0.9\n",
    "trade2[\"value_usd\"] = trade2[\"value_gbp\"]*usd\n",
    "trade2[\"value_eur\"] = trade2[\"value_gbp\"]*eur\n",
    "trade2.head(3)"
   ]
  },
  {
   "cell_type": "code",
   "execution_count": 44,
   "metadata": {},
   "outputs": [
    {
     "data": {
      "text/html": [
       "<div>\n",
       "<style scoped>\n",
       "    .dataframe tbody tr th:only-of-type {\n",
       "        vertical-align: middle;\n",
       "    }\n",
       "\n",
       "    .dataframe tbody tr th {\n",
       "        vertical-align: top;\n",
       "    }\n",
       "\n",
       "    .dataframe thead th {\n",
       "        text-align: right;\n",
       "    }\n",
       "</style>\n",
       "<table border=\"1\" class=\"dataframe\">\n",
       "  <thead>\n",
       "    <tr style=\"text-align: right;\">\n",
       "      <th></th>\n",
       "      <th>year</th>\n",
       "      <th>flow</th>\n",
       "      <th>commodity_code</th>\n",
       "      <th>country_code</th>\n",
       "      <th>country_name</th>\n",
       "      <th>value_gbp</th>\n",
       "      <th>suppression_notes</th>\n",
       "      <th>new_col</th>\n",
       "      <th>value_usd</th>\n",
       "      <th>value_eur</th>\n",
       "      <th>new_col2</th>\n",
       "    </tr>\n",
       "  </thead>\n",
       "  <tbody>\n",
       "    <tr>\n",
       "      <th>0</th>\n",
       "      <td>2020</td>\n",
       "      <td>Exports</td>\n",
       "      <td>01012100</td>\n",
       "      <td>TW</td>\n",
       "      <td>Taiwan</td>\n",
       "      <td>892.00000</td>\n",
       "      <td>NaN</td>\n",
       "      <td>2408.40000</td>\n",
       "      <td>713.60000</td>\n",
       "      <td>802.80000</td>\n",
       "      <td>8.92000</td>\n",
       "    </tr>\n",
       "    <tr>\n",
       "      <th>1</th>\n",
       "      <td>2020</td>\n",
       "      <td>Exports</td>\n",
       "      <td>01062000</td>\n",
       "      <td>TW</td>\n",
       "      <td>Taiwan</td>\n",
       "      <td>14101.00000</td>\n",
       "      <td>NaN</td>\n",
       "      <td>38072.70000</td>\n",
       "      <td>11280.80000</td>\n",
       "      <td>12690.90000</td>\n",
       "      <td>141.01000</td>\n",
       "    </tr>\n",
       "    <tr>\n",
       "      <th>2</th>\n",
       "      <td>2020</td>\n",
       "      <td>Exports</td>\n",
       "      <td>01063100</td>\n",
       "      <td>TW</td>\n",
       "      <td>Taiwan</td>\n",
       "      <td>1750.00000</td>\n",
       "      <td>NaN</td>\n",
       "      <td>4725.00000</td>\n",
       "      <td>1400.00000</td>\n",
       "      <td>1575.00000</td>\n",
       "      <td>17.50000</td>\n",
       "    </tr>\n",
       "    <tr>\n",
       "      <th>3</th>\n",
       "      <td>2020</td>\n",
       "      <td>Exports</td>\n",
       "      <td>02031913</td>\n",
       "      <td>TW</td>\n",
       "      <td>Taiwan</td>\n",
       "      <td>290818.00000</td>\n",
       "      <td>NaN</td>\n",
       "      <td>785208.60000</td>\n",
       "      <td>232654.40000</td>\n",
       "      <td>261736.20000</td>\n",
       "      <td>2908.18000</td>\n",
       "    </tr>\n",
       "    <tr>\n",
       "      <th>4</th>\n",
       "      <td>2020</td>\n",
       "      <td>Exports</td>\n",
       "      <td>02031990</td>\n",
       "      <td>TW</td>\n",
       "      <td>Taiwan</td>\n",
       "      <td>1140.00000</td>\n",
       "      <td>NaN</td>\n",
       "      <td>3078.00000</td>\n",
       "      <td>912.00000</td>\n",
       "      <td>1026.00000</td>\n",
       "      <td>11.40000</td>\n",
       "    </tr>\n",
       "  </tbody>\n",
       "</table>\n",
       "</div>"
      ],
      "text/plain": [
       "   year     flow commodity_code country_code country_name    value_gbp  \\\n",
       "0  2020  Exports       01012100           TW       Taiwan    892.00000   \n",
       "1  2020  Exports       01062000           TW       Taiwan  14101.00000   \n",
       "2  2020  Exports       01063100           TW       Taiwan   1750.00000   \n",
       "3  2020  Exports       02031913           TW       Taiwan 290818.00000   \n",
       "4  2020  Exports       02031990           TW       Taiwan   1140.00000   \n",
       "\n",
       "   suppression_notes      new_col    value_usd    value_eur   new_col2  \n",
       "0                NaN   2408.40000    713.60000    802.80000    8.92000  \n",
       "1                NaN  38072.70000  11280.80000  12690.90000  141.01000  \n",
       "2                NaN   4725.00000   1400.00000   1575.00000   17.50000  \n",
       "3                NaN 785208.60000 232654.40000 261736.20000 2908.18000  \n",
       "4                NaN   3078.00000    912.00000   1026.00000   11.40000  "
      ]
     },
     "execution_count": 44,
     "metadata": {},
     "output_type": "execute_result"
    }
   ],
   "source": [
    "# add columns together\n",
    "trade2[\"new_col\"] = trade2[\"value_gbp\"]+trade2[\"value_usd\"]+trade2[\"value_eur\"]\n",
    "trade2[\"new_col2\"] = trade2[\"value_gbp\"]/100\n",
    "trade2.head()"
   ]
  },
  {
   "cell_type": "code",
   "execution_count": 45,
   "metadata": {},
   "outputs": [
    {
     "data": {
      "text/plain": [
       "year                                                          83103867\n",
       "flow                 ExportsExportsExportsExportsExportsExportsExpo...\n",
       "commodity_code       0101210001062000010631000203191302031990020322...\n",
       "country_code         TWTWTWTWTWTWTWTWTWTWTWTWTWTWTWTWTWTWTWTWTWTWTW...\n",
       "country_name         TaiwanTaiwanTaiwanTaiwanTaiwanTaiwanTaiwanTaiw...\n",
       "value_gbp                                           109391906659.00000\n",
       "suppression_notes                                              0.00000\n",
       "new_col                                             295358147979.30005\n",
       "value_usd                                            87513525327.20001\n",
       "value_eur                                            98452715993.10001\n",
       "new_col2                                              1093919066.59000\n",
       "dtype: object"
      ]
     },
     "execution_count": 45,
     "metadata": {},
     "output_type": "execute_result"
    }
   ],
   "source": [
    "# summarise column values easily:\n",
    "trade2.sum()"
   ]
  },
  {
   "cell_type": "code",
   "execution_count": 46,
   "metadata": {},
   "outputs": [
    {
     "data": {
      "text/plain": [
       "109391906659.0"
      ]
     },
     "execution_count": 46,
     "metadata": {},
     "output_type": "execute_result"
    }
   ],
   "source": [
    "total_value_gbp = trade[\"value_gbp\"].sum()\n",
    "total_value_gbp"
   ]
  },
  {
   "cell_type": "code",
   "execution_count": 47,
   "metadata": {},
   "outputs": [
    {
     "data": {
      "text/plain": [
       "year                     0\n",
       "flow                     0\n",
       "commodity_code           0\n",
       "country_code             0\n",
       "country_name             0\n",
       "value_gbp                0\n",
       "suppression_notes    41142\n",
       "dtype: int64"
      ]
     },
     "execution_count": 47,
     "metadata": {},
     "output_type": "execute_result"
    }
   ],
   "source": [
    "# count total number of NANs. Very useful for a quick check.\n",
    "trade.isnull().sum()"
   ]
  },
  {
   "cell_type": "markdown",
   "metadata": {},
   "source": [
    "### **Sum across rows:**"
   ]
  },
  {
   "cell_type": "code",
   "execution_count": 48,
   "metadata": {},
   "outputs": [
    {
     "data": {
      "text/plain": [
       "year                   int64\n",
       "flow                  object\n",
       "commodity_code        object\n",
       "country_code          object\n",
       "country_name          object\n",
       "value_gbp            float64\n",
       "suppression_notes    float64\n",
       "new_col              float64\n",
       "value_usd            float64\n",
       "value_eur            float64\n",
       "new_col2             float64\n",
       "dtype: object"
      ]
     },
     "execution_count": 48,
     "metadata": {},
     "output_type": "execute_result"
    }
   ],
   "source": [
    "trade2.dtypes"
   ]
  },
  {
   "cell_type": "code",
   "execution_count": 49,
   "metadata": {},
   "outputs": [],
   "source": [
    "# example: sum all new column vlaues together\n",
    "trade2[\"sum_col\"] = trade2[\"new_col\"]+trade2[\"value_usd\"]+trade2[\"value_eur\"]+trade2[\"new_col2\"]"
   ]
  },
  {
   "cell_type": "code",
   "execution_count": 50,
   "metadata": {},
   "outputs": [
    {
     "data": {
      "text/html": [
       "<div>\n",
       "<style scoped>\n",
       "    .dataframe tbody tr th:only-of-type {\n",
       "        vertical-align: middle;\n",
       "    }\n",
       "\n",
       "    .dataframe tbody tr th {\n",
       "        vertical-align: top;\n",
       "    }\n",
       "\n",
       "    .dataframe thead th {\n",
       "        text-align: right;\n",
       "    }\n",
       "</style>\n",
       "<table border=\"1\" class=\"dataframe\">\n",
       "  <thead>\n",
       "    <tr style=\"text-align: right;\">\n",
       "      <th></th>\n",
       "      <th>year</th>\n",
       "      <th>flow</th>\n",
       "      <th>commodity_code</th>\n",
       "      <th>country_code</th>\n",
       "      <th>country_name</th>\n",
       "      <th>value_gbp</th>\n",
       "      <th>suppression_notes</th>\n",
       "      <th>new_col</th>\n",
       "      <th>value_usd</th>\n",
       "      <th>value_eur</th>\n",
       "      <th>new_col2</th>\n",
       "      <th>sum_col</th>\n",
       "      <th>sum_col2</th>\n",
       "    </tr>\n",
       "  </thead>\n",
       "  <tbody>\n",
       "    <tr>\n",
       "      <th>0</th>\n",
       "      <td>2020</td>\n",
       "      <td>Exports</td>\n",
       "      <td>01012100</td>\n",
       "      <td>TW</td>\n",
       "      <td>Taiwan</td>\n",
       "      <td>892.00000</td>\n",
       "      <td>NaN</td>\n",
       "      <td>2408.40000</td>\n",
       "      <td>713.60000</td>\n",
       "      <td>802.80000</td>\n",
       "      <td>8.92000</td>\n",
       "      <td>3933.72000</td>\n",
       "      <td>3933.72000</td>\n",
       "    </tr>\n",
       "    <tr>\n",
       "      <th>1</th>\n",
       "      <td>2020</td>\n",
       "      <td>Exports</td>\n",
       "      <td>01062000</td>\n",
       "      <td>TW</td>\n",
       "      <td>Taiwan</td>\n",
       "      <td>14101.00000</td>\n",
       "      <td>NaN</td>\n",
       "      <td>38072.70000</td>\n",
       "      <td>11280.80000</td>\n",
       "      <td>12690.90000</td>\n",
       "      <td>141.01000</td>\n",
       "      <td>62185.41000</td>\n",
       "      <td>62185.41000</td>\n",
       "    </tr>\n",
       "    <tr>\n",
       "      <th>2</th>\n",
       "      <td>2020</td>\n",
       "      <td>Exports</td>\n",
       "      <td>01063100</td>\n",
       "      <td>TW</td>\n",
       "      <td>Taiwan</td>\n",
       "      <td>1750.00000</td>\n",
       "      <td>NaN</td>\n",
       "      <td>4725.00000</td>\n",
       "      <td>1400.00000</td>\n",
       "      <td>1575.00000</td>\n",
       "      <td>17.50000</td>\n",
       "      <td>7717.50000</td>\n",
       "      <td>7717.50000</td>\n",
       "    </tr>\n",
       "    <tr>\n",
       "      <th>3</th>\n",
       "      <td>2020</td>\n",
       "      <td>Exports</td>\n",
       "      <td>02031913</td>\n",
       "      <td>TW</td>\n",
       "      <td>Taiwan</td>\n",
       "      <td>290818.00000</td>\n",
       "      <td>NaN</td>\n",
       "      <td>785208.60000</td>\n",
       "      <td>232654.40000</td>\n",
       "      <td>261736.20000</td>\n",
       "      <td>2908.18000</td>\n",
       "      <td>1282507.38000</td>\n",
       "      <td>1282507.38000</td>\n",
       "    </tr>\n",
       "    <tr>\n",
       "      <th>4</th>\n",
       "      <td>2020</td>\n",
       "      <td>Exports</td>\n",
       "      <td>02031990</td>\n",
       "      <td>TW</td>\n",
       "      <td>Taiwan</td>\n",
       "      <td>1140.00000</td>\n",
       "      <td>NaN</td>\n",
       "      <td>3078.00000</td>\n",
       "      <td>912.00000</td>\n",
       "      <td>1026.00000</td>\n",
       "      <td>11.40000</td>\n",
       "      <td>5027.40000</td>\n",
       "      <td>5027.40000</td>\n",
       "    </tr>\n",
       "  </tbody>\n",
       "</table>\n",
       "</div>"
      ],
      "text/plain": [
       "   year     flow commodity_code country_code country_name    value_gbp  \\\n",
       "0  2020  Exports       01012100           TW       Taiwan    892.00000   \n",
       "1  2020  Exports       01062000           TW       Taiwan  14101.00000   \n",
       "2  2020  Exports       01063100           TW       Taiwan   1750.00000   \n",
       "3  2020  Exports       02031913           TW       Taiwan 290818.00000   \n",
       "4  2020  Exports       02031990           TW       Taiwan   1140.00000   \n",
       "\n",
       "   suppression_notes      new_col    value_usd    value_eur   new_col2  \\\n",
       "0                NaN   2408.40000    713.60000    802.80000    8.92000   \n",
       "1                NaN  38072.70000  11280.80000  12690.90000  141.01000   \n",
       "2                NaN   4725.00000   1400.00000   1575.00000   17.50000   \n",
       "3                NaN 785208.60000 232654.40000 261736.20000 2908.18000   \n",
       "4                NaN   3078.00000    912.00000   1026.00000   11.40000   \n",
       "\n",
       "        sum_col      sum_col2  \n",
       "0    3933.72000    3933.72000  \n",
       "1   62185.41000   62185.41000  \n",
       "2    7717.50000    7717.50000  \n",
       "3 1282507.38000 1282507.38000  \n",
       "4    5027.40000    5027.40000  "
      ]
     },
     "execution_count": 50,
     "metadata": {},
     "output_type": "execute_result"
    }
   ],
   "source": [
    "# alternatively name columns and sum across which is cleaner and less time to type:\n",
    "sum_cols = [\"new_col\",\"value_usd\",\"value_eur\",\"new_col2\"]\n",
    "trade2[\"sum_col2\"] = trade2[sum_cols].sum(axis=1)\n",
    "trade2.head()"
   ]
  },
  {
   "cell_type": "markdown",
   "metadata": {},
   "source": [
    "### **Update numerical columns only:**"
   ]
  },
  {
   "cell_type": "code",
   "execution_count": 51,
   "metadata": {},
   "outputs": [],
   "source": [
    "# example 1:\n",
    "#numerics = ['int16', 'int32', 'int64', 'float16', 'float32', 'float64']\n",
    "#for c in [c for c in trade.columns if df[c].dtype in numerics]:\n",
    "#    trade[c] = trade[c]/100"
   ]
  },
  {
   "cell_type": "code",
   "execution_count": 52,
   "metadata": {},
   "outputs": [
    {
     "data": {
      "text/html": [
       "<div>\n",
       "<style scoped>\n",
       "    .dataframe tbody tr th:only-of-type {\n",
       "        vertical-align: middle;\n",
       "    }\n",
       "\n",
       "    .dataframe tbody tr th {\n",
       "        vertical-align: top;\n",
       "    }\n",
       "\n",
       "    .dataframe thead th {\n",
       "        text-align: right;\n",
       "    }\n",
       "</style>\n",
       "<table border=\"1\" class=\"dataframe\">\n",
       "  <thead>\n",
       "    <tr style=\"text-align: right;\">\n",
       "      <th></th>\n",
       "      <th>year</th>\n",
       "      <th>flow</th>\n",
       "      <th>commodity_code</th>\n",
       "      <th>country_code</th>\n",
       "      <th>country_name</th>\n",
       "      <th>value_gbp</th>\n",
       "      <th>suppression_notes</th>\n",
       "      <th>new_col</th>\n",
       "      <th>value_usd</th>\n",
       "      <th>value_eur</th>\n",
       "      <th>new_col2</th>\n",
       "      <th>sum_col</th>\n",
       "      <th>sum_col2</th>\n",
       "    </tr>\n",
       "  </thead>\n",
       "  <tbody>\n",
       "    <tr>\n",
       "      <th>0</th>\n",
       "      <td>20.20000</td>\n",
       "      <td>Exports</td>\n",
       "      <td>01012100</td>\n",
       "      <td>TW</td>\n",
       "      <td>Taiwan</td>\n",
       "      <td>8.92000</td>\n",
       "      <td>NaN</td>\n",
       "      <td>24.08400</td>\n",
       "      <td>7.13600</td>\n",
       "      <td>8.02800</td>\n",
       "      <td>0.08920</td>\n",
       "      <td>39.33720</td>\n",
       "      <td>39.33720</td>\n",
       "    </tr>\n",
       "    <tr>\n",
       "      <th>1</th>\n",
       "      <td>20.20000</td>\n",
       "      <td>Exports</td>\n",
       "      <td>01062000</td>\n",
       "      <td>TW</td>\n",
       "      <td>Taiwan</td>\n",
       "      <td>141.01000</td>\n",
       "      <td>NaN</td>\n",
       "      <td>380.72700</td>\n",
       "      <td>112.80800</td>\n",
       "      <td>126.90900</td>\n",
       "      <td>1.41010</td>\n",
       "      <td>621.85410</td>\n",
       "      <td>621.85410</td>\n",
       "    </tr>\n",
       "    <tr>\n",
       "      <th>2</th>\n",
       "      <td>20.20000</td>\n",
       "      <td>Exports</td>\n",
       "      <td>01063100</td>\n",
       "      <td>TW</td>\n",
       "      <td>Taiwan</td>\n",
       "      <td>17.50000</td>\n",
       "      <td>NaN</td>\n",
       "      <td>47.25000</td>\n",
       "      <td>14.00000</td>\n",
       "      <td>15.75000</td>\n",
       "      <td>0.17500</td>\n",
       "      <td>77.17500</td>\n",
       "      <td>77.17500</td>\n",
       "    </tr>\n",
       "    <tr>\n",
       "      <th>3</th>\n",
       "      <td>20.20000</td>\n",
       "      <td>Exports</td>\n",
       "      <td>02031913</td>\n",
       "      <td>TW</td>\n",
       "      <td>Taiwan</td>\n",
       "      <td>2908.18000</td>\n",
       "      <td>NaN</td>\n",
       "      <td>7852.08600</td>\n",
       "      <td>2326.54400</td>\n",
       "      <td>2617.36200</td>\n",
       "      <td>29.08180</td>\n",
       "      <td>12825.07380</td>\n",
       "      <td>12825.07380</td>\n",
       "    </tr>\n",
       "    <tr>\n",
       "      <th>4</th>\n",
       "      <td>20.20000</td>\n",
       "      <td>Exports</td>\n",
       "      <td>02031990</td>\n",
       "      <td>TW</td>\n",
       "      <td>Taiwan</td>\n",
       "      <td>11.40000</td>\n",
       "      <td>NaN</td>\n",
       "      <td>30.78000</td>\n",
       "      <td>9.12000</td>\n",
       "      <td>10.26000</td>\n",
       "      <td>0.11400</td>\n",
       "      <td>50.27400</td>\n",
       "      <td>50.27400</td>\n",
       "    </tr>\n",
       "  </tbody>\n",
       "</table>\n",
       "</div>"
      ],
      "text/plain": [
       "      year     flow commodity_code country_code country_name  value_gbp  \\\n",
       "0 20.20000  Exports       01012100           TW       Taiwan    8.92000   \n",
       "1 20.20000  Exports       01062000           TW       Taiwan  141.01000   \n",
       "2 20.20000  Exports       01063100           TW       Taiwan   17.50000   \n",
       "3 20.20000  Exports       02031913           TW       Taiwan 2908.18000   \n",
       "4 20.20000  Exports       02031990           TW       Taiwan   11.40000   \n",
       "\n",
       "   suppression_notes    new_col  value_usd  value_eur  new_col2     sum_col  \\\n",
       "0                NaN   24.08400    7.13600    8.02800   0.08920    39.33720   \n",
       "1                NaN  380.72700  112.80800  126.90900   1.41010   621.85410   \n",
       "2                NaN   47.25000   14.00000   15.75000   0.17500    77.17500   \n",
       "3                NaN 7852.08600 2326.54400 2617.36200  29.08180 12825.07380   \n",
       "4                NaN   30.78000    9.12000   10.26000   0.11400    50.27400   \n",
       "\n",
       "     sum_col2  \n",
       "0    39.33720  \n",
       "1   621.85410  \n",
       "2    77.17500  \n",
       "3 12825.07380  \n",
       "4    50.27400  "
      ]
     },
     "execution_count": 52,
     "metadata": {},
     "output_type": "execute_result"
    }
   ],
   "source": [
    "# smaller one line example:\n",
    "numeric_df = trade2.apply(lambda x: x/100 if np.issubdtype(x.dtype, np.number) else x)\n",
    "numeric_df.head()"
   ]
  },
  {
   "cell_type": "code",
   "execution_count": 53,
   "metadata": {},
   "outputs": [
    {
     "data": {
      "text/html": [
       "<div>\n",
       "<style scoped>\n",
       "    .dataframe tbody tr th:only-of-type {\n",
       "        vertical-align: middle;\n",
       "    }\n",
       "\n",
       "    .dataframe tbody tr th {\n",
       "        vertical-align: top;\n",
       "    }\n",
       "\n",
       "    .dataframe thead th {\n",
       "        text-align: right;\n",
       "    }\n",
       "</style>\n",
       "<table border=\"1\" class=\"dataframe\">\n",
       "  <thead>\n",
       "    <tr style=\"text-align: right;\">\n",
       "      <th></th>\n",
       "      <th>year</th>\n",
       "      <th>flow</th>\n",
       "      <th>commodity_code</th>\n",
       "      <th>country_code</th>\n",
       "      <th>country_name</th>\n",
       "      <th>value_gbp</th>\n",
       "      <th>suppression_notes</th>\n",
       "      <th>new_col</th>\n",
       "      <th>value_usd</th>\n",
       "      <th>value_eur</th>\n",
       "      <th>new_col2</th>\n",
       "      <th>sum_col</th>\n",
       "      <th>sum_col2</th>\n",
       "    </tr>\n",
       "  </thead>\n",
       "  <tbody>\n",
       "    <tr>\n",
       "      <th>0</th>\n",
       "      <td>2020</td>\n",
       "      <td>Exports</td>\n",
       "      <td>01012100</td>\n",
       "      <td>TW</td>\n",
       "      <td>Taiwan</td>\n",
       "      <td>892.00000</td>\n",
       "      <td>NaN</td>\n",
       "      <td>2408.40000</td>\n",
       "      <td>713600.00000</td>\n",
       "      <td>802800.00000</td>\n",
       "      <td>8.92000</td>\n",
       "      <td>3933.72000</td>\n",
       "      <td>3933.72000</td>\n",
       "    </tr>\n",
       "    <tr>\n",
       "      <th>1</th>\n",
       "      <td>2020</td>\n",
       "      <td>Exports</td>\n",
       "      <td>01062000</td>\n",
       "      <td>TW</td>\n",
       "      <td>Taiwan</td>\n",
       "      <td>14101.00000</td>\n",
       "      <td>NaN</td>\n",
       "      <td>38072.70000</td>\n",
       "      <td>11280800.00000</td>\n",
       "      <td>12690900.00000</td>\n",
       "      <td>141.01000</td>\n",
       "      <td>62185.41000</td>\n",
       "      <td>62185.41000</td>\n",
       "    </tr>\n",
       "    <tr>\n",
       "      <th>2</th>\n",
       "      <td>2020</td>\n",
       "      <td>Exports</td>\n",
       "      <td>01063100</td>\n",
       "      <td>TW</td>\n",
       "      <td>Taiwan</td>\n",
       "      <td>1750.00000</td>\n",
       "      <td>NaN</td>\n",
       "      <td>4725.00000</td>\n",
       "      <td>1400000.00000</td>\n",
       "      <td>1575000.00000</td>\n",
       "      <td>17.50000</td>\n",
       "      <td>7717.50000</td>\n",
       "      <td>7717.50000</td>\n",
       "    </tr>\n",
       "    <tr>\n",
       "      <th>3</th>\n",
       "      <td>2020</td>\n",
       "      <td>Exports</td>\n",
       "      <td>02031913</td>\n",
       "      <td>TW</td>\n",
       "      <td>Taiwan</td>\n",
       "      <td>290818.00000</td>\n",
       "      <td>NaN</td>\n",
       "      <td>785208.60000</td>\n",
       "      <td>232654400.00000</td>\n",
       "      <td>261736200.00000</td>\n",
       "      <td>2908.18000</td>\n",
       "      <td>1282507.38000</td>\n",
       "      <td>1282507.38000</td>\n",
       "    </tr>\n",
       "    <tr>\n",
       "      <th>4</th>\n",
       "      <td>2020</td>\n",
       "      <td>Exports</td>\n",
       "      <td>02031990</td>\n",
       "      <td>TW</td>\n",
       "      <td>Taiwan</td>\n",
       "      <td>1140.00000</td>\n",
       "      <td>NaN</td>\n",
       "      <td>3078.00000</td>\n",
       "      <td>912000.00000</td>\n",
       "      <td>1026000.00000</td>\n",
       "      <td>11.40000</td>\n",
       "      <td>5027.40000</td>\n",
       "      <td>5027.40000</td>\n",
       "    </tr>\n",
       "  </tbody>\n",
       "</table>\n",
       "</div>"
      ],
      "text/plain": [
       "   year     flow commodity_code country_code country_name    value_gbp  \\\n",
       "0  2020  Exports       01012100           TW       Taiwan    892.00000   \n",
       "1  2020  Exports       01062000           TW       Taiwan  14101.00000   \n",
       "2  2020  Exports       01063100           TW       Taiwan   1750.00000   \n",
       "3  2020  Exports       02031913           TW       Taiwan 290818.00000   \n",
       "4  2020  Exports       02031990           TW       Taiwan   1140.00000   \n",
       "\n",
       "   suppression_notes      new_col       value_usd       value_eur   new_col2  \\\n",
       "0                NaN   2408.40000    713600.00000    802800.00000    8.92000   \n",
       "1                NaN  38072.70000  11280800.00000  12690900.00000  141.01000   \n",
       "2                NaN   4725.00000   1400000.00000   1575000.00000   17.50000   \n",
       "3                NaN 785208.60000 232654400.00000 261736200.00000 2908.18000   \n",
       "4                NaN   3078.00000    912000.00000   1026000.00000   11.40000   \n",
       "\n",
       "        sum_col      sum_col2  \n",
       "0    3933.72000    3933.72000  \n",
       "1   62185.41000   62185.41000  \n",
       "2    7717.50000    7717.50000  \n",
       "3 1282507.38000 1282507.38000  \n",
       "4    5027.40000    5027.40000  "
      ]
     },
     "execution_count": 53,
     "metadata": {},
     "output_type": "execute_result"
    }
   ],
   "source": [
    "# update multiple columns at once:\n",
    "cols = [\"value_eur\",\"value_usd\"]\n",
    "trade2[cols] = trade2[cols]*1000\n",
    "trade2.head()"
   ]
  },
  {
   "cell_type": "markdown",
   "metadata": {},
   "source": [
    "### **Combine columns together:**"
   ]
  },
  {
   "cell_type": "code",
   "execution_count": 54,
   "metadata": {},
   "outputs": [
    {
     "data": {
      "text/html": [
       "<div>\n",
       "<style scoped>\n",
       "    .dataframe tbody tr th:only-of-type {\n",
       "        vertical-align: middle;\n",
       "    }\n",
       "\n",
       "    .dataframe tbody tr th {\n",
       "        vertical-align: top;\n",
       "    }\n",
       "\n",
       "    .dataframe thead th {\n",
       "        text-align: right;\n",
       "    }\n",
       "</style>\n",
       "<table border=\"1\" class=\"dataframe\">\n",
       "  <thead>\n",
       "    <tr style=\"text-align: right;\">\n",
       "      <th></th>\n",
       "      <th>year</th>\n",
       "      <th>flow</th>\n",
       "      <th>commodity_code</th>\n",
       "      <th>country_code</th>\n",
       "      <th>country_name</th>\n",
       "      <th>value_gbp</th>\n",
       "      <th>suppression_notes</th>\n",
       "      <th>new_col</th>\n",
       "      <th>new_col2</th>\n",
       "      <th>commoidty_code2</th>\n",
       "    </tr>\n",
       "  </thead>\n",
       "  <tbody>\n",
       "    <tr>\n",
       "      <th>41137</th>\n",
       "      <td>2019</td>\n",
       "      <td>Imports</td>\n",
       "      <td>94036090</td>\n",
       "      <td>ZM</td>\n",
       "      <td>Zambia</td>\n",
       "      <td>932.00000</td>\n",
       "      <td>NaN</td>\n",
       "      <td>2019Imports</td>\n",
       "      <td>ZM - Zambia</td>\n",
       "      <td>094036090</td>\n",
       "    </tr>\n",
       "    <tr>\n",
       "      <th>41138</th>\n",
       "      <td>2020</td>\n",
       "      <td>Imports</td>\n",
       "      <td>95030041</td>\n",
       "      <td>ZM</td>\n",
       "      <td>Zambia</td>\n",
       "      <td>3812.00000</td>\n",
       "      <td>NaN</td>\n",
       "      <td>2020Imports</td>\n",
       "      <td>ZM - Zambia</td>\n",
       "      <td>095030041</td>\n",
       "    </tr>\n",
       "    <tr>\n",
       "      <th>41139</th>\n",
       "      <td>2020</td>\n",
       "      <td>Imports</td>\n",
       "      <td>95030099</td>\n",
       "      <td>ZM</td>\n",
       "      <td>Zambia</td>\n",
       "      <td>3972.00000</td>\n",
       "      <td>NaN</td>\n",
       "      <td>2020Imports</td>\n",
       "      <td>ZM - Zambia</td>\n",
       "      <td>095030099</td>\n",
       "    </tr>\n",
       "    <tr>\n",
       "      <th>41140</th>\n",
       "      <td>2020</td>\n",
       "      <td>Imports</td>\n",
       "      <td>97050000</td>\n",
       "      <td>ZM</td>\n",
       "      <td>Zambia</td>\n",
       "      <td>2213.00000</td>\n",
       "      <td>NaN</td>\n",
       "      <td>2020Imports</td>\n",
       "      <td>ZM - Zambia</td>\n",
       "      <td>097050000</td>\n",
       "    </tr>\n",
       "    <tr>\n",
       "      <th>41141</th>\n",
       "      <td>2020</td>\n",
       "      <td>Imports</td>\n",
       "      <td>99209900</td>\n",
       "      <td>ZM</td>\n",
       "      <td>Zambia</td>\n",
       "      <td>25009.00000</td>\n",
       "      <td>NaN</td>\n",
       "      <td>2020Imports</td>\n",
       "      <td>ZM - Zambia</td>\n",
       "      <td>099209900</td>\n",
       "    </tr>\n",
       "  </tbody>\n",
       "</table>\n",
       "</div>"
      ],
      "text/plain": [
       "       year     flow commodity_code country_code country_name   value_gbp  \\\n",
       "41137  2019  Imports       94036090           ZM       Zambia   932.00000   \n",
       "41138  2020  Imports       95030041           ZM       Zambia  3812.00000   \n",
       "41139  2020  Imports       95030099           ZM       Zambia  3972.00000   \n",
       "41140  2020  Imports       97050000           ZM       Zambia  2213.00000   \n",
       "41141  2020  Imports       99209900           ZM       Zambia 25009.00000   \n",
       "\n",
       "       suppression_notes      new_col     new_col2 commoidty_code2  \n",
       "41137                NaN  2019Imports  ZM - Zambia       094036090  \n",
       "41138                NaN  2020Imports  ZM - Zambia       095030041  \n",
       "41139                NaN  2020Imports  ZM - Zambia       095030099  \n",
       "41140                NaN  2020Imports  ZM - Zambia       097050000  \n",
       "41141                NaN  2020Imports  ZM - Zambia       099209900  "
      ]
     },
     "execution_count": 54,
     "metadata": {},
     "output_type": "execute_result"
    }
   ],
   "source": [
    "trade2 = trade.copy()\n",
    "trade2[\"new_col\"] = trade2[\"year\"].map(str)+trade2[\"flow\"] # use map(str) as year is numeric column\n",
    "trade2[\"new_col2\"] = trade2[\"country_code\"]+\" - \"+trade2[\"country_name\"]\n",
    "trade2[\"commoidty_code2\"] = \"0\"+trade2[\"commodity_code\"]\n",
    "trade2.tail()"
   ]
  },
  {
   "cell_type": "markdown",
   "metadata": {},
   "source": [
    "### **Conditionally create columns**"
   ]
  },
  {
   "cell_type": "code",
   "execution_count": null,
   "metadata": {},
   "outputs": [],
   "source": []
  }
 ],
 "metadata": {
  "kernelspec": {
   "display_name": "Python 3",
   "language": "python",
   "name": "python3"
  },
  "language_info": {
   "codemirror_mode": {
    "name": "ipython",
    "version": 3
   },
   "file_extension": ".py",
   "mimetype": "text/x-python",
   "name": "python",
   "nbconvert_exporter": "python",
   "pygments_lexer": "ipython3",
   "version": "3.9.7"
  }
 },
 "nbformat": 4,
 "nbformat_minor": 4
}
