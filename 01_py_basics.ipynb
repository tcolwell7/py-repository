{
 "cells": [
  {
   "cell_type": "markdown",
   "metadata": {},
   "source": [
    "## 01_py_basics"
   ]
  },
  {
   "cell_type": "markdown",
   "metadata": {},
   "source": [
    "#### Python repository for general data manipulation techniques and working with pandas. "
   ]
  },
  {
   "cell_type": "markdown",
   "metadata": {},
   "source": [
    "## This notebook will cover:\n",
    "\n",
    "**1. Selecting columns**\n",
    "* basic selection and drop columns\n",
    "* select using pattern recognition\n",
    "* relocate columns\n",
    "\n",
    "**2. Creating new columns and values**\n",
    "\n",
    "**3. Filtering data**\n",
    "\n",
    "**4. Aggregations using groupby**\n",
    "\n",
    "**5. Joins (merge)**"
   ]
  },
  {
   "cell_type": "markdown",
   "metadata": {},
   "source": [
    "### 0. Set up ---"
   ]
  },
  {
   "cell_type": "markdown",
   "metadata": {},
   "source": [
    "Basic set up to load and inspect data before any data exploration and analysis:"
   ]
  },
  {
   "cell_type": "markdown",
   "metadata": {},
   "source": [
    "First step is to load in basic Python libraris and the data.."
   ]
  },
  {
   "cell_type": "code",
   "execution_count": null,
   "metadata": {},
   "outputs": [],
   "source": [
    "# pandas and numpy are universally used in python, like tidyverse is in R. \n",
    "import pandas as pd\n",
    "import numpy as np\n",
    "\n",
    "!pip install openpyxl\n",
    "\n",
    "# chnage from scientific notation \n",
    "pd.set_option('display.float_format', lambda x: '%.5f' % x)\n",
    "\n",
    "trade = pd.read_excel(\"data/trade_data.xlsx\") # upload xlsxl\n",
    "tariff = pd.read_excel(\"data/tariff_data.xlsx\")\n",
    "# upload csv"
   ]
  },
  {
   "cell_type": "code",
   "execution_count": null,
   "metadata": {},
   "outputs": [],
   "source": [
    "trade.head()"
   ]
  },
  {
   "cell_type": "markdown",
   "metadata": {},
   "source": [
    "basic df exploration:"
   ]
  },
  {
   "cell_type": "code",
   "execution_count": null,
   "metadata": {},
   "outputs": [],
   "source": [
    "# column names and types:\n",
    "trade.dtypes"
   ]
  },
  {
   "cell_type": "code",
   "execution_count": null,
   "metadata": {},
   "outputs": [],
   "source": [
    "# df summary:\n",
    "trade.info()"
   ]
  },
  {
   "cell_type": "markdown",
   "metadata": {},
   "source": [
    "using .info is very useful as in additional to Dtypes being printed you are provided with the \"non-null\" values or in other words NAs. For example the supression notes column is only NA values."
   ]
  },
  {
   "cell_type": "code",
   "execution_count": null,
   "metadata": {},
   "outputs": [],
   "source": [
    "# summarise numerical values\n",
    "trade.describe()"
   ]
  },
  {
   "cell_type": "code",
   "execution_count": null,
   "metadata": {},
   "outputs": [],
   "source": [
    "# simple df dimensions use shape:\n",
    "trade.shape"
   ]
  },
  {
   "cell_type": "markdown",
   "metadata": {},
   "source": [
    "**Note:** that the year column is uploaded as a value. It may be preferable to work with a character type rather than value for this column. When uploading data the data type can be specified"
   ]
  },
  {
   "cell_type": "code",
   "execution_count": null,
   "metadata": {},
   "outputs": [],
   "source": [
    "trade2 = pd.read_excel(\"data/trade_data.xlsx\",dtype={'Year': str}) # convert year to string when uploading data\n",
    "trade3 = pd.read_excel(\"data/trade_data.xlsx\",dtype=str) # all columns as string\n",
    "trade4 = pd.read_excel(\"data/trade_data.xlsx\",dtype={'Value GBP': np.float64}) # convert value to float opposed to integer. Floats allows for decimal points\n",
    "print(trade2.dtypes,trade3.dtypes,trade4.dtypes)"
   ]
  },
  {
   "cell_type": "code",
   "execution_count": null,
   "metadata": {},
   "outputs": [],
   "source": [
    "# want float for value so re-upload trade data:\n",
    "trade = pd.read_excel(\"data/trade_data.xlsx\",dtype={'Value GBP': np.float64})\n",
    "trade.info()"
   ]
  },
  {
   "cell_type": "markdown",
   "metadata": {},
   "source": [
    "## janitor - clean_names() equivalent. "
   ]
  },
  {
   "cell_type": "markdown",
   "metadata": {},
   "source": [
    "Working with cleaner string/column names is highlgihy recommended. "
   ]
  },
  {
   "cell_type": "code",
   "execution_count": null,
   "metadata": {},
   "outputs": [],
   "source": [
    "trade.columns = trade.columns.str.lower().str.replace(\" \",\"_\")\n",
    "trade.dtypes"
   ]
  },
  {
   "cell_type": "code",
   "execution_count": null,
   "metadata": {},
   "outputs": [],
   "source": [
    "# using function - helpful if multiple dataframes to convert.\n",
    "def  cleanCols(df): \n",
    "    df.columns = df.columns.str.lower().str.replace(\" \",\"_\")\n",
    "    return(df)\n",
    "\n",
    "trade = cleanCols(trade)\n",
    "trade2 = cleanCols(trade2)\n",
    "trade3 = cleanCols(trade3)\n",
    "tariff = cleanCols(tariff)"
   ]
  },
  {
   "cell_type": "markdown",
   "metadata": {},
   "source": [
    "## 1. Select columns ----"
   ]
  },
  {
   "cell_type": "markdown",
   "metadata": {},
   "source": [
    "basic selection:"
   ]
  },
  {
   "cell_type": "code",
   "execution_count": null,
   "metadata": {},
   "outputs": [],
   "source": [
    "trade2 = trade[[\"year\",\"flow\",\"commodity_code\",\"country_name\",\"value_gbp\"]]\n",
    "trade2.dtypes"
   ]
  },
  {
   "cell_type": "code",
   "execution_count": null,
   "metadata": {},
   "outputs": [],
   "source": [
    "# use an array:\n",
    "cols = [\"year\",\"flow\",\"commodity_code\",\"country_name\",\"value_gbp\"]\n",
    "trade2 = trade[cols]"
   ]
  },
  {
   "cell_type": "code",
   "execution_count": null,
   "metadata": {},
   "outputs": [],
   "source": [
    "trade2.dtypes"
   ]
  },
  {
   "cell_type": "markdown",
   "metadata": {},
   "source": [
    "drop columns:"
   ]
  },
  {
   "cell_type": "code",
   "execution_count": null,
   "metadata": {},
   "outputs": [],
   "source": [
    "# remove columns\n",
    "trade2 = trade.drop([\"year\",\"flow\",\"commodity_code\"], 1) # index 1 reference columns to remove from df\n",
    "trade2.dtypes"
   ]
  },
  {
   "cell_type": "code",
   "execution_count": null,
   "metadata": {},
   "outputs": [],
   "source": [
    "trade2 = trade.drop(cols,1)\n",
    "trade2.dtypes"
   ]
  },
  {
   "cell_type": "markdown",
   "metadata": {},
   "source": [
    "select columns using column indexes (numbers):"
   ]
  },
  {
   "cell_type": "code",
   "execution_count": null,
   "metadata": {},
   "outputs": [],
   "source": []
  },
  {
   "cell_type": "code",
   "execution_count": null,
   "metadata": {},
   "outputs": [],
   "source": []
  },
  {
   "cell_type": "markdown",
   "metadata": {},
   "source": [
    "### 1.a select columns using string patterns"
   ]
  },
  {
   "cell_type": "markdown",
   "metadata": {},
   "source": [
    "The tariff data uploaded is a good df for this example as it has alot of strings with patterns which can be used for tidy selecitons"
   ]
  },
  {
   "cell_type": "code",
   "execution_count": null,
   "metadata": {},
   "outputs": [],
   "source": [
    "tariff.dtypes"
   ]
  },
  {
   "cell_type": "code",
   "execution_count": null,
   "metadata": {},
   "outputs": [],
   "source": [
    "prefCol = tariff.columns[tariff.columns.str.contains(pat = 'pref')]\n",
    "prefCol2 = [col for col in tariff.columns if 'pref' in col]"
   ]
  },
  {
   "cell_type": "code",
   "execution_count": null,
   "metadata": {},
   "outputs": [],
   "source": [
    "print(prefCol,prefCol2)"
   ]
  },
  {
   "cell_type": "markdown",
   "metadata": {},
   "source": [
    "Note difference between output types: one is an indexed array. "
   ]
  },
  {
   "cell_type": "code",
   "execution_count": null,
   "metadata": {},
   "outputs": [],
   "source": [
    "mfnCol = [col for col in tariff.columns if 'mfn' in col]"
   ]
  },
  {
   "cell_type": "code",
   "execution_count": null,
   "metadata": {},
   "outputs": [],
   "source": [
    "codeCol = [col for col in tariff.columns if 'commodity' in col]"
   ]
  },
  {
   "cell_type": "code",
   "execution_count": null,
   "metadata": {},
   "outputs": [],
   "source": [
    "colNames = [codeCol,mfnCol,prefCol2]\n",
    "print(colNames)"
   ]
  },
  {
   "cell_type": "code",
   "execution_count": null,
   "metadata": {},
   "outputs": [],
   "source": [
    "#tariff2 = tariff[colNames]\n",
    "#tariff2.dtypes\n",
    "# for error fix use:\n",
    "#colNames = np.concatenate((codeCol,prefCol, mfnCol))"
   ]
  },
  {
   "cell_type": "markdown",
   "metadata": {},
   "source": [
    "**NOTE the error.** Three list arrays have been combined together which then can't be used in this way to filter a pandas df. \n",
    "\n",
    "You can use numpy arrays for the column filters to select the data by using np.concatonate"
   ]
  },
  {
   "cell_type": "code",
   "execution_count": null,
   "metadata": {},
   "outputs": [],
   "source": [
    "prefCol = [col for col in tariff.columns if 'pref' in col]\n",
    "mfnCol = [col for col in tariff.columns if 'mfn' in col]\n",
    "codeCol = [col for col in tariff.columns if 'commodity' in col]\n",
    "colNames2 =  np.concatenate((codeCol,prefCol, mfnCol))\n",
    "tariff2 = tariff[colNames2]\n",
    "tariff2.head()"
   ]
  },
  {
   "cell_type": "markdown",
   "metadata": {},
   "source": [
    "### 1b. select columns with numerical values and combination of string patterns"
   ]
  },
  {
   "cell_type": "markdown",
   "metadata": {},
   "source": [
    "Select columns which contain numerical values and where numerical values end the column string\n",
    "\n",
    "i.e. preferntial. + 2021, 2022 etc..."
   ]
  },
  {
   "cell_type": "markdown",
   "metadata": {},
   "source": [
    "```python\n",
    "tariff2=tariff[[\"commodity_code\",\"preferentisal_applied_duty_rate_2021,\n",
    "                \"preferentisal_applied_duty_rate_2022\",\n",
    "                \"preferentisal_applied_duty_rate_2023\",\"\n",
    "                \"preferentisal_applied_duty_rate_2024\"]]\n",
    "```"
   ]
  },
  {
   "cell_type": "markdown",
   "metadata": {},
   "source": [
    "If there were even more columns to manually type everything out is tedious and time consuming when it can easily be done using string recognition"
   ]
  },
  {
   "cell_type": "code",
   "execution_count": null,
   "metadata": {},
   "outputs": [],
   "source": [
    "col = np.array(tariff.columns[tariff.columns.str.contains('.*[0-9].*', regex=True)]) # select columns with any muerical value\n",
    "col"
   ]
  },
  {
   "cell_type": "markdown",
   "metadata": {},
   "source": [
    "doesnt create what is required - can combine str.contains multiple times:"
   ]
  },
  {
   "cell_type": "code",
   "execution_count": null,
   "metadata": {},
   "outputs": [],
   "source": [
    "# doens't work when trying to extract numerical vlaues at end of string: (anyone know fix?)\n",
    "col_list = [col for col in tariff.columns if col.endswith('.*[0-9].*')]\n",
    "col_list"
   ]
  },
  {
   "cell_type": "code",
   "execution_count": null,
   "metadata": {},
   "outputs": [],
   "source": [
    "#alternsative quick way can be a simple pattern within the numerical strings, however, extract unwanted tariff columns:\n",
    "cl = tariff.columns[tariff.columns.str.contains(pat = '20')]\n",
    "cl"
   ]
  },
  {
   "cell_type": "code",
   "execution_count": null,
   "metadata": {},
   "outputs": [],
   "source": [
    "col = np.array(tariff.columns[tariff.columns.str.contains('20',regex=True)]) # select columns with any muerical value\n",
    "col"
   ]
  },
  {
   "cell_type": "code",
   "execution_count": null,
   "metadata": {},
   "outputs": [],
   "source": [
    "#example using startswith and endswith:\n",
    "col_list = [col for col in tariff.columns if (col.startswith('pref') & col.endswith(\"2\"))]\n",
    "col_list"
   ]
  },
  {
   "cell_type": "code",
   "execution_count": null,
   "metadata": {},
   "outputs": [],
   "source": [
    "c = np.array(tariff.columns[tariff.columns.str.contains(pat = \"pref\") & tariff.columns.str.contains('20',regex=True)])\n",
    "c"
   ]
  },
  {
   "cell_type": "code",
   "execution_count": null,
   "metadata": {},
   "outputs": [],
   "source": [
    "# need to combine commoidty code with c in np.array\n",
    "cd = [\"commodity_code\"]\n",
    "c2 = np.concatenate((cd,c))\n",
    "tariff[c2].head()"
   ]
  },
  {
   "cell_type": "code",
   "execution_count": null,
   "metadata": {},
   "outputs": [],
   "source": [
    "# full solution:\n",
    "c = np.array(tariff.columns[tariff.columns.str.contains(pat = \"pref\") & tariff.columns.str.contains('20',regex=True)])\n",
    "cd = [\"commodity_code\"]\n",
    "c2 = np.concatenate((cd,c))\n",
    "tariff2 = tariff[c2]\n",
    "tariff2.head()"
   ]
  },
  {
   "cell_type": "markdown",
   "metadata": {},
   "source": [
    "****"
   ]
  },
  {
   "cell_type": "markdown",
   "metadata": {},
   "source": [
    "### 1c. Relocate columns:"
   ]
  },
  {
   "cell_type": "markdown",
   "metadata": {},
   "source": [
    "I am currnelty unaware of a single line function which acheives this like relocate in tidyverse. However it takes a few lines having specified the columns wanting to be relocated within the df."
   ]
  },
  {
   "cell_type": "markdown",
   "metadata": {},
   "source": [
    "Example: trade data set - move flow column next to trade value"
   ]
  },
  {
   "cell_type": "code",
   "execution_count": null,
   "metadata": {},
   "outputs": [],
   "source": [
    "trade2 = trade.copy()"
   ]
  },
  {
   "cell_type": "code",
   "execution_count": null,
   "metadata": {},
   "outputs": [],
   "source": [
    "# name column(s) to be moved:\n",
    "col = trade2[[\"flow\"]]\n",
    "# drop column in df\n",
    "trade2.drop(labels=[\"flow\"], axis = 1, inplace = True)\n",
    "# insert column back in and select position. Value gbp is column 5(4 when index starts at 0). \n",
    "trade2.insert(4,\"flow\",col)\n",
    "trade2.head()"
   ]
  },
  {
   "cell_type": "code",
   "execution_count": null,
   "metadata": {},
   "outputs": [],
   "source": [
    "# Can easily move multiple columns using same method:\n",
    "cols = trade2[[\"country_name\",\"country_code\"]]\n",
    "col1 = trade2[\"country_name\"]\n",
    "col2 = trade2[\"country_code\"]\n",
    "trade2.drop(cols, axis = 1, inplace = True)\n",
    "# insert column back in and select position. Value gbp is column 5(4 when index starts at 0). \n",
    "trade2.insert(1,\"country_name\",col1)\n",
    "trade2.insert(1,\"country_code\",col2)\n",
    "trade2.head()"
   ]
  },
  {
   "cell_type": "markdown",
   "metadata": {},
   "source": [
    "If you want to move a larger selection of columns the above method isn't the most helpful. You can more easily specific the seleciton naming the order of columns (similar to select in tidyverse):"
   ]
  },
  {
   "cell_type": "code",
   "execution_count": null,
   "metadata": {},
   "outputs": [],
   "source": [
    "trade2 = trade[[\"year\",\"country_code\",\"country_name\",\"flow\",\"commodity_code\",\"value_gbp\",\"suppression_notes\"]]\n",
    "trade2.head()"
   ]
  },
  {
   "cell_type": "markdown",
   "metadata": {},
   "source": [
    "However if you have alot more columns this is also not particularly helpful if you want to decrease time writing out column names.."
   ]
  },
  {
   "cell_type": "code",
   "execution_count": 291,
   "metadata": {},
   "outputs": [
    {
     "data": {
      "text/plain": [
       "commodity_heading                           object\n",
       "commodity_code                               int64\n",
       "commodity_code_description                  object\n",
       "preferential_applied_duty_rate_2021         object\n",
       "preferential_applied_duty_rate_2022         object\n",
       "preferential_applied_duty_rate_2023         object\n",
       "preferential_applied_duty_rate_2024         object\n",
       "preferential_applied_duty_rate_excluded     object\n",
       "mfn_applied_duty_rate                       object\n",
       "mfn_applied_rate_ukgt                       object\n",
       "in_quota_tariff_line_code                  float64\n",
       "tariff_status_2021                          object\n",
       "tariff_status_final_2021                    object\n",
       "tariff_status_2022                          object\n",
       "tariff_status_final_2022                    object\n",
       "tariff_status_2023                          object\n",
       "tariff_status_final_2023                    object\n",
       "tariff_status_2024                          object\n",
       "tariff_status_final_2024                    object\n",
       "dtype: object"
      ]
     },
     "execution_count": 291,
     "metadata": {},
     "output_type": "execute_result"
    }
   ],
   "source": [
    "#example df:\n",
    "    \n",
    "prefCol = [col for col in tariff.columns if 'pref' in col]\n",
    "mfnCol = [col for col in tariff.columns if 'mfn' in col]\n",
    "codeCol = [col for col in tariff.columns if 'commodity' in col]\n",
    "tariffCol = [col for col in tariff.columns if 'tariff' in col]\n",
    "colNames2 =  np.concatenate((codeCol,prefCol, mfnCol,tariffCol))\n",
    "tariff2 = tariff[colNames2]\n",
    "tariff2.dtypes"
   ]
  },
  {
   "cell_type": "markdown",
   "metadata": {},
   "source": [
    " "
   ]
  },
  {
   "cell_type": "markdown",
   "metadata": {},
   "source": [
    "There are alot of pattenr recogmition strings within this dataframe. However i am approaching this as if there weren't and we wanted to relocate multiple columns ot select positions within a df."
   ]
  },
  {
   "cell_type": "code",
   "execution_count": 288,
   "metadata": {},
   "outputs": [],
   "source": [
    "tariff2 = tariff.copy()"
   ]
  },
  {
   "cell_type": "code",
   "execution_count": 313,
   "metadata": {},
   "outputs": [
    {
     "data": {
      "text/plain": [
       "mfn_applied_duty_rate                       object\n",
       "mfn_applied_rate_ukgt                       object\n",
       "commodity_heading                           object\n",
       "commodity_code                               int64\n",
       "commodity_code_description                  object\n",
       "preferential_applied_duty_rate_2021         object\n",
       "preferential_applied_duty_rate_2022         object\n",
       "preferential_applied_duty_rate_2023         object\n",
       "preferential_applied_duty_rate_2024         object\n",
       "preferential_applied_duty_rate_excluded     object\n",
       "in_quota_tariff_line_code                  float64\n",
       "tariff_status_2021                          object\n",
       "tariff_status_final_2021                    object\n",
       "tariff_status_2022                          object\n",
       "tariff_status_final_2022                    object\n",
       "tariff_status_2023                          object\n",
       "tariff_status_final_2023                    object\n",
       "tariff_status_2024                          object\n",
       "tariff_status_final_2024                    object\n",
       "dtype: object"
      ]
     },
     "execution_count": 313,
     "metadata": {},
     "output_type": "execute_result"
    }
   ],
   "source": [
    "# relocate MFN columns to front of data frame (method is useful when moving numerous columns to new position)\n",
    "cols_to_move = [\"mfn_applied_duty_rate\",\"mfn_applied_rate_ukgt\"]\n",
    "#col_index = [\"commo\n",
    "tariff3 = tariff2[cols_to_move + [ col for col in tariff2.columns if col not in cols_to_move ]]\n",
    "tariff3.dtypes"
   ]
  },
  {
   "cell_type": "code",
   "execution_count": 312,
   "metadata": {},
   "outputs": [
    {
     "data": {
      "text/plain": [
       "commodity_heading                           object\n",
       "commodity_code                               int64\n",
       "commodity_code_description                  object\n",
       "preferential_applied_duty_rate_2021         object\n",
       "preferential_applied_duty_rate_2022         object\n",
       "preferential_applied_duty_rate_2023         object\n",
       "preferential_applied_duty_rate_2024         object\n",
       "preferential_applied_duty_rate_excluded     object\n",
       "mfn_applied_duty_rate                       object\n",
       "mfn_applied_rate_ukgt                       object\n",
       "in_quota_tariff_line_code                  float64\n",
       "tariff_status_2021                          object\n",
       "tariff_status_final_2021                    object\n",
       "tariff_status_2022                          object\n",
       "tariff_status_final_2022                    object\n",
       "tariff_status_2023                          object\n",
       "tariff_status_final_2023                    object\n",
       "tariff_status_2024                          object\n",
       "tariff_status_final_2024                    object\n",
       "dtype: object"
      ]
     },
     "execution_count": 312,
     "metadata": {},
     "output_type": "execute_result"
    }
   ],
   "source": [
    "tariff2.dtypes"
   ]
  },
  {
   "cell_type": "code",
   "execution_count": 292,
   "metadata": {},
   "outputs": [
    {
     "data": {
      "text/plain": [
       "commodity_heading                           object\n",
       "commodity_code                               int64\n",
       "commodity_code_description                  object\n",
       "mfn_applied_duty_rate                       object\n",
       "mfn_applied_rate_ukgt                       object\n",
       "in_quota_tariff_line_code                  float64\n",
       "tariff_status_2021                          object\n",
       "tariff_status_final_2021                    object\n",
       "tariff_status_2022                          object\n",
       "tariff_status_final_2022                    object\n",
       "tariff_status_2023                          object\n",
       "tariff_status_final_2023                    object\n",
       "tariff_status_2024                          object\n",
       "tariff_status_final_2024                    object\n",
       "preferential_applied_duty_rate_2021         object\n",
       "preferential_applied_duty_rate_2022         object\n",
       "preferential_applied_duty_rate_2023         object\n",
       "preferential_applied_duty_rate_2024         object\n",
       "preferential_applied_duty_rate_excluded     object\n",
       "dtype: object"
      ]
     },
     "execution_count": 292,
     "metadata": {},
     "output_type": "execute_result"
    }
   ],
   "source": [
    "# move pref columns to end of df\n",
    "cols_to_move = [col for col in tariff.columns if 'pref' in col]\n",
    "tariff3 = tariff2[[ col for col in tariff2.columns if col not in cols_to_move ]+cols_to_move]\n",
    "tariff3.dtypes"
   ]
  },
  {
   "cell_type": "markdown",
   "metadata": {},
   "source": [
    "### **Still looking for solution to move selected columns to arbitary postion in df, i,e, relocate pref columns after \"in_quota_tariff_line_code\" for example**"
   ]
  },
  {
   "cell_type": "markdown",
   "metadata": {},
   "source": [
    " "
   ]
  },
  {
   "cell_type": "markdown",
   "metadata": {},
   "source": [
    "****"
   ]
  },
  {
   "cell_type": "markdown",
   "metadata": {},
   "source": [
    "## 2. Create new columns"
   ]
  },
  {
   "cell_type": "code",
   "execution_count": null,
   "metadata": {},
   "outputs": [],
   "source": []
  }
 ],
 "metadata": {
  "kernelspec": {
   "display_name": "Python 3",
   "language": "python",
   "name": "python3"
  },
  "language_info": {
   "codemirror_mode": {
    "name": "ipython",
    "version": 3
   },
   "file_extension": ".py",
   "mimetype": "text/x-python",
   "name": "python",
   "nbconvert_exporter": "python",
   "pygments_lexer": "ipython3",
   "version": "3.9.7"
  }
 },
 "nbformat": 4,
 "nbformat_minor": 4
}
